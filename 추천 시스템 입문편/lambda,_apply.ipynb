{
  "nbformat": 4,
  "nbformat_minor": 0,
  "metadata": {
    "colab": {
      "provenance": []
    },
    "kernelspec": {
      "name": "python3",
      "display_name": "Python 3"
    },
    "language_info": {
      "name": "python"
    }
  },
  "cells": [
    {
      "cell_type": "markdown",
      "source": [
        "### Python Lambda"
      ],
      "metadata": {
        "id": "z2Ph8ReCw12P"
      }
    },
    {
      "cell_type": "code",
      "source": [
        "# def == define, definition\n",
        "# 모든 숫자에다가 1을 더해주는 함수 생성\n",
        "def add_1(x):\n",
        "    return x + 1"
      ],
      "metadata": {
        "id": "LBV_otMqxAPB"
      },
      "execution_count": 1,
      "outputs": []
    },
    {
      "cell_type": "code",
      "source": [
        "add_1(4)"
      ],
      "metadata": {
        "colab": {
          "base_uri": "https://localhost:8080/"
        },
        "id": "nKD593iexYnP",
        "outputId": "e8f58c9c-4b08-4ad9-b63b-947172776ea5"
      },
      "execution_count": 2,
      "outputs": [
        {
          "output_type": "execute_result",
          "data": {
            "text/plain": [
              "5"
            ]
          },
          "metadata": {},
          "execution_count": 2
        }
      ]
    },
    {
      "cell_type": "code",
      "source": [
        "# 람다를 이용해 동일하게 동작\n",
        "add_1 = lambda x: x + 1"
      ],
      "metadata": {
        "id": "4PWDlaMmxbV_"
      },
      "execution_count": 3,
      "outputs": []
    },
    {
      "cell_type": "code",
      "source": [
        "add_1(2)"
      ],
      "metadata": {
        "colab": {
          "base_uri": "https://localhost:8080/"
        },
        "id": "PQDgXex_xeHW",
        "outputId": "6440f9dd-99a5-4689-e620-1bf3382e46a1"
      },
      "execution_count": 4,
      "outputs": [
        {
          "output_type": "execute_result",
          "data": {
            "text/plain": [
              "3"
            ]
          },
          "metadata": {},
          "execution_count": 4
        }
      ]
    },
    {
      "cell_type": "markdown",
      "source": [
        "### 정규표현식을 사용하지 않고, 개봉연도 추출하기"
      ],
      "metadata": {
        "id": "7KgPSZ6nzTNI"
      }
    },
    {
      "cell_type": "code",
      "source": [
        "import pandas as pd"
      ],
      "metadata": {
        "id": "cWR_QPdmxqcT"
      },
      "execution_count": 6,
      "outputs": []
    },
    {
      "cell_type": "code",
      "source": [
        "movies = pd.read_csv('/content/drive/MyDrive/Colab Notebooks/추천 시스템 입문편/data/ml-latest-small/movies.csv', index_col='movieId')\n",
        "movies.sample()"
      ],
      "metadata": {
        "colab": {
          "base_uri": "https://localhost:8080/",
          "height": 112
        },
        "id": "xuSqpYw9xuCj",
        "outputId": "e5b34afc-7ada-4fb7-c1c4-8738c75aeda7"
      },
      "execution_count": 7,
      "outputs": [
        {
          "output_type": "execute_result",
          "data": {
            "text/plain": [
              "                                        title         genres\n",
              "movieId                                                     \n",
              "5417     Fast Runner, The (Atanarjuat) (2001)  Drama|Fantasy"
            ],
            "text/html": [
              "\n",
              "  <div id=\"df-e276abc6-b74d-465f-9e79-f627c6305dc3\">\n",
              "    <div class=\"colab-df-container\">\n",
              "      <div>\n",
              "<style scoped>\n",
              "    .dataframe tbody tr th:only-of-type {\n",
              "        vertical-align: middle;\n",
              "    }\n",
              "\n",
              "    .dataframe tbody tr th {\n",
              "        vertical-align: top;\n",
              "    }\n",
              "\n",
              "    .dataframe thead th {\n",
              "        text-align: right;\n",
              "    }\n",
              "</style>\n",
              "<table border=\"1\" class=\"dataframe\">\n",
              "  <thead>\n",
              "    <tr style=\"text-align: right;\">\n",
              "      <th></th>\n",
              "      <th>title</th>\n",
              "      <th>genres</th>\n",
              "    </tr>\n",
              "    <tr>\n",
              "      <th>movieId</th>\n",
              "      <th></th>\n",
              "      <th></th>\n",
              "    </tr>\n",
              "  </thead>\n",
              "  <tbody>\n",
              "    <tr>\n",
              "      <th>5417</th>\n",
              "      <td>Fast Runner, The (Atanarjuat) (2001)</td>\n",
              "      <td>Drama|Fantasy</td>\n",
              "    </tr>\n",
              "  </tbody>\n",
              "</table>\n",
              "</div>\n",
              "      <button class=\"colab-df-convert\" onclick=\"convertToInteractive('df-e276abc6-b74d-465f-9e79-f627c6305dc3')\"\n",
              "              title=\"Convert this dataframe to an interactive table.\"\n",
              "              style=\"display:none;\">\n",
              "        \n",
              "  <svg xmlns=\"http://www.w3.org/2000/svg\" height=\"24px\"viewBox=\"0 0 24 24\"\n",
              "       width=\"24px\">\n",
              "    <path d=\"M0 0h24v24H0V0z\" fill=\"none\"/>\n",
              "    <path d=\"M18.56 5.44l.94 2.06.94-2.06 2.06-.94-2.06-.94-.94-2.06-.94 2.06-2.06.94zm-11 1L8.5 8.5l.94-2.06 2.06-.94-2.06-.94L8.5 2.5l-.94 2.06-2.06.94zm10 10l.94 2.06.94-2.06 2.06-.94-2.06-.94-.94-2.06-.94 2.06-2.06.94z\"/><path d=\"M17.41 7.96l-1.37-1.37c-.4-.4-.92-.59-1.43-.59-.52 0-1.04.2-1.43.59L10.3 9.45l-7.72 7.72c-.78.78-.78 2.05 0 2.83L4 21.41c.39.39.9.59 1.41.59.51 0 1.02-.2 1.41-.59l7.78-7.78 2.81-2.81c.8-.78.8-2.07 0-2.86zM5.41 20L4 18.59l7.72-7.72 1.47 1.35L5.41 20z\"/>\n",
              "  </svg>\n",
              "      </button>\n",
              "      \n",
              "  <style>\n",
              "    .colab-df-container {\n",
              "      display:flex;\n",
              "      flex-wrap:wrap;\n",
              "      gap: 12px;\n",
              "    }\n",
              "\n",
              "    .colab-df-convert {\n",
              "      background-color: #E8F0FE;\n",
              "      border: none;\n",
              "      border-radius: 50%;\n",
              "      cursor: pointer;\n",
              "      display: none;\n",
              "      fill: #1967D2;\n",
              "      height: 32px;\n",
              "      padding: 0 0 0 0;\n",
              "      width: 32px;\n",
              "    }\n",
              "\n",
              "    .colab-df-convert:hover {\n",
              "      background-color: #E2EBFA;\n",
              "      box-shadow: 0px 1px 2px rgba(60, 64, 67, 0.3), 0px 1px 3px 1px rgba(60, 64, 67, 0.15);\n",
              "      fill: #174EA6;\n",
              "    }\n",
              "\n",
              "    [theme=dark] .colab-df-convert {\n",
              "      background-color: #3B4455;\n",
              "      fill: #D2E3FC;\n",
              "    }\n",
              "\n",
              "    [theme=dark] .colab-df-convert:hover {\n",
              "      background-color: #434B5C;\n",
              "      box-shadow: 0px 1px 3px 1px rgba(0, 0, 0, 0.15);\n",
              "      filter: drop-shadow(0px 1px 2px rgba(0, 0, 0, 0.3));\n",
              "      fill: #FFFFFF;\n",
              "    }\n",
              "  </style>\n",
              "\n",
              "      <script>\n",
              "        const buttonEl =\n",
              "          document.querySelector('#df-e276abc6-b74d-465f-9e79-f627c6305dc3 button.colab-df-convert');\n",
              "        buttonEl.style.display =\n",
              "          google.colab.kernel.accessAllowed ? 'block' : 'none';\n",
              "\n",
              "        async function convertToInteractive(key) {\n",
              "          const element = document.querySelector('#df-e276abc6-b74d-465f-9e79-f627c6305dc3');\n",
              "          const dataTable =\n",
              "            await google.colab.kernel.invokeFunction('convertToInteractive',\n",
              "                                                     [key], {});\n",
              "          if (!dataTable) return;\n",
              "\n",
              "          const docLinkHtml = 'Like what you see? Visit the ' +\n",
              "            '<a target=\"_blank\" href=https://colab.research.google.com/notebooks/data_table.ipynb>data table notebook</a>'\n",
              "            + ' to learn more about interactive tables.';\n",
              "          element.innerHTML = '';\n",
              "          dataTable['output_type'] = 'display_data';\n",
              "          await google.colab.output.renderOutput(dataTable, element);\n",
              "          const docLink = document.createElement('div');\n",
              "          docLink.innerHTML = docLinkHtml;\n",
              "          element.appendChild(docLink);\n",
              "        }\n",
              "      </script>\n",
              "    </div>\n",
              "  </div>\n",
              "  "
            ]
          },
          "metadata": {},
          "execution_count": 7
        }
      ]
    },
    {
      "cell_type": "code",
      "source": [
        "sample_title = movies['title'][1]\n",
        "sample_title"
      ],
      "metadata": {
        "colab": {
          "base_uri": "https://localhost:8080/",
          "height": 35
        },
        "id": "_C9Y6E7Mx9nY",
        "outputId": "6e3f90eb-8108-4369-e10e-c0e56d213e04"
      },
      "execution_count": 8,
      "outputs": [
        {
          "output_type": "execute_result",
          "data": {
            "text/plain": [
              "'Toy Story (1995)'"
            ],
            "application/vnd.google.colaboratory.intrinsic+json": {
              "type": "string"
            }
          },
          "metadata": {},
          "execution_count": 8
        }
      ]
    },
    {
      "cell_type": "code",
      "source": [
        "# 0-3 index\n",
        "sample_title[:4]"
      ],
      "metadata": {
        "colab": {
          "base_uri": "https://localhost:8080/",
          "height": 35
        },
        "id": "RFNCccgtyLho",
        "outputId": "02f03dd3-f34a-499a-fb71-f32d15ac3ec2"
      },
      "execution_count": 9,
      "outputs": [
        {
          "output_type": "execute_result",
          "data": {
            "text/plain": [
              "'Toy '"
            ],
            "application/vnd.google.colaboratory.intrinsic+json": {
              "type": "string"
            }
          },
          "metadata": {},
          "execution_count": 9
        }
      ]
    },
    {
      "cell_type": "code",
      "source": [
        "sample_title[-5:-1]"
      ],
      "metadata": {
        "colab": {
          "base_uri": "https://localhost:8080/",
          "height": 35
        },
        "id": "JklM77TayUcf",
        "outputId": "9c7da4bf-9e13-43ce-bd78-024c0d2aed8a"
      },
      "execution_count": 10,
      "outputs": [
        {
          "output_type": "execute_result",
          "data": {
            "text/plain": [
              "'1995'"
            ],
            "application/vnd.google.colaboratory.intrinsic+json": {
              "type": "string"
            }
          },
          "metadata": {},
          "execution_count": 10
        }
      ]
    },
    {
      "cell_type": "code",
      "source": [
        "def get_year(x):\n",
        "    return x[-5:-1]"
      ],
      "metadata": {
        "id": "5semd4BfyX5_"
      },
      "execution_count": 11,
      "outputs": []
    },
    {
      "cell_type": "code",
      "source": [
        "get_year(sample_title)"
      ],
      "metadata": {
        "colab": {
          "base_uri": "https://localhost:8080/",
          "height": 35
        },
        "id": "izev7dKKybla",
        "outputId": "e1bbf383-f318-44ac-cc3b-cc1913d0fcec"
      },
      "execution_count": 12,
      "outputs": [
        {
          "output_type": "execute_result",
          "data": {
            "text/plain": [
              "'1995'"
            ],
            "application/vnd.google.colaboratory.intrinsic+json": {
              "type": "string"
            }
          },
          "metadata": {},
          "execution_count": 12
        }
      ]
    },
    {
      "cell_type": "code",
      "source": [
        "# 전체에 적용\n",
        "years = []\n",
        "for title in movies['title']:\n",
        "    years.append(get_year(title))"
      ],
      "metadata": {
        "id": "sKETFutNyfBY"
      },
      "execution_count": 13,
      "outputs": []
    },
    {
      "cell_type": "code",
      "source": [
        "# 중복 제거\n",
        "print(set(years))"
      ],
      "metadata": {
        "colab": {
          "base_uri": "https://localhost:8080/"
        },
        "id": "k7iTwFzIymun",
        "outputId": "73be3714-2db5-4f89-b2be-18f894835029"
      },
      "execution_count": 16,
      "outputs": [
        {
          "output_type": "stream",
          "name": "stdout",
          "text": [
            "{'1908', '1939', '1944', '1998', 'atso', '011)', '1953', '1930', '1997', '1979', 'ron ', '1924', '1952', '1990', '1928', '1948', '1919', ' Roa', '1915', '973)', '1982', '1995', '2007', '2006', '1992', '2014', 'irro', '1993', '1960', '1967', '1981', '1976', '2011', '1977', '1926', '1996', '1949', '1974', '1933', '1991', '1963', '2015', 'erso', '1917', '2018', '1923', 'ligh', '1922', '1984', '1929', 'he O', '1961', '995)', '1958', '1921', '1983', '1964', '1920', '1938', '2012', '1943', '014)', '007)', '2013', '1970', '2009', '1962', '1989', '1959', '1935', '2010', '1968', '1942', '2003', '2008', '1956', '2002', '1975', '1957', '1947', '2001', '2004', '1931', '1965', '1950', 'r On', ' Bab', '1955', '1985', '1937', '1946', '1987', '1945', '999)', '1932', '012)', '1986', '1966', '1973', '1902', 'lon ', '1916', 'imal', '1999', '008)', '1934', '1988', '1936', '1925', '1954', '2017', '1940', '1980', '1971', '2000', '1941', '2016', '1951', '1927', '1994', 'osmo', '1978', '2005', '1903', '998)', '1969', '1972'}\n"
          ]
        }
      ]
    },
    {
      "cell_type": "markdown",
      "source": [
        "### Pandas Lambda와 Apply를 이용해 간단하게 풀어보기"
      ],
      "metadata": {
        "id": "b6gwU0MXy3_C"
      }
    },
    {
      "cell_type": "code",
      "source": [
        "# apply는 for문의 기능을 대신해줌\n",
        "# apply : title이라는 컬럼에 함수를 반복 적용\n",
        "movies['title'].apply(get_year)"
      ],
      "metadata": {
        "colab": {
          "base_uri": "https://localhost:8080/"
        },
        "id": "x_TYyi0hzAfB",
        "outputId": "8d3b121f-e593-4748-d8bd-f07a612e56c8"
      },
      "execution_count": 17,
      "outputs": [
        {
          "output_type": "execute_result",
          "data": {
            "text/plain": [
              "movieId\n",
              "1         1995\n",
              "2         1995\n",
              "3         1995\n",
              "4         1995\n",
              "5         1995\n",
              "          ... \n",
              "193581    2017\n",
              "193583    2017\n",
              "193585    2017\n",
              "193587    2018\n",
              "193609    1991\n",
              "Name: title, Length: 9742, dtype: object"
            ]
          },
          "metadata": {},
          "execution_count": 17
        }
      ]
    },
    {
      "cell_type": "code",
      "source": [
        "# lambda는 간단한 함수를 만들지 않아도 되도록 함\n",
        "# apply(함수) : 함수를 lambda 함수로도 써 줄 수 있음\n",
        "movies['year'] = movies['title'].apply(lambda x: x[-5:-1])\n",
        "movies['year'].unique()"
      ],
      "metadata": {
        "colab": {
          "base_uri": "https://localhost:8080/"
        },
        "id": "UYnVJZ64zeA1",
        "outputId": "fe81d31b-5657-4c39-c6e9-b51cd674deeb"
      },
      "execution_count": 21,
      "outputs": [
        {
          "output_type": "execute_result",
          "data": {
            "text/plain": [
              "array(['1995', '1994', '1996', '1976', '1992', '1967', '1993', '1964',\n",
              "       '1977', '1965', '1982', '1990', '1991', '1989', '1937', '1940',\n",
              "       '1969', '1981', '1973', '1970', '1955', '1959', '1968', '1988',\n",
              "       '1997', '1972', '1943', '1952', '1951', '1957', '1961', '1958',\n",
              "       '1954', '1934', '1944', '1960', '1963', '1942', '1941', '1953',\n",
              "       '1939', '1950', '1946', '1945', '1938', '1947', '1935', '1936',\n",
              "       '1956', '1949', '1932', '1975', '1974', '1971', '1979', '1987',\n",
              "       '1986', '1980', '1978', '1985', '1966', '1962', '1983', '1984',\n",
              "       '1948', '1933', '1931', '1922', '1998', '1929', '1930', '1927',\n",
              "       '1928', '1999', '2000', '1926', '1919', '1921', '1925', '1923',\n",
              "       '2001', '2002', '2003', '1920', '1915', '1924', '2004', '1916',\n",
              "       '1917', '999)', '2005', '2006', '1902', 'lon ', '1903', '2007',\n",
              "       '2008', '008)', '007)', '2009', '2010', '2011', '2012', '011)',\n",
              "       '998)', '995)', '2013', '012)', '973)', '2014', '2015', '014)',\n",
              "       '2016', '2017', '2018', '1908', 'r On', ' Roa', 'atso', 'imal',\n",
              "       'erso', 'ligh', 'he O', 'osmo', ' Bab', 'ron ', 'irro'],\n",
              "      dtype=object)"
            ]
          },
          "metadata": {},
          "execution_count": 21
        }
      ]
    }
  ]
}