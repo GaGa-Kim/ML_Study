{
  "nbformat": 4,
  "nbformat_minor": 0,
  "metadata": {
    "colab": {
      "provenance": [],
      "toc_visible": true
    },
    "kernelspec": {
      "name": "python3",
      "display_name": "Python 3"
    },
    "language_info": {
      "name": "python"
    }
  },
  "cells": [
    {
      "cell_type": "code",
      "execution_count": 1,
      "metadata": {
        "colab": {
          "base_uri": "https://localhost:8080/"
        },
        "id": "3VrxjVba1TLQ",
        "outputId": "97f6ec46-9168-440e-b49f-fb325115ecd5"
      },
      "outputs": [
        {
          "output_type": "stream",
          "name": "stdout",
          "text": [
            "Hello World!\n"
          ]
        }
      ],
      "source": [
        "print('Hello World!')"
      ]
    },
    {
      "cell_type": "markdown",
      "source": [
        "# 대제목\n",
        "- 내용 1\n",
        "- 내용 2\n",
        "1. 숫자 1\n",
        "2. 숫자 2\n",
        "3. 숫자 3"
      ],
      "metadata": {
        "id": "74awaP8f17-r"
      }
    },
    {
      "cell_type": "markdown",
      "source": [
        "## 중제목"
      ],
      "metadata": {
        "id": "Eo3aL2lE3LiT"
      }
    },
    {
      "cell_type": "markdown",
      "source": [
        "### 소제목"
      ],
      "metadata": {
        "id": "PowM7WFc3M28"
      }
    }
  ]
}