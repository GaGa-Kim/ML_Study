{
  "nbformat": 4,
  "nbformat_minor": 0,
  "metadata": {
    "colab": {
      "provenance": [],
      "collapsed_sections": []
    },
    "kernelspec": {
      "name": "python3",
      "display_name": "Python 3"
    },
    "language_info": {
      "name": "python"
    }
  },
  "cells": [
    {
      "cell_type": "markdown",
      "source": [
        "# 케라스로 RNN 구현하기"
      ],
      "metadata": {
        "id": "CwRw7P9nD9uy"
      }
    },
    {
      "cell_type": "markdown",
      "source": [
        "### SimpleRNN()"
      ],
      "metadata": {
        "id": "aPLu-8hrD-IL"
      }
    },
    {
      "cell_type": "code",
      "source": [
        "import tensorflow as tf"
      ],
      "metadata": {
        "id": "mxN6s-MbEixC"
      },
      "execution_count": 18,
      "outputs": []
    },
    {
      "cell_type": "code",
      "source": [
        "tf.__version__"
      ],
      "metadata": {
        "colab": {
          "base_uri": "https://localhost:8080/",
          "height": 35
        },
        "id": "Fv0gaer5EkFU",
        "outputId": "91d00972-d714-4a77-9a48-e86c7a063a59"
      },
      "execution_count": 19,
      "outputs": [
        {
          "output_type": "execute_result",
          "data": {
            "text/plain": [
              "'2.8.2'"
            ],
            "application/vnd.google.colaboratory.intrinsic+json": {
              "type": "string"
            }
          },
          "metadata": {},
          "execution_count": 19
        }
      ]
    },
    {
      "cell_type": "code",
      "source": [
        "from tensorflow.keras.models import Sequential\n",
        "from tensorflow.keras.layers import SimpleRNN"
      ],
      "metadata": {
        "id": "r9b_KBa9EkX7"
      },
      "execution_count": 20,
      "outputs": []
    },
    {
      "cell_type": "markdown",
      "source": [
        "### SimpleRNN 모델의 출력 결과"
      ],
      "metadata": {
        "id": "ALk5trK1D_26"
      }
    },
    {
      "cell_type": "markdown",
      "source": [
        "**1) 출력값이 (batch_size, output_dim) 크기의 2D 텐서이고 입력을 (timesteps, input_dim)로 정의할 때**"
      ],
      "metadata": {
        "id": "SpHD7sezEBoD"
      }
    },
    {
      "cell_type": "code",
      "source": [
        "model = Sequential()\n",
        "model.add(SimpleRNN(3, input_shape=(2,10)))\n",
        "# model.add(SimpleRNN(3, input_length=2, input_dim=10))와 동일\n",
        "model.summary()"
      ],
      "metadata": {
        "colab": {
          "base_uri": "https://localhost:8080/"
        },
        "id": "FZYiK0wmEqHy",
        "outputId": "8cfb9ce5-2b54-4a18-993e-ba14b9878944"
      },
      "execution_count": 21,
      "outputs": [
        {
          "output_type": "stream",
          "name": "stdout",
          "text": [
            "Model: \"sequential_6\"\n",
            "_________________________________________________________________\n",
            " Layer (type)                Output Shape              Param #   \n",
            "=================================================================\n",
            " simple_rnn_10 (SimpleRNN)   (None, 3)                 42        \n",
            "                                                                 \n",
            "=================================================================\n",
            "Total params: 42\n",
            "Trainable params: 42\n",
            "Non-trainable params: 0\n",
            "_________________________________________________________________\n"
          ]
        }
      ]
    },
    {
      "cell_type": "markdown",
      "source": [
        "**2) 출력값이 (batch_size, output_dim) 크기의 2D 텐서이고 입력을 (batch_size, timesteps, input_dim)로 정의할 때**"
      ],
      "metadata": {
        "id": "lnvNB-eMEC_K"
      }
    },
    {
      "cell_type": "code",
      "source": [
        "model = Sequential()\n",
        "model.add(SimpleRNN(3, batch_input_shape=(8,2,10)))\n",
        "model.summary()"
      ],
      "metadata": {
        "colab": {
          "base_uri": "https://localhost:8080/"
        },
        "id": "L4zBFyEOFENU",
        "outputId": "92436854-c828-43cb-cca5-2e74d1d20047"
      },
      "execution_count": 22,
      "outputs": [
        {
          "output_type": "stream",
          "name": "stdout",
          "text": [
            "Model: \"sequential_7\"\n",
            "_________________________________________________________________\n",
            " Layer (type)                Output Shape              Param #   \n",
            "=================================================================\n",
            " simple_rnn_11 (SimpleRNN)   (8, 3)                    42        \n",
            "                                                                 \n",
            "=================================================================\n",
            "Total params: 42\n",
            "Trainable params: 42\n",
            "Non-trainable params: 0\n",
            "_________________________________________________________________\n"
          ]
        }
      ]
    },
    {
      "cell_type": "markdown",
      "source": [
        "**3) 출력값이 (batch_size, timesteps, output_dim) 크기의 3D 텐서이고 입력을 (batch_size, timesteps, input_dim)로 정의할 때**"
      ],
      "metadata": {
        "id": "jdWu9g1wEEJ6"
      }
    },
    {
      "cell_type": "code",
      "source": [
        "model = Sequential()\n",
        "model.add(SimpleRNN(3, batch_input_shape=(8,2,10), return_sequences=True))\n",
        "model.summary()"
      ],
      "metadata": {
        "colab": {
          "base_uri": "https://localhost:8080/"
        },
        "id": "5Kwg46DlFFPW",
        "outputId": "37689088-1f00-4c09-8d65-08b9820f476e"
      },
      "execution_count": 23,
      "outputs": [
        {
          "output_type": "stream",
          "name": "stdout",
          "text": [
            "Model: \"sequential_8\"\n",
            "_________________________________________________________________\n",
            " Layer (type)                Output Shape              Param #   \n",
            "=================================================================\n",
            " simple_rnn_12 (SimpleRNN)   (8, 2, 3)                 42        \n",
            "                                                                 \n",
            "=================================================================\n",
            "Total params: 42\n",
            "Trainable params: 42\n",
            "Non-trainable params: 0\n",
            "_________________________________________________________________\n"
          ]
        }
      ]
    },
    {
      "cell_type": "markdown",
      "source": [
        "# 파이썬으로 RNN 구현하기"
      ],
      "metadata": {
        "id": "MA5EMZ7xEFby"
      }
    },
    {
      "cell_type": "markdown",
      "source": [
        "### 직접 Numpy로 RNN 층 구현하기"
      ],
      "metadata": {
        "id": "o5H06OIpEHXq"
      }
    },
    {
      "cell_type": "markdown",
      "source": [
        "**1) 시점의 수(문장의 길이)인 timesteps, 입력의 차원(단어 벡터의 차원)인 input_dim, 은닉 상태의 크기(메모리 셀의 용량)인 hidden_units을 정의**"
      ],
      "metadata": {
        "id": "xQ9qixzZEIq5"
      }
    },
    {
      "cell_type": "code",
      "source": [
        "import numpy as np\n",
        "\n",
        "timesteps = 10 # 시점의 수. NLP에서는 보통 문장의 길이가 된다.\n",
        "input_dim = 4 # 입력의 차원. NLP에서는 보통 단어 벡터의 차원이 된다.\n",
        "hidden_size = 8 # 은닉 상태의 크기. 메모리 셀의 용량이다.\n",
        "\n",
        "inputs = np.random.random((timesteps, input_dim)) # 입력에 해당되는 2D 텐서\n",
        "\n",
        "# 은닉 상태의 크기 hidden_size로 은닉 상태를 만듬.\n",
        "hidden_state_t = np.zeros((hidden_size,)) # 초기 은닉 상태는 0(벡터)로 초기화"
      ],
      "metadata": {
        "id": "VtB3xyTlFHgG"
      },
      "execution_count": 24,
      "outputs": []
    },
    {
      "cell_type": "markdown",
      "source": [
        "**2) 초기 은닉 상태를 0의 값을 가지는 벡터로 초기화 후 초기 은닉 상태 출력**"
      ],
      "metadata": {
        "id": "NNu5rT_PELVK"
      }
    },
    {
      "cell_type": "code",
      "source": [
        "# 은닉 상태의 크기 hidden_size로 은닉 상태를 만듬.# 8의 크기를 가지는 은닉 상태. 현재는 초기 은닉 상태로 모든 차원이 0의 값을 가짐.\n",
        "print(hidden_state_t)"
      ],
      "metadata": {
        "colab": {
          "base_uri": "https://localhost:8080/"
        },
        "id": "lm8u-g2cFIzJ",
        "outputId": "4f42cbac-107b-4eec-8eb8-14f6c8452f1d"
      },
      "execution_count": 25,
      "outputs": [
        {
          "output_type": "stream",
          "name": "stdout",
          "text": [
            "[0. 0. 0. 0. 0. 0. 0. 0.]\n"
          ]
        }
      ]
    },
    {
      "cell_type": "markdown",
      "source": [
        "**3) 가중치와 편향을 각 크기에 맞게 정의하고 크기를 출력**"
      ],
      "metadata": {
        "id": "eLj-MMISENCz"
      }
    },
    {
      "cell_type": "code",
      "source": [
        "Wx = np.random.random((hidden_size, input_dim))  # (8, 4)크기의 2D 텐서 생성. 입력에 대한 가중치.\n",
        "Wh = np.random.random((hidden_size, hidden_size)) # (8, 8)크기의 2D 텐서 생성. 은닉 상태에 대한 가중치.\n",
        "b = np.random.random((hidden_size,)) # (8,)크기의 1D 텐서 생성. 이 값은 편향(bias)."
      ],
      "metadata": {
        "id": "XlfMLN37FJ48"
      },
      "execution_count": 26,
      "outputs": []
    },
    {
      "cell_type": "code",
      "source": [
        "print(np.shape(Wx))\n",
        "print(np.shape(Wh))\n",
        "print(np.shape(b))"
      ],
      "metadata": {
        "colab": {
          "base_uri": "https://localhost:8080/"
        },
        "id": "MOEcSM5wFKfi",
        "outputId": "b6b3182d-cf8b-4b2f-e926-3dc1d75a67c4"
      },
      "execution_count": 27,
      "outputs": [
        {
          "output_type": "stream",
          "name": "stdout",
          "text": [
            "(8, 4)\n",
            "(8, 8)\n",
            "(8,)\n"
          ]
        }
      ]
    },
    {
      "cell_type": "markdown",
      "source": [
        "**4) 모든 시점의 은닉 상태를 출력한다고 가정하고 RNN 층을 동작**"
      ],
      "metadata": {
        "id": "1KlFgSs2EQAx"
      }
    },
    {
      "cell_type": "code",
      "source": [
        "total_hidden_states = []\n",
        "\n",
        "# 메모리 셀 동작\n",
        "for input_t in inputs: # 각 시점에 따라서 입력값이 입력됨.\n",
        "  output_t = np.tanh(np.dot(Wx,input_t) + np.dot(Wh,hidden_state_t) + b) # Wx * Xt + Wh * Ht-1 + b(bias)\n",
        "  total_hidden_states.append(list(output_t)) # 각 시점의 은닉 상태의 값을 계속해서 축적\n",
        "  print(np.shape(total_hidden_states)) # 각 시점 t별 메모리 셀의 출력의 크기는 (timestep, output_dim)\n",
        "  hidden_state_t = output_t\n",
        "\n",
        "total_hidden_states = np.stack(total_hidden_states, axis = 0) \n",
        "# 출력 시 값을 깔끔하게 해준다.\n",
        "\n",
        "print(total_hidden_states) # (timesteps, output_dim)의 크기. 이 경우 (10, 8)의 크기를 가지는 메모리 셀의 2D 텐서를 출력."
      ],
      "metadata": {
        "colab": {
          "base_uri": "https://localhost:8080/"
        },
        "id": "hS5TTyAnFNYD",
        "outputId": "c8a3cd9c-cbab-4a36-8f6e-996fd1c7fdf8"
      },
      "execution_count": 28,
      "outputs": [
        {
          "output_type": "stream",
          "name": "stdout",
          "text": [
            "(1, 8)\n",
            "(2, 8)\n",
            "(3, 8)\n",
            "(4, 8)\n",
            "(5, 8)\n",
            "(6, 8)\n",
            "(7, 8)\n",
            "(8, 8)\n",
            "(9, 8)\n",
            "(10, 8)\n",
            "[[0.87937286 0.68386273 0.85489811 0.97672323 0.9378183  0.93731179\n",
            "  0.91001751 0.49493412]\n",
            " [0.99975327 0.99991562 0.99909372 0.99996822 0.9989128  0.99961658\n",
            "  0.99952821 0.99478822]\n",
            " [0.99990703 0.9999739  0.99978966 0.999995   0.99978803 0.99993293\n",
            "  0.99988482 0.99810895]\n",
            " [0.99996831 0.99999029 0.99973396 0.99999764 0.99988742 0.99997447\n",
            "  0.99994888 0.99943586]\n",
            " [0.99995485 0.99998795 0.9997375  0.99999721 0.99987538 0.99998323\n",
            "  0.99996569 0.99957187]\n",
            " [0.99991957 0.99997653 0.99980672 0.99999626 0.99982246 0.9999576\n",
            "  0.99992512 0.99865708]\n",
            " [0.99985723 0.9999714  0.99960051 0.99998456 0.99960412 0.99989695\n",
            "  0.99980414 0.99825034]\n",
            " [0.99997767 0.99999425 0.99983912 0.9999992  0.99996875 0.99998749\n",
            "  0.99997944 0.99962306]\n",
            " [0.99996837 0.99999256 0.99972453 0.99999813 0.99992565 0.99999181\n",
            "  0.99998277 0.99979865]\n",
            " [0.99995703 0.99998618 0.99973924 0.9999969  0.9998375  0.99996933\n",
            "  0.99993777 0.99926509]]\n"
          ]
        }
      ]
    },
    {
      "cell_type": "markdown",
      "source": [
        "# 깊은 순환 신경망"
      ],
      "metadata": {
        "id": "O7Bb8TPlERlr"
      }
    },
    {
      "cell_type": "code",
      "source": [
        "model = Sequential()\n",
        "model.add(SimpleRNN(hidden_size, input_length=10, input_dim=5, return_sequences = True))\n",
        "model.add(SimpleRNN(hidden_size, return_sequences = True))\n",
        "model.summary()"
      ],
      "metadata": {
        "colab": {
          "base_uri": "https://localhost:8080/"
        },
        "id": "2E1LC7r3FP_L",
        "outputId": "ac64fd7e-0ea8-455c-eb43-1f2c8597afda"
      },
      "execution_count": 29,
      "outputs": [
        {
          "output_type": "stream",
          "name": "stdout",
          "text": [
            "Model: \"sequential_9\"\n",
            "_________________________________________________________________\n",
            " Layer (type)                Output Shape              Param #   \n",
            "=================================================================\n",
            " simple_rnn_13 (SimpleRNN)   (None, 10, 8)             112       \n",
            "                                                                 \n",
            " simple_rnn_14 (SimpleRNN)   (None, 10, 8)             136       \n",
            "                                                                 \n",
            "=================================================================\n",
            "Total params: 248\n",
            "Trainable params: 248\n",
            "Non-trainable params: 0\n",
            "_________________________________________________________________\n"
          ]
        }
      ]
    },
    {
      "cell_type": "markdown",
      "source": [
        "# 양방향 순환 신경망"
      ],
      "metadata": {
        "id": "ldBEZ4mwESUD"
      }
    },
    {
      "cell_type": "code",
      "source": [
        "from tensorflow.keras.layers import Bidirectional"
      ],
      "metadata": {
        "id": "iIZic3yJFRGj"
      },
      "execution_count": 30,
      "outputs": []
    },
    {
      "cell_type": "code",
      "source": [
        "timesteps = 10\n",
        "input_dim = 5\n",
        "\n",
        "model = Sequential()\n",
        "model.add(Bidirectional(SimpleRNN(hidden_size, return_sequences = True), input_shape=(timesteps, input_dim)))\n",
        "model.summary()"
      ],
      "metadata": {
        "colab": {
          "base_uri": "https://localhost:8080/"
        },
        "id": "vCvhxUudFRpb",
        "outputId": "ca71cba7-9d1f-4866-8472-25f3c0b71ca4"
      },
      "execution_count": 31,
      "outputs": [
        {
          "output_type": "stream",
          "name": "stdout",
          "text": [
            "Model: \"sequential_10\"\n",
            "_________________________________________________________________\n",
            " Layer (type)                Output Shape              Param #   \n",
            "=================================================================\n",
            " bidirectional_5 (Bidirectio  (None, 10, 16)           224       \n",
            " nal)                                                            \n",
            "                                                                 \n",
            "=================================================================\n",
            "Total params: 224\n",
            "Trainable params: 224\n",
            "Non-trainable params: 0\n",
            "_________________________________________________________________\n"
          ]
        }
      ]
    },
    {
      "cell_type": "code",
      "source": [
        "model = Sequential()\n",
        "model.add(Bidirectional(SimpleRNN(hidden_size, return_sequences = True), input_shape=(timesteps, input_dim)))\n",
        "model.add(Bidirectional(SimpleRNN(hidden_size, return_sequences = True)))\n",
        "model.add(Bidirectional(SimpleRNN(hidden_size, return_sequences = True)))\n",
        "model.add(Bidirectional(SimpleRNN(hidden_size, return_sequences = True)))\n",
        "model.summary()"
      ],
      "metadata": {
        "colab": {
          "base_uri": "https://localhost:8080/"
        },
        "id": "NneX1HBDFTKx",
        "outputId": "b58d112b-3226-49ed-b02c-fef9c4575118"
      },
      "execution_count": 32,
      "outputs": [
        {
          "output_type": "stream",
          "name": "stdout",
          "text": [
            "Model: \"sequential_11\"\n",
            "_________________________________________________________________\n",
            " Layer (type)                Output Shape              Param #   \n",
            "=================================================================\n",
            " bidirectional_6 (Bidirectio  (None, 10, 16)           224       \n",
            " nal)                                                            \n",
            "                                                                 \n",
            " bidirectional_7 (Bidirectio  (None, 10, 16)           400       \n",
            " nal)                                                            \n",
            "                                                                 \n",
            " bidirectional_8 (Bidirectio  (None, 10, 16)           400       \n",
            " nal)                                                            \n",
            "                                                                 \n",
            " bidirectional_9 (Bidirectio  (None, 10, 16)           400       \n",
            " nal)                                                            \n",
            "                                                                 \n",
            "=================================================================\n",
            "Total params: 1,424\n",
            "Trainable params: 1,424\n",
            "Non-trainable params: 0\n",
            "_________________________________________________________________\n"
          ]
        }
      ]
    },
    {
      "cell_type": "markdown",
      "source": [
        "# 케라스의 SimpleRNN 이해하기"
      ],
      "metadata": {
        "id": "3Gt26klhEUxS"
      }
    },
    {
      "cell_type": "markdown",
      "source": [
        "### 임의의 입력 생성하기"
      ],
      "metadata": {
        "id": "4EYKhFrhEYIZ"
      }
    },
    {
      "cell_type": "markdown",
      "source": [
        "**1) RNN 테스트를 위한 임의의 입력을 생성**"
      ],
      "metadata": {
        "id": "4Spw8H1kEbGZ"
      }
    },
    {
      "cell_type": "code",
      "source": [
        "train_X = [[0.1, 4.2, 1.5, 1.1, 2.8], [1.0, 3.1, 2.5, 0.7, 1.1], [0.3, 2.1, 1.5, 2.1, 0.1], [2.2, 1.4, 0.5, 0.9, 1.1]]\n",
        "print(np.shape(train_X))"
      ],
      "metadata": {
        "colab": {
          "base_uri": "https://localhost:8080/"
        },
        "id": "p8EdQWpgFVQO",
        "outputId": "ae5af44e-0385-4131-8193-06541ce3d655"
      },
      "execution_count": 33,
      "outputs": [
        {
          "output_type": "stream",
          "name": "stdout",
          "text": [
            "(4, 5)\n"
          ]
        }
      ]
    },
    {
      "cell_type": "markdown",
      "source": [
        "**2) RNN이 입력받도록 하기 위해 입력으로 만든 2D 텐서를 3D 텐서로 변경되도록 배치 크기 1을 추가**"
      ],
      "metadata": {
        "id": "kqCjHfvwEbzL"
      }
    },
    {
      "cell_type": "code",
      "source": [
        "train_X = [[[0.1, 4.2, 1.5, 1.1, 2.8], [1.0, 3.1, 2.5, 0.7, 1.1], [0.3, 2.1, 1.5, 2.1, 0.1], [2.2, 1.4, 0.5, 0.9, 1.1]]]\n",
        "train_X = np.array(train_X, dtype=np.float32)\n",
        "print(train_X.shape)"
      ],
      "metadata": {
        "colab": {
          "base_uri": "https://localhost:8080/"
        },
        "id": "VbahssLbFcAs",
        "outputId": "d799e4e3-1135-434c-b5f6-37ddfe98d575"
      },
      "execution_count": 34,
      "outputs": [
        {
          "output_type": "stream",
          "name": "stdout",
          "text": [
            "(1, 4, 5)\n"
          ]
        }
      ]
    },
    {
      "cell_type": "markdown",
      "source": [
        "### SimpleRNN 이해하기"
      ],
      "metadata": {
        "id": "TJAtstcqEZRS"
      }
    },
    {
      "cell_type": "markdown",
      "source": [
        "**1) return_seqeunces와 return_state 인자를 둘 다 False로 지정한 후 출력하기**"
      ],
      "metadata": {
        "id": "wi88y1l6Edcj"
      }
    },
    {
      "cell_type": "code",
      "source": [
        "rnn = SimpleRNN(3)\n",
        "# rnn = SimpleRNN(3, return_sequences=False, return_state=False)와 동일.\n",
        "hidden_state = rnn(train_X)\n",
        "\n",
        "print('hidden state : {}, shape: {}'.format(hidden_state, hidden_state.shape))"
      ],
      "metadata": {
        "colab": {
          "base_uri": "https://localhost:8080/"
        },
        "id": "pF3DnxVqFdH0",
        "outputId": "e5745d0c-193e-4b01-a3aa-fb1cfca5bb49"
      },
      "execution_count": 35,
      "outputs": [
        {
          "output_type": "stream",
          "name": "stdout",
          "text": [
            "hidden state : [[-0.44236007 -0.6771831  -0.9898478 ]], shape: (1, 3)\n"
          ]
        }
      ]
    },
    {
      "cell_type": "markdown",
      "source": [
        "**2) return_sequences 인자만 True로 지정한 후 출력하기**"
      ],
      "metadata": {
        "id": "Y2zeQG0QEeeM"
      }
    },
    {
      "cell_type": "code",
      "source": [
        "rnn = SimpleRNN(3, return_sequences=True)\n",
        "hidden_states = rnn(train_X)\n",
        "\n",
        "print('hidden states : {}, shape: {}'.format(hidden_states, hidden_states.shape))"
      ],
      "metadata": {
        "colab": {
          "base_uri": "https://localhost:8080/"
        },
        "id": "xWpHznASFehE",
        "outputId": "d5d8715d-12e6-4777-862b-01d0b25ab11b"
      },
      "execution_count": 36,
      "outputs": [
        {
          "output_type": "stream",
          "name": "stdout",
          "text": [
            "hidden states : [[[-0.85783446  0.39400023 -0.8971302 ]\n",
            "  [-0.616635    0.8943555  -0.5897024 ]\n",
            "  [-0.5597038   0.32040784 -0.86222243]\n",
            "  [-0.22487181  0.5836284  -0.84703285]]], shape: (1, 4, 3)\n"
          ]
        }
      ]
    },
    {
      "cell_type": "markdown",
      "source": [
        "**3) return_seqeunces와 return_state 인자를 둘 다 True로 지정한 후 출력하기**"
      ],
      "metadata": {
        "id": "lgV7hScIEfeJ"
      }
    },
    {
      "cell_type": "code",
      "source": [
        "rnn = SimpleRNN(3, return_sequences=True, return_state=True)\n",
        "hidden_states, last_state = rnn(train_X)\n",
        "\n",
        "print('hidden states : {}, shape: {}'.format(hidden_states, hidden_states.shape))\n",
        "print('last hidden state : {}, shape: {}'.format(last_state, last_state.shape))"
      ],
      "metadata": {
        "colab": {
          "base_uri": "https://localhost:8080/"
        },
        "id": "5UzQsgYpFgD9",
        "outputId": "7ef0daac-dd5c-4116-eb21-b99654640b99"
      },
      "execution_count": 37,
      "outputs": [
        {
          "output_type": "stream",
          "name": "stdout",
          "text": [
            "hidden states : [[[-0.9189601  -0.998121   -0.5466572 ]\n",
            "  [-0.6043672  -0.60413235 -0.8970105 ]\n",
            "  [ 0.33515498 -0.8971837  -0.45518568]\n",
            "  [-0.914966   -0.80071056  0.6213814 ]]], shape: (1, 4, 3)\n",
            "last hidden state : [[-0.914966   -0.80071056  0.6213814 ]], shape: (1, 3)\n"
          ]
        }
      ]
    },
    {
      "cell_type": "markdown",
      "source": [
        "**4) return_state 인자만 True로 지정한 후 출력하기**"
      ],
      "metadata": {
        "id": "ovP9whI7EgUM"
      }
    },
    {
      "cell_type": "code",
      "source": [
        "rnn = SimpleRNN(3, return_sequences=False, return_state=True)\n",
        "hidden_state, last_state = rnn(train_X)\n",
        "\n",
        "print('hidden state : {}, shape: {}'.format(hidden_state, hidden_state.shape))\n",
        "print('last hidden state : {}, shape: {}'.format(last_state, last_state.shape))"
      ],
      "metadata": {
        "colab": {
          "base_uri": "https://localhost:8080/"
        },
        "id": "sYtMENW1FhbE",
        "outputId": "6c335af4-01eb-461b-b445-6dd933a717ba"
      },
      "execution_count": 38,
      "outputs": [
        {
          "output_type": "stream",
          "name": "stdout",
          "text": [
            "hidden state : [[-0.9173524   0.65808797 -0.99765325]], shape: (1, 3)\n",
            "last hidden state : [[-0.9173524   0.65808797 -0.99765325]], shape: (1, 3)\n"
          ]
        }
      ]
    }
  ]
}