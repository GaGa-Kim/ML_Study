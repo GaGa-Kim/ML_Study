{
  "nbformat": 4,
  "nbformat_minor": 0,
  "metadata": {
    "colab": {
      "provenance": [],
      "collapsed_sections": []
    },
    "kernelspec": {
      "name": "python3",
      "display_name": "Python 3"
    },
    "language_info": {
      "name": "python"
    }
  },
  "cells": [
    {
      "cell_type": "markdown",
      "source": [
        "# 케라스의 LSTM 이해하기"
      ],
      "metadata": {
        "id": "UOV_dDOjQPba"
      }
    },
    {
      "cell_type": "markdown",
      "source": [
        "### 임의의 입력 생성하기"
      ],
      "metadata": {
        "id": "ac-MOuXtQSDs"
      }
    },
    {
      "cell_type": "code",
      "source": [
        "import numpy as np\n",
        "import tensorflow as tf\n",
        "from tensorflow.keras.layers import LSTM, Bidirectional"
      ],
      "metadata": {
        "id": "JEYxP0JeQfjk"
      },
      "execution_count": 1,
      "outputs": []
    },
    {
      "cell_type": "markdown",
      "source": [
        "**1) LSTM 테스트를 위한 임의의 입력을 생성**"
      ],
      "metadata": {
        "id": "FXIDzWCSQUfV"
      }
    },
    {
      "cell_type": "code",
      "source": [
        "train_X = [[0.1, 4.2, 1.5, 1.1, 2.8], [1.0, 3.1, 2.5, 0.7, 1.1], [0.3, 2.1, 1.5, 2.1, 0.1], [2.2, 1.4, 0.5, 0.9, 1.1]]\n",
        "print(np.shape(train_X))"
      ],
      "metadata": {
        "colab": {
          "base_uri": "https://localhost:8080/"
        },
        "id": "cKES3M4HQiSt",
        "outputId": "fde5ec1c-20c0-4199-bda4-a93ff8f0bdce"
      },
      "execution_count": 2,
      "outputs": [
        {
          "output_type": "stream",
          "name": "stdout",
          "text": [
            "(4, 5)\n"
          ]
        }
      ]
    },
    {
      "cell_type": "markdown",
      "source": [
        "**2) LSTM(RNN)이 입력받도록 하기 위해 입력으로 만든 2D 텐서를 3D 텐서로 변경되도록 배치 크기 1을 추가**"
      ],
      "metadata": {
        "id": "01GkBw6cQVj6"
      }
    },
    {
      "cell_type": "code",
      "source": [
        "train_X = [[[0.1, 4.2, 1.5, 1.1, 2.8], [1.0, 3.1, 2.5, 0.7, 1.1], [0.3, 2.1, 1.5, 2.1, 0.1], [2.2, 1.4, 0.5, 0.9, 1.1]]]\n",
        "train_X = np.array(train_X, dtype=np.float32)\n",
        "print(train_X.shape)"
      ],
      "metadata": {
        "colab": {
          "base_uri": "https://localhost:8080/"
        },
        "id": "AeIhvzObQjJt",
        "outputId": "d5a80f52-e212-4605-eab7-76e3121a1f56"
      },
      "execution_count": 3,
      "outputs": [
        {
          "output_type": "stream",
          "name": "stdout",
          "text": [
            "(1, 4, 5)\n"
          ]
        }
      ]
    },
    {
      "cell_type": "markdown",
      "source": [
        "### LSTM 이해하기"
      ],
      "metadata": {
        "id": "7_Q05yfAQS1y"
      }
    },
    {
      "cell_type": "markdown",
      "source": [
        "**1) return_state 인자만 True로 지정한 후 출력하기**"
      ],
      "metadata": {
        "id": "OL0VDT1zQX7U"
      }
    },
    {
      "cell_type": "code",
      "source": [
        "lstm = LSTM(3, return_sequences=False, return_state=True)\n",
        "hidden_state, last_state, last_cell_state = lstm(train_X)\n",
        "\n",
        "print('hidden state : {}, shape: {}'.format(hidden_state, hidden_state.shape))\n",
        "print('last hidden state : {}, shape: {}'.format(last_state, last_state.shape))\n",
        "print('last cell state : {}, shape: {}'.format(last_cell_state, last_cell_state.shape))"
      ],
      "metadata": {
        "colab": {
          "base_uri": "https://localhost:8080/"
        },
        "id": "FON88OhDQk1j",
        "outputId": "cad6ec72-79d4-4c78-b21f-913d22d15605"
      },
      "execution_count": 4,
      "outputs": [
        {
          "output_type": "stream",
          "name": "stdout",
          "text": [
            "hidden state : [[-0.26397997  0.06949735  0.11585861]], shape: (1, 3)\n",
            "last hidden state : [[-0.26397997  0.06949735  0.11585861]], shape: (1, 3)\n",
            "last cell state : [[-0.36135867  0.11836005  0.40201038]], shape: (1, 3)\n"
          ]
        }
      ]
    },
    {
      "cell_type": "markdown",
      "source": [
        "**2) return_seqeunces와 return_state 인자를 둘 다 True로 지정한 후 출력하기**"
      ],
      "metadata": {
        "id": "T48_0iWIQY-y"
      }
    },
    {
      "cell_type": "code",
      "source": [
        "lstm = LSTM(3, return_sequences=True, return_state=True)\n",
        "hidden_states, last_hidden_state, last_cell_state = lstm(train_X)\n",
        "\n",
        "print('hidden states : {}, shape: {}'.format(hidden_states, hidden_states.shape))\n",
        "print('last hidden state : {}, shape: {}'.format(last_hidden_state, last_hidden_state.shape))\n",
        "print('last cell state : {}, shape: {}'.format(last_cell_state, last_cell_state.shape))"
      ],
      "metadata": {
        "colab": {
          "base_uri": "https://localhost:8080/"
        },
        "id": "2oe3imJuQl0k",
        "outputId": "bc4b4af0-6b08-4e75-dcb6-07a45cc0fde2"
      },
      "execution_count": 5,
      "outputs": [
        {
          "output_type": "stream",
          "name": "stdout",
          "text": [
            "hidden states : [[[-0.10328592 -0.06207878 -0.04376413]\n",
            "  [ 0.12943709 -0.16810429 -0.10744092]\n",
            "  [-0.06817658 -0.19836551 -0.2190191 ]\n",
            "  [-0.48752782 -0.27283767 -0.2132852 ]]], shape: (1, 4, 3)\n",
            "last hidden state : [[-0.48752782 -0.27283767 -0.2132852 ]], shape: (1, 3)\n",
            "last cell state : [[-0.63678074 -1.9432888  -1.7749372 ]], shape: (1, 3)\n"
          ]
        }
      ]
    },
    {
      "cell_type": "markdown",
      "source": [
        "### Bidirectional LSTM (양방향 LSTM) 이해하기"
      ],
      "metadata": {
        "id": "DjnDtA8yQTt8"
      }
    },
    {
      "cell_type": "code",
      "source": [
        "# d은닉 상태의 값이 어떻게 바뀌는지 직접 비교하기 위해 출력되는 은닉 상태의 값을 고정\n",
        "k_init = tf.keras.initializers.Constant(value=0.1)\n",
        "b_init = tf.keras.initializers.Constant(value=0)\n",
        "r_init = tf.keras.initializers.Constant(value=0.1)"
      ],
      "metadata": {
        "id": "PtOhZ-kNQnNE"
      },
      "execution_count": 6,
      "outputs": []
    },
    {
      "cell_type": "markdown",
      "source": [
        "**1) return_state 인자만 True로 지정한 후 출력하기**"
      ],
      "metadata": {
        "id": "Lh3FVtMaQZwr"
      }
    },
    {
      "cell_type": "code",
      "source": [
        "bilstm = Bidirectional(LSTM(3, return_sequences=False, return_state=True, \\\n",
        "                            kernel_initializer=k_init, bias_initializer=b_init, recurrent_initializer=r_init))\n",
        "hidden_states, forward_h, forward_c, backward_h, backward_c = bilstm(train_X)\n",
        "\n",
        "print('hidden states : {}, shape: {}'.format(hidden_states, hidden_states.shape))\n",
        "print('forward state : {}, shape: {}'.format(forward_h, forward_h.shape))\n",
        "print('backward state : {}, shape: {}'.format(backward_h, backward_h.shape))"
      ],
      "metadata": {
        "colab": {
          "base_uri": "https://localhost:8080/"
        },
        "id": "133dDnGnQtPT",
        "outputId": "c51c095e-f440-4bd8-b73f-5a7c0c3adbc1"
      },
      "execution_count": 7,
      "outputs": [
        {
          "output_type": "stream",
          "name": "stdout",
          "text": [
            "hidden states : [[0.63031393 0.63031393 0.63031393 0.7038734  0.7038734  0.7038734 ]], shape: (1, 6)\n",
            "forward state : [[0.63031393 0.63031393 0.63031393]], shape: (1, 3)\n",
            "backward state : [[0.7038734 0.7038734 0.7038734]], shape: (1, 3)\n"
          ]
        }
      ]
    },
    {
      "cell_type": "markdown",
      "source": [
        "**2) return_seqeunces와 return_state 인자를 둘 다 True로 지정한 후 출력하기**"
      ],
      "metadata": {
        "id": "t5nNsc7uQamS"
      }
    },
    {
      "cell_type": "code",
      "source": [
        "bilstm = Bidirectional(LSTM(3, return_sequences=True, return_state=True, \\\n",
        "                            kernel_initializer=k_init, bias_initializer=b_init, recurrent_initializer=r_init))\n",
        "hidden_states, forward_h, forward_c, backward_h, backward_c = bilstm(train_X)\n",
        "\n",
        "print('hidden states : {}, shape: {}'.format(hidden_states, hidden_states.shape))\n",
        "print('forward state : {}, shape: {}'.format(forward_h, forward_h.shape))\n",
        "print('backward state : {}, shape: {}'.format(backward_h, backward_h.shape))"
      ],
      "metadata": {
        "colab": {
          "base_uri": "https://localhost:8080/"
        },
        "id": "3gzXrJ4dQuk2",
        "outputId": "167be397-7917-47ce-880a-e9ea58ba5c9b"
      },
      "execution_count": 8,
      "outputs": [
        {
          "output_type": "stream",
          "name": "stdout",
          "text": [
            "hidden states : [[[0.35906473 0.35906473 0.35906473 0.7038734  0.7038734  0.7038734 ]\n",
            "  [0.5511133  0.5511133  0.5511133  0.58863586 0.58863586 0.58863586]\n",
            "  [0.59115744 0.59115744 0.59115744 0.3951699  0.3951699  0.3951699 ]\n",
            "  [0.63031393 0.63031393 0.63031393 0.21942244 0.21942244 0.21942244]]], shape: (1, 4, 6)\n",
            "forward state : [[0.63031393 0.63031393 0.63031393]], shape: (1, 3)\n",
            "backward state : [[0.7038734 0.7038734 0.7038734]], shape: (1, 3)\n"
          ]
        }
      ]
    }
  ]
}