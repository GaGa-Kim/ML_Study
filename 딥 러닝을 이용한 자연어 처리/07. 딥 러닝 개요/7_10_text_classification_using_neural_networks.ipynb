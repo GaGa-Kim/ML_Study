{
  "nbformat": 4,
  "nbformat_minor": 0,
  "metadata": {
    "colab": {
      "provenance": [],
      "collapsed_sections": []
    },
    "kernelspec": {
      "name": "python3",
      "display_name": "Python 3"
    },
    "language_info": {
      "name": "python"
    }
  },
  "cells": [
    {
      "cell_type": "markdown",
      "source": [
        "# 케라스의 texts_to_matrix() 이해하기"
      ],
      "metadata": {
        "id": "X2O8KjYWQNBN"
      }
    },
    {
      "cell_type": "markdown",
      "source": [
        "### 다층 퍼셉트론(MLP)로 텍스트 분류를 수행하기 전, 사용할 도구인 케라스 Tokenizer의 texts_to_matrix() 이해해보기"
      ],
      "metadata": {
        "id": "EoP8CQE8QQt5"
      }
    },
    {
      "cell_type": "markdown",
      "source": [
        "**1) 케라스의 전처리 도구인 Tokenizer를 임포트**"
      ],
      "metadata": {
        "id": "_VENkI5gQRwQ"
      }
    },
    {
      "cell_type": "code",
      "source": [
        "import numpy as np\n",
        "from tensorflow.keras.preprocessing.text import Tokenizer"
      ],
      "metadata": {
        "id": "gRpqwNMEROb7"
      },
      "execution_count": 1,
      "outputs": []
    },
    {
      "cell_type": "markdown",
      "source": [
        "**2) 텍스트 데이터에 대해서 정수 인코딩을 수행**"
      ],
      "metadata": {
        "id": "vqBNVL2CQTXq"
      }
    },
    {
      "cell_type": "code",
      "source": [
        "texts = ['먹고 싶은 사과', '먹고 싶은 바나나', '길고 노란 바나나 바나나', '저는 과일이 좋아요']"
      ],
      "metadata": {
        "id": "3hFdOQIuRPUj"
      },
      "execution_count": 2,
      "outputs": []
    },
    {
      "cell_type": "code",
      "source": [
        "tokenizer = Tokenizer()\n",
        "tokenizer.fit_on_texts(texts)\n",
        "print(tokenizer.word_index)"
      ],
      "metadata": {
        "colab": {
          "base_uri": "https://localhost:8080/"
        },
        "id": "4k5W7wMTRP0C",
        "outputId": "511a458f-c3a1-4fb2-92b1-b74fc59039ce"
      },
      "execution_count": 3,
      "outputs": [
        {
          "output_type": "stream",
          "name": "stdout",
          "text": [
            "{'바나나': 1, '먹고': 2, '싶은': 3, '사과': 4, '길고': 5, '노란': 6, '저는': 7, '과일이': 8, '좋아요': 9}\n"
          ]
        }
      ]
    },
    {
      "cell_type": "markdown",
      "source": [
        "**3) 텍스트 데이터에 texts_to_matrix()의 count 모드 사용**"
      ],
      "metadata": {
        "id": "q5zBbnQeQU2S"
      }
    },
    {
      "cell_type": "code",
      "source": [
        "print(tokenizer.texts_to_matrix(texts, mode = 'count'))"
      ],
      "metadata": {
        "colab": {
          "base_uri": "https://localhost:8080/"
        },
        "id": "Reh7S1VmRQ7S",
        "outputId": "ea4430fd-16da-48e9-bf8c-e95711ae67dd"
      },
      "execution_count": 4,
      "outputs": [
        {
          "output_type": "stream",
          "name": "stdout",
          "text": [
            "[[0. 0. 1. 1. 1. 0. 0. 0. 0. 0.]\n",
            " [0. 1. 1. 1. 0. 0. 0. 0. 0. 0.]\n",
            " [0. 2. 0. 0. 0. 1. 1. 0. 0. 0.]\n",
            " [0. 0. 0. 0. 0. 0. 0. 1. 1. 1.]]\n"
          ]
        }
      ]
    },
    {
      "cell_type": "markdown",
      "source": [
        "**4) 텍스트 데이터에 texts_to_matrix()의 binary 모드 사용**"
      ],
      "metadata": {
        "id": "Is2amzbsQYiR"
      }
    },
    {
      "cell_type": "code",
      "source": [
        "print(tokenizer.texts_to_matrix(texts, mode = 'binary'))"
      ],
      "metadata": {
        "colab": {
          "base_uri": "https://localhost:8080/"
        },
        "id": "9VuMtNBYRRvl",
        "outputId": "7bc7931a-f8dc-4de0-8ee4-95c97eba0d2a"
      },
      "execution_count": 5,
      "outputs": [
        {
          "output_type": "stream",
          "name": "stdout",
          "text": [
            "[[0. 0. 1. 1. 1. 0. 0. 0. 0. 0.]\n",
            " [0. 1. 1. 1. 0. 0. 0. 0. 0. 0.]\n",
            " [0. 1. 0. 0. 0. 1. 1. 0. 0. 0.]\n",
            " [0. 0. 0. 0. 0. 0. 0. 1. 1. 1.]]\n"
          ]
        }
      ]
    },
    {
      "cell_type": "markdown",
      "source": [
        "**5) 텍스트 데이터에 texts_to_matrix()의 tfidf 모드 사용**"
      ],
      "metadata": {
        "id": "V2_wavJDQaDs"
      }
    },
    {
      "cell_type": "code",
      "source": [
        "print(tokenizer.texts_to_matrix(texts, mode = 'tfidf').round(2))"
      ],
      "metadata": {
        "colab": {
          "base_uri": "https://localhost:8080/"
        },
        "id": "6djSa1qgRSkM",
        "outputId": "c790f677-95eb-44a0-96a0-fd2697c634b3"
      },
      "execution_count": 6,
      "outputs": [
        {
          "output_type": "stream",
          "name": "stdout",
          "text": [
            "[[0.   0.   0.85 0.85 1.1  0.   0.   0.   0.   0.  ]\n",
            " [0.   0.85 0.85 0.85 0.   0.   0.   0.   0.   0.  ]\n",
            " [0.   1.43 0.   0.   0.   1.1  1.1  0.   0.   0.  ]\n",
            " [0.   0.   0.   0.   0.   0.   0.   1.1  1.1  1.1 ]]\n"
          ]
        }
      ]
    },
    {
      "cell_type": "markdown",
      "source": [
        "**6) 텍스트 데이터에 texts_to_matrix()의 freq 모드 사용**"
      ],
      "metadata": {
        "id": "qW2NvgrUQbRz"
      }
    },
    {
      "cell_type": "code",
      "source": [
        "print(tokenizer.texts_to_matrix(texts, mode = 'freq').round(2))"
      ],
      "metadata": {
        "colab": {
          "base_uri": "https://localhost:8080/"
        },
        "id": "3fEkKn7pRTqb",
        "outputId": "fd2f0ecc-f287-4b5a-ba93-976ea34669cc"
      },
      "execution_count": 7,
      "outputs": [
        {
          "output_type": "stream",
          "name": "stdout",
          "text": [
            "[[0.   0.   0.33 0.33 0.33 0.   0.   0.   0.   0.  ]\n",
            " [0.   0.33 0.33 0.33 0.   0.   0.   0.   0.   0.  ]\n",
            " [0.   0.5  0.   0.   0.   0.25 0.25 0.   0.   0.  ]\n",
            " [0.   0.   0.   0.   0.   0.   0.   0.33 0.33 0.33]]\n"
          ]
        }
      ]
    },
    {
      "cell_type": "markdown",
      "source": [
        "# 20개 뉴스 그룹 데이터에 대한 이해"
      ],
      "metadata": {
        "id": "4ZOBsGMKQOiY"
      }
    },
    {
      "cell_type": "markdown",
      "source": [
        "### 사이킷런에서는 20개의 다른 주제를 가진 18846개의 뉴스 그룹 이메일 데이터를 제공하므로 이를 이용해 테스트 데이터에서 이메일 본문을 보고 20개의 주제 중 어떤 주제인지를 맞추도록 함"
      ],
      "metadata": {
        "id": "54iA0orqQeMS"
      }
    },
    {
      "cell_type": "markdown",
      "source": [
        "### 데이터 이해 과정"
      ],
      "metadata": {
        "id": "rAUwsQwRQiEw"
      }
    },
    {
      "cell_type": "code",
      "source": [
        "import pandas as pd\n",
        "from sklearn.datasets import fetch_20newsgroups\n",
        "import matplotlib.pyplot as plt\n",
        "from tensorflow.keras.preprocessing.text import Tokenizer\n",
        "from tensorflow.keras.utils import to_categorical"
      ],
      "metadata": {
        "id": "gPoKLvj9RW8y"
      },
      "execution_count": 8,
      "outputs": []
    },
    {
      "cell_type": "markdown",
      "source": [
        "**1) subset의 값으로 all을 넣으면 전체 데이터인 18846개의 샘플을 다운로드할 수 있으며,**<br>\n",
        "&nbsp;&nbsp;&nbsp;&nbsp; **train을 넣으면 훈련 데이터를, test를 넣으면 테스트 데이터를 다운로드할 수 있음**"
      ],
      "metadata": {
        "id": "cAHkD0GiQjpb"
      }
    },
    {
      "cell_type": "code",
      "source": [
        "newsdata = fetch_20newsgroups(subset = 'train')"
      ],
      "metadata": {
        "id": "MXg9hCj8RX36"
      },
      "execution_count": 9,
      "outputs": []
    },
    {
      "cell_type": "markdown",
      "source": [
        "**2) newsdata.keys()를 출력하면 해당 데이터의 속성을 확인할 수 있음**"
      ],
      "metadata": {
        "id": "EFcqXyJ8Qz4b"
      }
    },
    {
      "cell_type": "code",
      "source": [
        "print(newsdata.keys())"
      ],
      "metadata": {
        "colab": {
          "base_uri": "https://localhost:8080/"
        },
        "id": "0dd0P5f9RY00",
        "outputId": "402e92a7-eeb4-41c3-cd68-762a69481547"
      },
      "execution_count": 10,
      "outputs": [
        {
          "output_type": "stream",
          "name": "stdout",
          "text": [
            "dict_keys(['data', 'filenames', 'target_names', 'target', 'DESCR'])\n"
          ]
        }
      ]
    },
    {
      "cell_type": "markdown",
      "source": [
        "**3) 훈련용 샘플의 개수를 확인**"
      ],
      "metadata": {
        "id": "weSdM7mkQ1Kb"
      }
    },
    {
      "cell_type": "code",
      "source": [
        "print('훈련용 샘플의 개수 : {}'.format(len(newsdata.data)))"
      ],
      "metadata": {
        "colab": {
          "base_uri": "https://localhost:8080/"
        },
        "id": "ymW5yjMTRZrr",
        "outputId": "b349f2eb-096d-417b-ba7d-a1138d23cf99"
      },
      "execution_count": 11,
      "outputs": [
        {
          "output_type": "stream",
          "name": "stdout",
          "text": [
            "훈련용 샘플의 개수 : 11314\n"
          ]
        }
      ]
    },
    {
      "cell_type": "markdown",
      "source": [
        "**4) target_names에는 20개의 주제의 이름을 담고 있으므로 어떤 주제가 있는지 확인**"
      ],
      "metadata": {
        "id": "jD_FYpdKQ2nJ"
      }
    },
    {
      "cell_type": "code",
      "source": [
        "print('총 주제의 개수 : {}'.format(len(newsdata.target_names)))\n",
        "print(newsdata.target_names)"
      ],
      "metadata": {
        "colab": {
          "base_uri": "https://localhost:8080/"
        },
        "id": "5H_AVOnwRa-j",
        "outputId": "73cf1a76-dec0-4c16-eb0c-7e0a0a4d8b5e"
      },
      "execution_count": 12,
      "outputs": [
        {
          "output_type": "stream",
          "name": "stdout",
          "text": [
            "총 주제의 개수 : 20\n",
            "['alt.atheism', 'comp.graphics', 'comp.os.ms-windows.misc', 'comp.sys.ibm.pc.hardware', 'comp.sys.mac.hardware', 'comp.windows.x', 'misc.forsale', 'rec.autos', 'rec.motorcycles', 'rec.sport.baseball', 'rec.sport.hockey', 'sci.crypt', 'sci.electronics', 'sci.med', 'sci.space', 'soc.religion.christian', 'talk.politics.guns', 'talk.politics.mideast', 'talk.politics.misc', 'talk.religion.misc']\n"
          ]
        }
      ]
    },
    {
      "cell_type": "markdown",
      "source": [
        "**5) 첫 번째 샘플의 주제가 몇 번인지와 어떤 주제를 나타내는지 확인**"
      ],
      "metadata": {
        "id": "M8db4E_kQ3SK"
      }
    },
    {
      "cell_type": "code",
      "source": [
        "print('첫번째 샘플의 레이블 : {}'.format(newsdata.target[0]))"
      ],
      "metadata": {
        "colab": {
          "base_uri": "https://localhost:8080/"
        },
        "id": "EYIRcPH-RcsL",
        "outputId": "6b1917b5-1996-47d8-b50b-7601f88f70af"
      },
      "execution_count": 13,
      "outputs": [
        {
          "output_type": "stream",
          "name": "stdout",
          "text": [
            "첫번째 샘플의 레이블 : 7\n"
          ]
        }
      ]
    },
    {
      "cell_type": "code",
      "source": [
        "print('7번 레이블이 의미하는 주제 : {}'.format(newsdata.target_names[7]))"
      ],
      "metadata": {
        "colab": {
          "base_uri": "https://localhost:8080/"
        },
        "id": "UGx36SUMRe3z",
        "outputId": "dc54ad5a-e650-4ac7-ee9d-d44e89c01da2"
      },
      "execution_count": 14,
      "outputs": [
        {
          "output_type": "stream",
          "name": "stdout",
          "text": [
            "7번 레이블이 의미하는 주제 : rec.autos\n"
          ]
        }
      ]
    },
    {
      "cell_type": "markdown",
      "source": [
        "**6) 첫 번째 샘플의 본문 내용을 확인**"
      ],
      "metadata": {
        "id": "1q0igsrtQ4kb"
      }
    },
    {
      "cell_type": "code",
      "source": [
        "print(newsdata.data[0]) # 첫번째 샘플 출력"
      ],
      "metadata": {
        "colab": {
          "base_uri": "https://localhost:8080/"
        },
        "id": "v3QDzKVFRdzq",
        "outputId": "90477b2f-28e1-46db-c935-fb1e4db6b9c6"
      },
      "execution_count": 15,
      "outputs": [
        {
          "output_type": "stream",
          "name": "stdout",
          "text": [
            "From: lerxst@wam.umd.edu (where's my thing)\n",
            "Subject: WHAT car is this!?\n",
            "Nntp-Posting-Host: rac3.wam.umd.edu\n",
            "Organization: University of Maryland, College Park\n",
            "Lines: 15\n",
            "\n",
            " I was wondering if anyone out there could enlighten me on this car I saw\n",
            "the other day. It was a 2-door sports car, looked to be from the late 60s/\n",
            "early 70s. It was called a Bricklin. The doors were really small. In addition,\n",
            "the front bumper was separate from the rest of the body. This is \n",
            "all I know. If anyone can tellme a model name, engine specs, years\n",
            "of production, where this car is made, history, or whatever info you\n",
            "have on this funky looking car, please e-mail.\n",
            "\n",
            "Thanks,\n",
            "- IL\n",
            "   ---- brought to you by your neighborhood Lerxst ----\n",
            "\n",
            "\n",
            "\n",
            "\n",
            "\n"
          ]
        }
      ]
    },
    {
      "cell_type": "markdown",
      "source": [
        "**7) 훈련에 사용될 메일 본문인 data와 레이블인 target을 데이터프레임으로 만들어 데이터에 대한 상위 5개의 통계적 정보 확인**"
      ],
      "metadata": {
        "id": "J7tAnGa2Q5u6"
      }
    },
    {
      "cell_type": "code",
      "source": [
        "data = pd.DataFrame(newsdata.data, columns = ['email'])\n",
        "data['target'] = pd.Series(newsdata.target)\n",
        "data[:5]"
      ],
      "metadata": {
        "colab": {
          "base_uri": "https://localhost:8080/",
          "height": 206
        },
        "id": "-lrueBG9Rg5s",
        "outputId": "51a7b327-1491-4602-8fc7-80d744f2a4db"
      },
      "execution_count": 16,
      "outputs": [
        {
          "output_type": "execute_result",
          "data": {
            "text/plain": [
              "                                               email  target\n",
              "0  From: lerxst@wam.umd.edu (where's my thing)\\nS...       7\n",
              "1  From: guykuo@carson.u.washington.edu (Guy Kuo)...       4\n",
              "2  From: twillis@ec.ecn.purdue.edu (Thomas E Will...       4\n",
              "3  From: jgreen@amber (Joe Green)\\nSubject: Re: W...       1\n",
              "4  From: jcm@head-cfa.harvard.edu (Jonathan McDow...      14"
            ],
            "text/html": [
              "\n",
              "  <div id=\"df-12f6faa5-5c51-4675-ad4e-1b247a154ad9\">\n",
              "    <div class=\"colab-df-container\">\n",
              "      <div>\n",
              "<style scoped>\n",
              "    .dataframe tbody tr th:only-of-type {\n",
              "        vertical-align: middle;\n",
              "    }\n",
              "\n",
              "    .dataframe tbody tr th {\n",
              "        vertical-align: top;\n",
              "    }\n",
              "\n",
              "    .dataframe thead th {\n",
              "        text-align: right;\n",
              "    }\n",
              "</style>\n",
              "<table border=\"1\" class=\"dataframe\">\n",
              "  <thead>\n",
              "    <tr style=\"text-align: right;\">\n",
              "      <th></th>\n",
              "      <th>email</th>\n",
              "      <th>target</th>\n",
              "    </tr>\n",
              "  </thead>\n",
              "  <tbody>\n",
              "    <tr>\n",
              "      <th>0</th>\n",
              "      <td>From: lerxst@wam.umd.edu (where's my thing)\\nS...</td>\n",
              "      <td>7</td>\n",
              "    </tr>\n",
              "    <tr>\n",
              "      <th>1</th>\n",
              "      <td>From: guykuo@carson.u.washington.edu (Guy Kuo)...</td>\n",
              "      <td>4</td>\n",
              "    </tr>\n",
              "    <tr>\n",
              "      <th>2</th>\n",
              "      <td>From: twillis@ec.ecn.purdue.edu (Thomas E Will...</td>\n",
              "      <td>4</td>\n",
              "    </tr>\n",
              "    <tr>\n",
              "      <th>3</th>\n",
              "      <td>From: jgreen@amber (Joe Green)\\nSubject: Re: W...</td>\n",
              "      <td>1</td>\n",
              "    </tr>\n",
              "    <tr>\n",
              "      <th>4</th>\n",
              "      <td>From: jcm@head-cfa.harvard.edu (Jonathan McDow...</td>\n",
              "      <td>14</td>\n",
              "    </tr>\n",
              "  </tbody>\n",
              "</table>\n",
              "</div>\n",
              "      <button class=\"colab-df-convert\" onclick=\"convertToInteractive('df-12f6faa5-5c51-4675-ad4e-1b247a154ad9')\"\n",
              "              title=\"Convert this dataframe to an interactive table.\"\n",
              "              style=\"display:none;\">\n",
              "        \n",
              "  <svg xmlns=\"http://www.w3.org/2000/svg\" height=\"24px\"viewBox=\"0 0 24 24\"\n",
              "       width=\"24px\">\n",
              "    <path d=\"M0 0h24v24H0V0z\" fill=\"none\"/>\n",
              "    <path d=\"M18.56 5.44l.94 2.06.94-2.06 2.06-.94-2.06-.94-.94-2.06-.94 2.06-2.06.94zm-11 1L8.5 8.5l.94-2.06 2.06-.94-2.06-.94L8.5 2.5l-.94 2.06-2.06.94zm10 10l.94 2.06.94-2.06 2.06-.94-2.06-.94-.94-2.06-.94 2.06-2.06.94z\"/><path d=\"M17.41 7.96l-1.37-1.37c-.4-.4-.92-.59-1.43-.59-.52 0-1.04.2-1.43.59L10.3 9.45l-7.72 7.72c-.78.78-.78 2.05 0 2.83L4 21.41c.39.39.9.59 1.41.59.51 0 1.02-.2 1.41-.59l7.78-7.78 2.81-2.81c.8-.78.8-2.07 0-2.86zM5.41 20L4 18.59l7.72-7.72 1.47 1.35L5.41 20z\"/>\n",
              "  </svg>\n",
              "      </button>\n",
              "      \n",
              "  <style>\n",
              "    .colab-df-container {\n",
              "      display:flex;\n",
              "      flex-wrap:wrap;\n",
              "      gap: 12px;\n",
              "    }\n",
              "\n",
              "    .colab-df-convert {\n",
              "      background-color: #E8F0FE;\n",
              "      border: none;\n",
              "      border-radius: 50%;\n",
              "      cursor: pointer;\n",
              "      display: none;\n",
              "      fill: #1967D2;\n",
              "      height: 32px;\n",
              "      padding: 0 0 0 0;\n",
              "      width: 32px;\n",
              "    }\n",
              "\n",
              "    .colab-df-convert:hover {\n",
              "      background-color: #E2EBFA;\n",
              "      box-shadow: 0px 1px 2px rgba(60, 64, 67, 0.3), 0px 1px 3px 1px rgba(60, 64, 67, 0.15);\n",
              "      fill: #174EA6;\n",
              "    }\n",
              "\n",
              "    [theme=dark] .colab-df-convert {\n",
              "      background-color: #3B4455;\n",
              "      fill: #D2E3FC;\n",
              "    }\n",
              "\n",
              "    [theme=dark] .colab-df-convert:hover {\n",
              "      background-color: #434B5C;\n",
              "      box-shadow: 0px 1px 3px 1px rgba(0, 0, 0, 0.15);\n",
              "      filter: drop-shadow(0px 1px 2px rgba(0, 0, 0, 0.3));\n",
              "      fill: #FFFFFF;\n",
              "    }\n",
              "  </style>\n",
              "\n",
              "      <script>\n",
              "        const buttonEl =\n",
              "          document.querySelector('#df-12f6faa5-5c51-4675-ad4e-1b247a154ad9 button.colab-df-convert');\n",
              "        buttonEl.style.display =\n",
              "          google.colab.kernel.accessAllowed ? 'block' : 'none';\n",
              "\n",
              "        async function convertToInteractive(key) {\n",
              "          const element = document.querySelector('#df-12f6faa5-5c51-4675-ad4e-1b247a154ad9');\n",
              "          const dataTable =\n",
              "            await google.colab.kernel.invokeFunction('convertToInteractive',\n",
              "                                                     [key], {});\n",
              "          if (!dataTable) return;\n",
              "\n",
              "          const docLinkHtml = 'Like what you see? Visit the ' +\n",
              "            '<a target=\"_blank\" href=https://colab.research.google.com/notebooks/data_table.ipynb>data table notebook</a>'\n",
              "            + ' to learn more about interactive tables.';\n",
              "          element.innerHTML = '';\n",
              "          dataTable['output_type'] = 'display_data';\n",
              "          await google.colab.output.renderOutput(dataTable, element);\n",
              "          const docLink = document.createElement('div');\n",
              "          docLink.innerHTML = docLinkHtml;\n",
              "          element.appendChild(docLink);\n",
              "        }\n",
              "      </script>\n",
              "    </div>\n",
              "  </div>\n",
              "  "
            ]
          },
          "metadata": {},
          "execution_count": 16
        }
      ]
    },
    {
      "cell_type": "markdown",
      "source": [
        "**8) news 열은 문자열, target 열은 정수형 데이터이므로 Null 값을 가진 샘플이 있는지 확인**"
      ],
      "metadata": {
        "id": "9s96lmWTQ7CT"
      }
    },
    {
      "cell_type": "code",
      "source": [
        "data.info()"
      ],
      "metadata": {
        "colab": {
          "base_uri": "https://localhost:8080/"
        },
        "id": "W_Ba1ssbRi50",
        "outputId": "248960df-bb9f-4e10-e427-e5cce3b51ad8"
      },
      "execution_count": 17,
      "outputs": [
        {
          "output_type": "stream",
          "name": "stdout",
          "text": [
            "<class 'pandas.core.frame.DataFrame'>\n",
            "RangeIndex: 11314 entries, 0 to 11313\n",
            "Data columns (total 2 columns):\n",
            " #   Column  Non-Null Count  Dtype \n",
            "---  ------  --------------  ----- \n",
            " 0   email   11314 non-null  object\n",
            " 1   target  11314 non-null  int64 \n",
            "dtypes: int64(1), object(1)\n",
            "memory usage: 176.9+ KB\n"
          ]
        }
      ]
    },
    {
      "cell_type": "code",
      "source": [
        "data.isnull().values.any()"
      ],
      "metadata": {
        "colab": {
          "base_uri": "https://localhost:8080/"
        },
        "id": "_8y4EGO6Rjp2",
        "outputId": "7cee5590-466e-4f45-a792-0fedfb8799b0"
      },
      "execution_count": 18,
      "outputs": [
        {
          "output_type": "execute_result",
          "data": {
            "text/plain": [
              "False"
            ]
          },
          "metadata": {},
          "execution_count": 18
        }
      ]
    },
    {
      "cell_type": "markdown",
      "source": [
        "**9) 샘플 중 중복을 제거한 개수도 확인**"
      ],
      "metadata": {
        "id": "VkGvowEOQ8uL"
      }
    },
    {
      "cell_type": "code",
      "source": [
        "print('중복을 제외한 샘플의 수 : {}'.format(data['email'].nunique()))\n",
        "print('중복을 제외한 주제의 수 : {}'.format(data['target'].nunique()))"
      ],
      "metadata": {
        "colab": {
          "base_uri": "https://localhost:8080/"
        },
        "id": "AZyWBtynRk85",
        "outputId": "b79ea64d-a584-43ce-a807-be424591be4a"
      },
      "execution_count": 19,
      "outputs": [
        {
          "output_type": "stream",
          "name": "stdout",
          "text": [
            "중복을 제외한 샘플의 수 : 11314\n",
            "중복을 제외한 주제의 수 : 20\n"
          ]
        }
      ]
    },
    {
      "cell_type": "markdown",
      "source": [
        "**10) 레이블 값의 분포를 시각화하여 확인**"
      ],
      "metadata": {
        "id": "Ob09cDktQ--S"
      }
    },
    {
      "cell_type": "code",
      "source": [
        "data['target'].value_counts().plot(kind='bar')"
      ],
      "metadata": {
        "colab": {
          "base_uri": "https://localhost:8080/",
          "height": 286
        },
        "id": "Du1E5gedRlvh",
        "outputId": "931537d4-7ce2-479f-8b19-19f2a096d022"
      },
      "execution_count": 20,
      "outputs": [
        {
          "output_type": "execute_result",
          "data": {
            "text/plain": [
              "<matplotlib.axes._subplots.AxesSubplot at 0x7f76c556f850>"
            ]
          },
          "metadata": {},
          "execution_count": 20
        },
        {
          "output_type": "display_data",
          "data": {
            "text/plain": [
              "<Figure size 432x288 with 1 Axes>"
            ],
            "image/png": "[encoded data removed]"
          },
          "metadata": {
            "needs_background": "light"
          }
        }
      ]
    },
    {
      "cell_type": "markdown",
      "source": [
        "**11) 각 레이블이 몇 개 있는지 구체적인 수치로 확인**"
      ],
      "metadata": {
        "id": "nsQS7N08Q_fL"
      }
    },
    {
      "cell_type": "code",
      "source": [
        "print(data.groupby('target').size().reset_index(name='count'))"
      ],
      "metadata": {
        "colab": {
          "base_uri": "https://localhost:8080/"
        },
        "id": "ehwMYvmDRnBh",
        "outputId": "093b7a9a-6648-4f4c-9ed8-be900ea01222"
      },
      "execution_count": 21,
      "outputs": [
        {
          "output_type": "stream",
          "name": "stdout",
          "text": [
            "    target  count\n",
            "0        0    480\n",
            "1        1    584\n",
            "2        2    591\n",
            "3        3    590\n",
            "4        4    578\n",
            "5        5    593\n",
            "6        6    585\n",
            "7        7    594\n",
            "8        8    598\n",
            "9        9    597\n",
            "10      10    600\n",
            "11      11    595\n",
            "12      12    591\n",
            "13      13    594\n",
            "14      14    593\n",
            "15      15    599\n",
            "16      16    546\n",
            "17      17    564\n",
            "18      18    465\n",
            "19      19    377\n"
          ]
        }
      ]
    },
    {
      "cell_type": "markdown",
      "source": [
        "### 데이터 전처리 과정"
      ],
      "metadata": {
        "id": "MybrjY-2Qi6Q"
      }
    },
    {
      "cell_type": "markdown",
      "source": [
        "**1) 데이터프레임으로부터 다시 메일 본문과 레이블을 분리하고, 테스트 데이터 또한 불러오기**"
      ],
      "metadata": {
        "id": "sZjd7zoXRBdy"
      }
    },
    {
      "cell_type": "code",
      "source": [
        "newsdata_test = fetch_20newsgroups(subset='test', shuffle=True)\n",
        "train_email = data['email']\n",
        "train_label = data['target']"
      ],
      "metadata": {
        "id": "mrtxJ8G4Rn_R"
      },
      "execution_count": 22,
      "outputs": []
    },
    {
      "cell_type": "markdown",
      "source": [
        "**2) 훈련 데이터와 테스트 데이터의 본문과 레이블을 각각 저장**"
      ],
      "metadata": {
        "id": "KywT-8nFRCAr"
      }
    },
    {
      "cell_type": "code",
      "source": [
        "test_email = newsdata_test.data\n",
        "test_label = newsdata_test.target"
      ],
      "metadata": {
        "id": "ET25wj5wRs40"
      },
      "execution_count": 23,
      "outputs": []
    },
    {
      "cell_type": "markdown",
      "source": [
        "**3) 필요한 변수들을 정의**"
      ],
      "metadata": {
        "id": "U2mScsZZRC8h"
      }
    },
    {
      "cell_type": "code",
      "source": [
        "max_words = 10000\n",
        "num_classes = 20"
      ],
      "metadata": {
        "id": "a3QNBtxpRt3q"
      },
      "execution_count": 24,
      "outputs": []
    },
    {
      "cell_type": "markdown",
      "source": [
        "**4) 케라스 토크나이저로 전처리를 수행하는 함수인 prepare_data 생성**"
      ],
      "metadata": {
        "id": "9c9oUgQJREpT"
      }
    },
    {
      "cell_type": "code",
      "source": [
        "def prepare_data(train_data, test_data, mode): # 전처리 함수\n",
        "    tokenizer = Tokenizer(num_words = max_words) # max_words 개수만큼의 단어만 사용한다.\n",
        "    tokenizer.fit_on_texts(train_data)\n",
        "    X_train = tokenizer.texts_to_matrix(train_data, mode=mode) # 샘플 수 × max_words 크기의 행렬 생성\n",
        "    X_test = tokenizer.texts_to_matrix(test_data, mode=mode) # 샘플 수 × max_words 크기의 행렬 생성\n",
        "    return X_train, X_test, tokenizer.index_word"
      ],
      "metadata": {
        "id": "TVo4OC8bRu6m"
      },
      "execution_count": 25,
      "outputs": []
    },
    {
      "cell_type": "markdown",
      "source": [
        "**5) prepare_data 함수로 메일 본문은 'binary' 모드로 변환하고, 훈련 데이터와 테스트 데이터의 레이블은 원-핫 인코딩을 수행**"
      ],
      "metadata": {
        "id": "3YX1otMkRFiT"
      }
    },
    {
      "cell_type": "code",
      "source": [
        "X_train, X_test, index_to_word = prepare_data(train_email, test_email, 'binary') # binary 모드로 변환\n",
        "y_train = to_categorical(train_label, num_classes) # 원-핫 인코딩\n",
        "y_test = to_categorical(test_label, num_classes) # 원-핫 인코딩"
      ],
      "metadata": {
        "id": "FVqzs9KSRwxM"
      },
      "execution_count": 26,
      "outputs": []
    },
    {
      "cell_type": "code",
      "source": [
        "print('훈련 샘플 본문의 크기 : {}'.format(X_train.shape))\n",
        "print('훈련 샘플 레이블의 크기 : {}'.format(y_train.shape))\n",
        "print('테스트 샘플 본문의 크기 : {}'.format(X_test.shape))\n",
        "print('테스트 샘플 레이블의 크기 : {}'.format(y_test.shape))"
      ],
      "metadata": {
        "colab": {
          "base_uri": "https://localhost:8080/"
        },
        "id": "vkeh68QRRxri",
        "outputId": "f2a7024c-76b8-4b6f-dd72-9b1371cfe1cb"
      },
      "execution_count": 27,
      "outputs": [
        {
          "output_type": "stream",
          "name": "stdout",
          "text": [
            "훈련 샘플 본문의 크기 : (11314, 10000)\n",
            "훈련 샘플 레이블의 크기 : (11314, 20)\n",
            "테스트 샘플 본문의 크기 : (7532, 10000)\n",
            "테스트 샘플 레이블의 크기 : (7532, 20)\n"
          ]
        }
      ]
    },
    {
      "cell_type": "markdown",
      "source": [
        "**6) 빈도수 상위 1번 단어와 9999번 단어를 확인**"
      ],
      "metadata": {
        "id": "WPH-bqrFRHVS"
      }
    },
    {
      "cell_type": "code",
      "source": [
        "print('빈도수 상위 1번 단어 : {}'.format(index_to_word[1]))\n",
        "print('빈도수 상위 9999번 단어 : {}'.format(index_to_word[9999]))"
      ],
      "metadata": {
        "colab": {
          "base_uri": "https://localhost:8080/"
        },
        "id": "Dd2GS3arRzAF",
        "outputId": "8e583541-2b4f-4e9b-fded-6a15a0e8a68b"
      },
      "execution_count": 28,
      "outputs": [
        {
          "output_type": "stream",
          "name": "stdout",
          "text": [
            "빈도수 상위 1번 단어 : the\n",
            "빈도수 상위 9999번 단어 : mic\n"
          ]
        }
      ]
    },
    {
      "cell_type": "markdown",
      "source": [
        "# 다층 퍼셉트론을 사용하여 텍스트 분류하기"
      ],
      "metadata": {
        "id": "6FqjCTfMQPSQ"
      }
    },
    {
      "cell_type": "markdown",
      "source": [
        "**1) 모델 설계에 필요한 도구들을 임포트**"
      ],
      "metadata": {
        "id": "1vBGZGieRIvb"
      }
    },
    {
      "cell_type": "code",
      "source": [
        "from tensorflow.keras.models import Sequential\n",
        "from tensorflow.keras.layers import Dense, Dropout"
      ],
      "metadata": {
        "id": "EPZAYdePR0KD"
      },
      "execution_count": 29,
      "outputs": []
    },
    {
      "cell_type": "markdown",
      "source": [
        "**2) 다층 퍼셉트론을 설계하기 위해 fit_and_evaluate라는 함수 내에 정의**"
      ],
      "metadata": {
        "id": "6ItT7ycXRKIj"
      }
    },
    {
      "cell_type": "code",
      "source": [
        "def fit_and_evaluate(X_train, y_train, X_test, y_test):\n",
        "    model = Sequential()\n",
        "    model.add(Dense(256, input_shape=(max_words,), activation='relu'))\n",
        "    model.add(Dropout(0.5))\n",
        "    model.add(Dense(128, activation='relu'))\n",
        "    model.add(Dropout(0.5))\n",
        "    model.add(Dense(num_classes, activation='softmax'))\n",
        "\n",
        "    model.compile(loss='categorical_crossentropy', optimizer='adam', metrics=['accuracy'])\n",
        "    model.fit(X_train, y_train, batch_size=128, epochs=5, verbose=1, validation_split=0.1)\n",
        "    score = model.evaluate(X_test, y_test, batch_size=128, verbose=0)\n",
        "    return score[1]"
      ],
      "metadata": {
        "id": "5uPxG6KhR02j"
      },
      "execution_count": 30,
      "outputs": []
    },
    {
      "cell_type": "markdown",
      "source": [
        "**3) texts_to_matrix()의 4개의 모드에 대해서 전부 모델을 훈련하고 결과를 확인**"
      ],
      "metadata": {
        "id": "Ouf8MzlkRLcs"
      }
    },
    {
      "cell_type": "code",
      "source": [
        "modes = ['binary', 'count', 'tfidf', 'freq'] # 4개의 모드를 리스트에 저장.\n",
        "\n",
        "for mode in modes: # 4개의 모드에 대해서 각각 아래의 작업을 반복한다.\n",
        "    X_train, X_test, _ = prepare_data(train_email, test_email, mode) # 모드에 따라서 데이터를 전처리\n",
        "    score = fit_and_evaluate(X_train, y_train, X_test, y_test) # 모델을 훈련하고 평가.\n",
        "    print(mode+' 모드의 테스트 정확도:', score)"
      ],
      "metadata": {
        "colab": {
          "base_uri": "https://localhost:8080/"
        },
        "id": "mI2Rb7s1R15j",
        "outputId": "28f7603e-65a9-4806-87ff-6582093c41e1"
      },
      "execution_count": 31,
      "outputs": [
        {
          "output_type": "stream",
          "name": "stdout",
          "text": [
            "Epoch 1/5\n",
            "80/80 [==============================] - 4s 36ms/step - loss: 2.2848 - accuracy: 0.3316 - val_loss: 0.9677 - val_accuracy: 0.8154\n",
            "Epoch 2/5\n",
            "80/80 [==============================] - 3s 35ms/step - loss: 0.8853 - accuracy: 0.7569 - val_loss: 0.4557 - val_accuracy: 0.8905\n",
            "Epoch 3/5\n",
            "80/80 [==============================] - 3s 34ms/step - loss: 0.4347 - accuracy: 0.8837 - val_loss: 0.3520 - val_accuracy: 0.9037\n",
            "Epoch 4/5\n",
            "80/80 [==============================] - 3s 34ms/step - loss: 0.2696 - accuracy: 0.9339 - val_loss: 0.3077 - val_accuracy: 0.9072\n",
            "Epoch 5/5\n",
            "80/80 [==============================] - 3s 35ms/step - loss: 0.1745 - accuracy: 0.9588 - val_loss: 0.2917 - val_accuracy: 0.9125\n",
            "binary 모드의 테스트 정확도: 0.8296601176261902\n",
            "Epoch 1/5\n",
            "80/80 [==============================] - 3s 35ms/step - loss: 2.7383 - accuracy: 0.2564 - val_loss: 1.5083 - val_accuracy: 0.7279\n",
            "Epoch 2/5\n",
            "80/80 [==============================] - 3s 34ms/step - loss: 1.4151 - accuracy: 0.6369 - val_loss: 0.7175 - val_accuracy: 0.8534\n",
            "Epoch 3/5\n",
            "80/80 [==============================] - 3s 34ms/step - loss: 0.7745 - accuracy: 0.7994 - val_loss: 0.4971 - val_accuracy: 0.8728\n",
            "Epoch 4/5\n",
            "80/80 [==============================] - 3s 34ms/step - loss: 0.5291 - accuracy: 0.8768 - val_loss: 0.4506 - val_accuracy: 0.8852\n",
            "Epoch 5/5\n",
            "80/80 [==============================] - 3s 34ms/step - loss: 0.3556 - accuracy: 0.9174 - val_loss: 0.4158 - val_accuracy: 0.8922\n",
            "count 모드의 테스트 정확도: 0.8187732100486755\n",
            "Epoch 1/5\n",
            "80/80 [==============================] - 4s 42ms/step - loss: 2.2185 - accuracy: 0.3572 - val_loss: 0.7773 - val_accuracy: 0.8481\n",
            "Epoch 2/5\n",
            "80/80 [==============================] - 3s 41ms/step - loss: 0.8163 - accuracy: 0.7774 - val_loss: 0.4311 - val_accuracy: 0.8878\n",
            "Epoch 3/5\n",
            "80/80 [==============================] - 3s 39ms/step - loss: 0.4462 - accuracy: 0.8824 - val_loss: 0.3595 - val_accuracy: 0.9019\n",
            "Epoch 4/5\n",
            "80/80 [==============================] - 3s 39ms/step - loss: 0.2946 - accuracy: 0.9286 - val_loss: 0.3042 - val_accuracy: 0.9125\n",
            "Epoch 5/5\n",
            "80/80 [==============================] - 3s 40ms/step - loss: 0.2089 - accuracy: 0.9493 - val_loss: 0.3171 - val_accuracy: 0.9125\n",
            "tfidf 모드의 테스트 정확도: 0.8285979628562927\n",
            "Epoch 1/5\n",
            "80/80 [==============================] - 3s 36ms/step - loss: 2.9746 - accuracy: 0.0903 - val_loss: 2.9113 - val_accuracy: 0.2314\n",
            "Epoch 2/5\n",
            "80/80 [==============================] - 3s 35ms/step - loss: 2.6841 - accuracy: 0.2030 - val_loss: 2.3576 - val_accuracy: 0.4028\n",
            "Epoch 3/5\n",
            "80/80 [==============================] - 3s 34ms/step - loss: 2.1767 - accuracy: 0.3113 - val_loss: 1.8844 - val_accuracy: 0.5106\n",
            "Epoch 4/5\n",
            "80/80 [==============================] - 3s 35ms/step - loss: 1.7614 - accuracy: 0.4430 - val_loss: 1.5193 - val_accuracy: 0.6254\n",
            "Epoch 5/5\n",
            "80/80 [==============================] - 3s 34ms/step - loss: 1.4283 - accuracy: 0.5570 - val_loss: 1.2263 - val_accuracy: 0.7182\n",
            "freq 모드의 테스트 정확도: 0.6640998125076294\n"
          ]
        }
      ]
    }
  ]
}