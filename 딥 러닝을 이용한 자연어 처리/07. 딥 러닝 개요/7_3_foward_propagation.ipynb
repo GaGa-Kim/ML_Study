{
  "nbformat": 4,
  "nbformat_minor": 0,
  "metadata": {
    "colab": {
      "provenance": [],
      "collapsed_sections": []
    },
    "kernelspec": {
      "name": "python3",
      "display_name": "Python 3"
    },
    "language_info": {
      "name": "python"
    }
  },
  "cells": [
    {
      "cell_type": "markdown",
      "source": [
        "# 행렬곱으로 순전파 이해하기"
      ],
      "metadata": {
        "id": "UW3aNtiydaM3"
      }
    },
    {
      "cell_type": "markdown",
      "source": [
        "### 입력의 차원이 3, 출력의 차원이 2인 인공 신경망을 구현할 때\n",
        "### 즉, 소프트맥스 회귀를 한다고 가정하고 활성화 함수를 소프트맥스 함수로 임의로 기재한 후 \n",
        "### 출력 벡터의 차원을 2로 두어 이진 분류를 수행하는 모델을 만들 때"
      ],
      "metadata": {
        "id": "qaziAcQAdeiB"
      }
    },
    {
      "cell_type": "code",
      "source": [
        "from tensorflow.keras.models import Sequential\n",
        "from tensorflow.keras.layers import Dense\n",
        "\n",
        "model = Sequential()\n",
        "\n",
        "# 3개의 입력과 2개의 출력\n",
        "model.add(Dense(2, input_dim=3, activation='softmax'))"
      ],
      "metadata": {
        "id": "3qi0pl2kdsUQ"
      },
      "execution_count": 1,
      "outputs": []
    },
    {
      "cell_type": "code",
      "source": [
        "# 가중치 w의 개수가 총 6개이며 편향 b의 개수가 2개이므로 총 학습가능한 매개변수의 수는 8개\n",
        "model.summary()"
      ],
      "metadata": {
        "colab": {
          "base_uri": "https://localhost:8080/"
        },
        "id": "s_rPJMGAdtzm",
        "outputId": "edb838cf-d951-4916-c26b-2bda3ab48f21"
      },
      "execution_count": 2,
      "outputs": [
        {
          "output_type": "stream",
          "name": "stdout",
          "text": [
            "Model: \"sequential\"\n",
            "_________________________________________________________________\n",
            " Layer (type)                Output Shape              Param #   \n",
            "=================================================================\n",
            " dense (Dense)               (None, 2)                 8         \n",
            "                                                                 \n",
            "=================================================================\n",
            "Total params: 8\n",
            "Trainable params: 8\n",
            "Non-trainable params: 0\n",
            "_________________________________________________________________\n"
          ]
        }
      ]
    },
    {
      "cell_type": "markdown",
      "source": [
        "# 행렬곱으로 다층 퍼셉트론의 순전파 이해하기"
      ],
      "metadata": {
        "id": "yegu7jbldcQw"
      }
    },
    {
      "cell_type": "markdown",
      "source": [
        "### 입력층) 4개의 입력과 8개의 출력\n",
        "### 은닉층1) 8개의 입력과 8개의 출력\n",
        "### 은닉층2) 8개의 입력과 3개의 출력\n",
        "### 출력층) 3개의 입력과 3개의 출력"
      ],
      "metadata": {
        "id": "6YW79fz5dpDA"
      }
    },
    {
      "cell_type": "code",
      "source": [
        "from tensorflow.keras.models import Sequential\n",
        "from tensorflow.keras.layers import Dense\n",
        "\n",
        "model = Sequential()\n",
        "\n",
        "# 4개의 입력과 8개의 출력\n",
        "model.add(Dense(8, input_dim=4, activation='relu'))\n",
        "\n",
        "# 이어서 8개의 출력\n",
        "model.add(Dense(8, activation='relu'))\n",
        "\n",
        "# 이어서 3개의 출력\n",
        "model.add(Dense(3, activation='softmax'))"
      ],
      "metadata": {
        "id": "mCdfYgIJdxZh"
      },
      "execution_count": 3,
      "outputs": []
    },
    {
      "cell_type": "code",
      "source": [
        "# 가중치 w의 개수가 총 32개이며 편향 b의 개수가 8개이므로 총 학습가능한 매개변수의 수는 40개\n",
        "# 가중치 w의 개수가 총 64개이며 편향 b의 개수가 8개이므로 총 학습가능한 매개변수의 수는 72개\n",
        "# 가중치 w의 개수가 총 24개이며 편향 b의 개수가 3개이므로 총 학습가능한 매개변수의 수는 27개\n",
        "model.summary()"
      ],
      "metadata": {
        "colab": {
          "base_uri": "https://localhost:8080/"
        },
        "id": "DWxYztm5d3PG",
        "outputId": "536c073e-6a5e-46f1-80c9-8332be6aaddf"
      },
      "execution_count": 4,
      "outputs": [
        {
          "output_type": "stream",
          "name": "stdout",
          "text": [
            "Model: \"sequential_1\"\n",
            "_________________________________________________________________\n",
            " Layer (type)                Output Shape              Param #   \n",
            "=================================================================\n",
            " dense_1 (Dense)             (None, 8)                 40        \n",
            "                                                                 \n",
            " dense_2 (Dense)             (None, 8)                 72        \n",
            "                                                                 \n",
            " dense_3 (Dense)             (None, 3)                 27        \n",
            "                                                                 \n",
            "=================================================================\n",
            "Total params: 139\n",
            "Trainable params: 139\n",
            "Non-trainable params: 0\n",
            "_________________________________________________________________\n"
          ]
        }
      ]
    }
  ]
}