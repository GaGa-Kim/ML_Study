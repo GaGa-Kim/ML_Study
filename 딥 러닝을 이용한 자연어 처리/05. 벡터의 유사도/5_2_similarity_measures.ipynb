{
  "nbformat": 4,
  "nbformat_minor": 0,
  "metadata": {
    "colab": {
      "provenance": [],
      "collapsed_sections": []
    },
    "kernelspec": {
      "name": "python3",
      "display_name": "Python 3"
    },
    "language_info": {
      "name": "python"
    }
  },
  "cells": [
    {
      "cell_type": "markdown",
      "source": [
        "# 유클리드 거리"
      ],
      "metadata": {
        "id": "zBm2KRffDiFe"
      }
    },
    {
      "cell_type": "markdown",
      "source": [
        "![유클리드.png](data:image/png;base64,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)"
      ],
      "metadata": {
        "id": "s1p2eodEDtXl"
      }
    },
    {
      "cell_type": "markdown",
      "source": [
        "![단어.PNG](data:image/png;base64,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)"
      ],
      "metadata": {
        "id": "Z00LoI0CEK-d"
      }
    },
    {
      "cell_type": "markdown",
      "source": [
        "**예) 문서 1, 2, 3의 DTM이 있을 때, 문서 Q에 대해서 문서 1, 2, 3 중 가장 유사한 문서를 유클리드 거리로 파이썬으로 구해보자**"
      ],
      "metadata": {
        "id": "-KO_iUp7Djfn"
      }
    },
    {
      "cell_type": "code",
      "source": [
        "import numpy as np"
      ],
      "metadata": {
        "id": "3K8y2xciD4t0"
      },
      "execution_count": 1,
      "outputs": []
    },
    {
      "cell_type": "code",
      "source": [
        "def dist(x,y):   \n",
        "    return np.sqrt(np.sum((x-y)**2))\n",
        "\n",
        "doc1 = np.array((2,3,0,1))\n",
        "doc2 = np.array((1,2,3,1))\n",
        "doc3 = np.array((2,1,2,2))\n",
        "docQ = np.array((1,1,0,1))\n",
        "\n",
        "print('문서1과 문서Q의 거리 :',dist(doc1,docQ))\n",
        "print('문서2과 문서Q의 거리 :',dist(doc2,docQ))\n",
        "print('문서3과 문서Q의 거리 :',dist(doc3,docQ))"
      ],
      "metadata": {
        "colab": {
          "base_uri": "https://localhost:8080/"
        },
        "id": "l-0yuUMXD5Re",
        "outputId": "bbfd9c16-94a0-4da9-9e83-cedf7a7b8564"
      },
      "execution_count": 2,
      "outputs": [
        {
          "output_type": "stream",
          "name": "stdout",
          "text": [
            "문서1과 문서Q의 거리 : 2.23606797749979\n",
            "문서2과 문서Q의 거리 : 3.1622776601683795\n",
            "문서3과 문서Q의 거리 : 2.449489742783178\n"
          ]
        }
      ]
    },
    {
      "cell_type": "markdown",
      "source": [
        "# 자카드 유사도"
      ],
      "metadata": {
        "id": "HkOWg7YIDlRk"
      }
    },
    {
      "cell_type": "markdown",
      "source": [
        "![자카드.png](data:image/png;base64,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)"
      ],
      "metadata": {
        "id": "96rurtU9Dv9_"
      }
    },
    {
      "cell_type": "markdown",
      "source": [
        "**예) 문서 1, 2가 있을 때 두 문서 사이의 자카드 유사도를 파이썬으로 구해보자**"
      ],
      "metadata": {
        "id": "Aib-mekKDmFk"
      }
    },
    {
      "cell_type": "code",
      "source": [
        "doc1 = \"apple banana everyone like likey watch card holder\"\n",
        "doc2 = \"apple banana coupon passport love you\"\n",
        "\n",
        "tokenized_doc1 = doc1.split()\n",
        "tokenized_doc2 = doc2.split()\n",
        "\n",
        "print('문서1 :',tokenized_doc1)\n",
        "print('문서2 :',tokenized_doc2)"
      ],
      "metadata": {
        "colab": {
          "base_uri": "https://localhost:8080/"
        },
        "id": "NmNaxZHrENrF",
        "outputId": "5c8a62eb-7108-4f08-c8bb-8e75e47cfe4b"
      },
      "execution_count": 3,
      "outputs": [
        {
          "output_type": "stream",
          "name": "stdout",
          "text": [
            "문서1 : ['apple', 'banana', 'everyone', 'like', 'likey', 'watch', 'card', 'holder']\n",
            "문서2 : ['apple', 'banana', 'coupon', 'passport', 'love', 'you']\n"
          ]
        }
      ]
    },
    {
      "cell_type": "code",
      "source": [
        "union = set(tokenized_doc1).union(set(tokenized_doc2))\n",
        "print('문서1과 문서2의 합집합 :',union)"
      ],
      "metadata": {
        "colab": {
          "base_uri": "https://localhost:8080/"
        },
        "id": "y7I-TMvDEO5V",
        "outputId": "8e2e6089-e8f4-4c07-9883-709063d3fda3"
      },
      "execution_count": 4,
      "outputs": [
        {
          "output_type": "stream",
          "name": "stdout",
          "text": [
            "문서1과 문서2의 합집합 : {'banana', 'card', 'like', 'holder', 'likey', 'passport', 'everyone', 'coupon', 'love', 'you', 'apple', 'watch'}\n"
          ]
        }
      ]
    },
    {
      "cell_type": "code",
      "source": [
        "intersection = set(tokenized_doc1).intersection(set(tokenized_doc2))\n",
        "print('문서1과 문서2의 교집합 :',intersection)"
      ],
      "metadata": {
        "colab": {
          "base_uri": "https://localhost:8080/"
        },
        "id": "dzSAxoNVEPiX",
        "outputId": "279c6e68-ec0a-48bc-8aed-409815f78631"
      },
      "execution_count": 5,
      "outputs": [
        {
          "output_type": "stream",
          "name": "stdout",
          "text": [
            "문서1과 문서2의 교집합 : {'banana', 'apple'}\n"
          ]
        }
      ]
    },
    {
      "cell_type": "code",
      "source": [
        "print('자카드 유사도 :',len(intersection)/len(union))"
      ],
      "metadata": {
        "colab": {
          "base_uri": "https://localhost:8080/"
        },
        "id": "-VNtrWykEQFQ",
        "outputId": "434a6c5a-bf65-4f6e-8f31-1a25304df9d1"
      },
      "execution_count": 6,
      "outputs": [
        {
          "output_type": "stream",
          "name": "stdout",
          "text": [
            "자카드 유사도 : 0.16666666666666666\n"
          ]
        }
      ]
    }
  ]
}