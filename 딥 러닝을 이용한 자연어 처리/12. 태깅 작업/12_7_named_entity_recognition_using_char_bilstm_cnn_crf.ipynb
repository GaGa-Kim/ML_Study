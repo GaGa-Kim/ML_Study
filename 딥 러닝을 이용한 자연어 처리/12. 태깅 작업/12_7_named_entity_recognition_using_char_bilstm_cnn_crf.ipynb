{
  "nbformat": 4,
  "nbformat_minor": 0,
  "metadata": {
    "accelerator": "GPU",
    "colab": {
      "provenance": [],
      "machine_shape": "hm"
    },
    "kernelspec": {
      "display_name": "Python 3",
      "name": "python3"
    }
  },
  "cells": [
    {
      "cell_type": "code",
      "metadata": {
        "colab": {
          "base_uri": "https://localhost:8080/",
          "height": 35
        },
        "id": "BLaXWXiV2ypI",
        "outputId": "4df5374e-726d-46fb-f8ee-fed40b6809fc"
      },
      "source": [
        "import tensorflow as tf\n",
        "tf.__version__"
      ],
      "execution_count": null,
      "outputs": [
        {
          "output_type": "execute_result",
          "data": {
            "application/vnd.google.colaboratory.intrinsic+json": {
              "type": "string"
            },
            "text/plain": [
              "'2.7.0'"
            ]
          },
          "metadata": {},
          "execution_count": 1
        }
      ]
    },
    {
      "cell_type": "markdown",
      "metadata": {
        "id": "pPthmTBbODpC"
      },
      "source": [
        "# CRF 층 설치하기"
      ]
    },
    {
      "cell_type": "markdown",
      "source": [
        "**1) CRF 층을 손쉽게 사용하기 위한 keras-crf를 설치**"
      ],
      "metadata": {
        "id": "Qkgma1Y7RWHb"
      }
    },
    {
      "cell_type": "code",
      "metadata": {
        "colab": {
          "base_uri": "https://localhost:8080/"
        },
        "id": "H9S1I2HIlfAH",
        "outputId": "10a8bf74-b0fa-41cd-85f3-8fe2cfa41fa6"
      },
      "source": [
        "!pip install keras-crf==0.3.0"
      ],
      "execution_count": null,
      "outputs": [
        {
          "output_type": "stream",
          "name": "stdout",
          "text": [
            "Collecting keras-crf==0.3.0\n",
            "  Downloading keras_crf-0.3.0-py3-none-any.whl (8.3 kB)\n",
            "Collecting tensorflow-addons\n",
            "  Downloading tensorflow_addons-0.15.0-cp37-cp37m-manylinux_2_12_x86_64.manylinux2010_x86_64.whl (1.1 MB)\n",
            "\u001b[K     |████████████████████████████████| 1.1 MB 5.5 MB/s \n",
            "\u001b[?25hRequirement already satisfied: tensorflow in /usr/local/lib/python3.7/dist-packages (from keras-crf==0.3.0) (2.7.0)\n",
            "Requirement already satisfied: tensorflow-io-gcs-filesystem>=0.21.0 in /usr/local/lib/python3.7/dist-packages (from tensorflow->keras-crf==0.3.0) (0.22.0)\n",
            "Requirement already satisfied: six>=1.12.0 in /usr/local/lib/python3.7/dist-packages (from tensorflow->keras-crf==0.3.0) (1.15.0)\n",
            "Requirement already satisfied: libclang>=9.0.1 in /usr/local/lib/python3.7/dist-packages (from tensorflow->keras-crf==0.3.0) (12.0.0)\n",
            "Requirement already satisfied: h5py>=2.9.0 in /usr/local/lib/python3.7/dist-packages (from tensorflow->keras-crf==0.3.0) (3.1.0)\n",
            "Requirement already satisfied: absl-py>=0.4.0 in /usr/local/lib/python3.7/dist-packages (from tensorflow->keras-crf==0.3.0) (0.12.0)\n",
            "Requirement already satisfied: flatbuffers<3.0,>=1.12 in /usr/local/lib/python3.7/dist-packages (from tensorflow->keras-crf==0.3.0) (2.0)\n",
            "Requirement already satisfied: tensorflow-estimator<2.8,~=2.7.0rc0 in /usr/local/lib/python3.7/dist-packages (from tensorflow->keras-crf==0.3.0) (2.7.0)\n",
            "Requirement already satisfied: typing-extensions>=3.6.6 in /usr/local/lib/python3.7/dist-packages (from tensorflow->keras-crf==0.3.0) (3.10.0.2)\n",
            "Requirement already satisfied: gast<0.5.0,>=0.2.1 in /usr/local/lib/python3.7/dist-packages (from tensorflow->keras-crf==0.3.0) (0.4.0)\n",
            "Requirement already satisfied: protobuf>=3.9.2 in /usr/local/lib/python3.7/dist-packages (from tensorflow->keras-crf==0.3.0) (3.17.3)\n",
            "Requirement already satisfied: wrapt>=1.11.0 in /usr/local/lib/python3.7/dist-packages (from tensorflow->keras-crf==0.3.0) (1.13.3)\n",
            "Requirement already satisfied: tensorboard~=2.6 in /usr/local/lib/python3.7/dist-packages (from tensorflow->keras-crf==0.3.0) (2.7.0)\n",
            "Requirement already satisfied: google-pasta>=0.1.1 in /usr/local/lib/python3.7/dist-packages (from tensorflow->keras-crf==0.3.0) (0.2.0)\n",
            "Requirement already satisfied: termcolor>=1.1.0 in /usr/local/lib/python3.7/dist-packages (from tensorflow->keras-crf==0.3.0) (1.1.0)\n",
            "Requirement already satisfied: numpy>=1.14.5 in /usr/local/lib/python3.7/dist-packages (from tensorflow->keras-crf==0.3.0) (1.19.5)\n",
            "Requirement already satisfied: keras-preprocessing>=1.1.1 in /usr/local/lib/python3.7/dist-packages (from tensorflow->keras-crf==0.3.0) (1.1.2)\n",
            "Requirement already satisfied: opt-einsum>=2.3.2 in /usr/local/lib/python3.7/dist-packages (from tensorflow->keras-crf==0.3.0) (3.3.0)\n",
            "Requirement already satisfied: keras<2.8,>=2.7.0rc0 in /usr/local/lib/python3.7/dist-packages (from tensorflow->keras-crf==0.3.0) (2.7.0)\n",
            "Requirement already satisfied: wheel<1.0,>=0.32.0 in /usr/local/lib/python3.7/dist-packages (from tensorflow->keras-crf==0.3.0) (0.37.0)\n",
            "Requirement already satisfied: astunparse>=1.6.0 in /usr/local/lib/python3.7/dist-packages (from tensorflow->keras-crf==0.3.0) (1.6.3)\n",
            "Requirement already satisfied: grpcio<2.0,>=1.24.3 in /usr/local/lib/python3.7/dist-packages (from tensorflow->keras-crf==0.3.0) (1.42.0)\n",
            "Requirement already satisfied: cached-property in /usr/local/lib/python3.7/dist-packages (from h5py>=2.9.0->tensorflow->keras-crf==0.3.0) (1.5.2)\n",
            "Requirement already satisfied: tensorboard-plugin-wit>=1.6.0 in /usr/local/lib/python3.7/dist-packages (from tensorboard~=2.6->tensorflow->keras-crf==0.3.0) (1.8.0)\n",
            "Requirement already satisfied: google-auth<3,>=1.6.3 in /usr/local/lib/python3.7/dist-packages (from tensorboard~=2.6->tensorflow->keras-crf==0.3.0) (1.35.0)\n",
            "Requirement already satisfied: markdown>=2.6.8 in /usr/local/lib/python3.7/dist-packages (from tensorboard~=2.6->tensorflow->keras-crf==0.3.0) (3.3.6)\n",
            "Requirement already satisfied: requests<3,>=2.21.0 in /usr/local/lib/python3.7/dist-packages (from tensorboard~=2.6->tensorflow->keras-crf==0.3.0) (2.23.0)\n",
            "Requirement already satisfied: google-auth-oauthlib<0.5,>=0.4.1 in /usr/local/lib/python3.7/dist-packages (from tensorboard~=2.6->tensorflow->keras-crf==0.3.0) (0.4.6)\n",
            "Requirement already satisfied: setuptools>=41.0.0 in /usr/local/lib/python3.7/dist-packages (from tensorboard~=2.6->tensorflow->keras-crf==0.3.0) (57.4.0)\n",
            "Requirement already satisfied: tensorboard-data-server<0.7.0,>=0.6.0 in /usr/local/lib/python3.7/dist-packages (from tensorboard~=2.6->tensorflow->keras-crf==0.3.0) (0.6.1)\n",
            "Requirement already satisfied: werkzeug>=0.11.15 in /usr/local/lib/python3.7/dist-packages (from tensorboard~=2.6->tensorflow->keras-crf==0.3.0) (1.0.1)\n",
            "Requirement already satisfied: cachetools<5.0,>=2.0.0 in /usr/local/lib/python3.7/dist-packages (from google-auth<3,>=1.6.3->tensorboard~=2.6->tensorflow->keras-crf==0.3.0) (4.2.4)\n",
            "Requirement already satisfied: pyasn1-modules>=0.2.1 in /usr/local/lib/python3.7/dist-packages (from google-auth<3,>=1.6.3->tensorboard~=2.6->tensorflow->keras-crf==0.3.0) (0.2.8)\n",
            "Requirement already satisfied: rsa<5,>=3.1.4 in /usr/local/lib/python3.7/dist-packages (from google-auth<3,>=1.6.3->tensorboard~=2.6->tensorflow->keras-crf==0.3.0) (4.8)\n",
            "Requirement already satisfied: requests-oauthlib>=0.7.0 in /usr/local/lib/python3.7/dist-packages (from google-auth-oauthlib<0.5,>=0.4.1->tensorboard~=2.6->tensorflow->keras-crf==0.3.0) (1.3.0)\n",
            "Requirement already satisfied: importlib-metadata>=4.4 in /usr/local/lib/python3.7/dist-packages (from markdown>=2.6.8->tensorboard~=2.6->tensorflow->keras-crf==0.3.0) (4.8.2)\n",
            "Requirement already satisfied: zipp>=0.5 in /usr/local/lib/python3.7/dist-packages (from importlib-metadata>=4.4->markdown>=2.6.8->tensorboard~=2.6->tensorflow->keras-crf==0.3.0) (3.6.0)\n",
            "Requirement already satisfied: pyasn1<0.5.0,>=0.4.6 in /usr/local/lib/python3.7/dist-packages (from pyasn1-modules>=0.2.1->google-auth<3,>=1.6.3->tensorboard~=2.6->tensorflow->keras-crf==0.3.0) (0.4.8)\n",
            "Requirement already satisfied: idna<3,>=2.5 in /usr/local/lib/python3.7/dist-packages (from requests<3,>=2.21.0->tensorboard~=2.6->tensorflow->keras-crf==0.3.0) (2.10)\n",
            "Requirement already satisfied: certifi>=2017.4.17 in /usr/local/lib/python3.7/dist-packages (from requests<3,>=2.21.0->tensorboard~=2.6->tensorflow->keras-crf==0.3.0) (2021.10.8)\n",
            "Requirement already satisfied: chardet<4,>=3.0.2 in /usr/local/lib/python3.7/dist-packages (from requests<3,>=2.21.0->tensorboard~=2.6->tensorflow->keras-crf==0.3.0) (3.0.4)\n",
            "Requirement already satisfied: urllib3!=1.25.0,!=1.25.1,<1.26,>=1.21.1 in /usr/local/lib/python3.7/dist-packages (from requests<3,>=2.21.0->tensorboard~=2.6->tensorflow->keras-crf==0.3.0) (1.24.3)\n",
            "Requirement already satisfied: oauthlib>=3.0.0 in /usr/local/lib/python3.7/dist-packages (from requests-oauthlib>=0.7.0->google-auth-oauthlib<0.5,>=0.4.1->tensorboard~=2.6->tensorflow->keras-crf==0.3.0) (3.1.1)\n",
            "Requirement already satisfied: typeguard>=2.7 in /usr/local/lib/python3.7/dist-packages (from tensorflow-addons->keras-crf==0.3.0) (2.7.1)\n",
            "Installing collected packages: tensorflow-addons, keras-crf\n",
            "Successfully installed keras-crf-0.3.0 tensorflow-addons-0.15.0\n"
          ]
        }
      ]
    },
    {
      "cell_type": "code",
      "metadata": {
        "colab": {
          "base_uri": "https://localhost:8080/"
        },
        "id": "329OHwxK-1if",
        "outputId": "36437295-b18e-4fd8-c29b-20a00623d9ba"
      },
      "source": [
        "# 모델 평가\n",
        "!pip install seqeval"
      ],
      "execution_count": null,
      "outputs": [
        {
          "output_type": "stream",
          "name": "stdout",
          "text": [
            "Collecting seqeval\n",
            "  Downloading seqeval-1.2.2.tar.gz (43 kB)\n",
            "\u001b[?25l\r\u001b[K     |███████▌                        | 10 kB 27.1 MB/s eta 0:00:01\r\u001b[K     |███████████████                 | 20 kB 8.8 MB/s eta 0:00:01\r\u001b[K     |██████████████████████▌         | 30 kB 7.6 MB/s eta 0:00:01\r\u001b[K     |██████████████████████████████  | 40 kB 7.2 MB/s eta 0:00:01\r\u001b[K     |████████████████████████████████| 43 kB 828 kB/s \n",
            "\u001b[?25hRequirement already satisfied: numpy>=1.14.0 in /usr/local/lib/python3.7/dist-packages (from seqeval) (1.19.5)\n",
            "Requirement already satisfied: scikit-learn>=0.21.3 in /usr/local/lib/python3.7/dist-packages (from seqeval) (1.0.1)\n",
            "Requirement already satisfied: joblib>=0.11 in /usr/local/lib/python3.7/dist-packages (from scikit-learn>=0.21.3->seqeval) (1.1.0)\n",
            "Requirement already satisfied: scipy>=1.1.0 in /usr/local/lib/python3.7/dist-packages (from scikit-learn>=0.21.3->seqeval) (1.4.1)\n",
            "Requirement already satisfied: threadpoolctl>=2.0.0 in /usr/local/lib/python3.7/dist-packages (from scikit-learn>=0.21.3->seqeval) (3.0.0)\n",
            "Building wheels for collected packages: seqeval\n",
            "  Building wheel for seqeval (setup.py) ... \u001b[?25l\u001b[?25hdone\n",
            "  Created wheel for seqeval: filename=seqeval-1.2.2-py3-none-any.whl size=16181 sha256=487266b3ca3a8ba64c2e4741beffd6bbf3a7f3836117a70c4fa7f4ce54510c12\n",
            "  Stored in directory: /root/.cache/pip/wheels/05/96/ee/7cac4e74f3b19e3158dce26a20a1c86b3533c43ec72a549fd7\n",
            "Successfully built seqeval\n",
            "Installing collected packages: seqeval\n",
            "Successfully installed seqeval-1.2.2\n"
          ]
        }
      ]
    },
    {
      "cell_type": "code",
      "metadata": {
        "colab": {
          "base_uri": "https://localhost:8080/"
        },
        "id": "L9gruUeWo-tI",
        "outputId": "e5352579-da2c-4a3e-9109-cea79fc34ca4"
      },
      "source": [
        "!pip list | grep keras-crf"
      ],
      "execution_count": null,
      "outputs": [
        {
          "output_type": "stream",
          "name": "stdout",
          "text": [
            "keras-crf                     0.3.0\n"
          ]
        }
      ]
    },
    {
      "cell_type": "markdown",
      "metadata": {
        "id": "p7yAfzbN7aXk"
      },
      "source": [
        "# 또다른 개체명 인식 데이터에 대한 이해와 전처리"
      ]
    },
    {
      "cell_type": "code",
      "metadata": {
        "id": "BDfQP9b6yXPw"
      },
      "source": [
        "import pandas as pd\n",
        "import numpy as np\n",
        "import matplotlib.pyplot as plt\n",
        "import urllib.request\n",
        "from tensorflow.keras.preprocessing.text import Tokenizer\n",
        "from tensorflow.keras.preprocessing.sequence import pad_sequences\n",
        "from sklearn.model_selection import train_test_split\n",
        "from tensorflow.keras.utils import to_categorical"
      ],
      "execution_count": null,
      "outputs": []
    },
    {
      "cell_type": "markdown",
      "source": [
        "**1) Annotated Corpus 데이터 다운로드**"
      ],
      "metadata": {
        "id": "nsAb46KyPbyy"
      }
    },
    {
      "cell_type": "code",
      "source": [
        "urllib.request.urlretrieve(\"https://raw.githubusercontent.com/ukairia777/tensorflow-nlp-tutorial/main/12.%20Sequence%20Labeling/dataset/ner_dataset.csv\", filename=\"ner_dataset.csv\")"
      ],
      "metadata": {
        "colab": {
          "base_uri": "https://localhost:8080/"
        },
        "id": "lRLt7RpOY0Lj",
        "outputId": "8a327fb6-b190-4013-fe4f-59f76cfc1744"
      },
      "execution_count": null,
      "outputs": [
        {
          "output_type": "execute_result",
          "data": {
            "text/plain": [
              "('ner_dataset.csv', <http.client.HTTPMessage at 0x7f5243b2f950>)"
            ]
          },
          "metadata": {},
          "execution_count": 2
        }
      ]
    },
    {
      "cell_type": "code",
      "metadata": {
        "id": "Qo5Q_PDwycAo"
      },
      "source": [
        "data = pd.read_csv(\"ner_dataset.csv\", encoding=\"latin1\")"
      ],
      "execution_count": null,
      "outputs": []
    },
    {
      "cell_type": "markdown",
      "source": [
        "**2) 샘플 5개 출력**<br>\n",
        "&nbsp;&nbsp;&nbsp;&nbsp;\n",
        "     **t번째 문장을 단어 토큰화 후 각 행으로 나눠놓은 데이터이기 때문에**<br>\n",
        "&nbsp;&nbsp;&nbsp;&nbsp;\n",
        "     **Sentence: t부터 Null 값이 나오다가 Sentence: t+1이 나오기 전까지의 모든 행은 기존에 하나의 문장임**"
      ],
      "metadata": {
        "id": "bgYvwNCsPdea"
      }
    },
    {
      "cell_type": "code",
      "source": [
        "data[:5]"
      ],
      "metadata": {
        "colab": {
          "base_uri": "https://localhost:8080/",
          "height": 206
        },
        "id": "ymJjyBL_Y7Bb",
        "outputId": "db039a18-13e7-4a7e-e138-fcd500f62c75"
      },
      "execution_count": null,
      "outputs": [
        {
          "output_type": "execute_result",
          "data": {
            "text/html": [
              "\n",
              "  <div id=\"df-9199acd4-a69a-42c8-886e-fdf30fb3200c\">\n",
              "    <div class=\"colab-df-container\">\n",
              "      <div>\n",
              "<style scoped>\n",
              "    .dataframe tbody tr th:only-of-type {\n",
              "        vertical-align: middle;\n",
              "    }\n",
              "\n",
              "    .dataframe tbody tr th {\n",
              "        vertical-align: top;\n",
              "    }\n",
              "\n",
              "    .dataframe thead th {\n",
              "        text-align: right;\n",
              "    }\n",
              "</style>\n",
              "<table border=\"1\" class=\"dataframe\">\n",
              "  <thead>\n",
              "    <tr style=\"text-align: right;\">\n",
              "      <th></th>\n",
              "      <th>Sentence #</th>\n",
              "      <th>Word</th>\n",
              "      <th>POS</th>\n",
              "      <th>Tag</th>\n",
              "    </tr>\n",
              "  </thead>\n",
              "  <tbody>\n",
              "    <tr>\n",
              "      <th>0</th>\n",
              "      <td>Sentence: 1</td>\n",
              "      <td>Thousands</td>\n",
              "      <td>NNS</td>\n",
              "      <td>O</td>\n",
              "    </tr>\n",
              "    <tr>\n",
              "      <th>1</th>\n",
              "      <td>NaN</td>\n",
              "      <td>of</td>\n",
              "      <td>IN</td>\n",
              "      <td>O</td>\n",
              "    </tr>\n",
              "    <tr>\n",
              "      <th>2</th>\n",
              "      <td>NaN</td>\n",
              "      <td>demonstrators</td>\n",
              "      <td>NNS</td>\n",
              "      <td>O</td>\n",
              "    </tr>\n",
              "    <tr>\n",
              "      <th>3</th>\n",
              "      <td>NaN</td>\n",
              "      <td>have</td>\n",
              "      <td>VBP</td>\n",
              "      <td>O</td>\n",
              "    </tr>\n",
              "    <tr>\n",
              "      <th>4</th>\n",
              "      <td>NaN</td>\n",
              "      <td>marched</td>\n",
              "      <td>VBN</td>\n",
              "      <td>O</td>\n",
              "    </tr>\n",
              "  </tbody>\n",
              "</table>\n",
              "</div>\n",
              "      <button class=\"colab-df-convert\" onclick=\"convertToInteractive('df-9199acd4-a69a-42c8-886e-fdf30fb3200c')\"\n",
              "              title=\"Convert this dataframe to an interactive table.\"\n",
              "              style=\"display:none;\">\n",
              "        \n",
              "  <svg xmlns=\"http://www.w3.org/2000/svg\" height=\"24px\"viewBox=\"0 0 24 24\"\n",
              "       width=\"24px\">\n",
              "    <path d=\"M0 0h24v24H0V0z\" fill=\"none\"/>\n",
              "    <path d=\"M18.56 5.44l.94 2.06.94-2.06 2.06-.94-2.06-.94-.94-2.06-.94 2.06-2.06.94zm-11 1L8.5 8.5l.94-2.06 2.06-.94-2.06-.94L8.5 2.5l-.94 2.06-2.06.94zm10 10l.94 2.06.94-2.06 2.06-.94-2.06-.94-.94-2.06-.94 2.06-2.06.94z\"/><path d=\"M17.41 7.96l-1.37-1.37c-.4-.4-.92-.59-1.43-.59-.52 0-1.04.2-1.43.59L10.3 9.45l-7.72 7.72c-.78.78-.78 2.05 0 2.83L4 21.41c.39.39.9.59 1.41.59.51 0 1.02-.2 1.41-.59l7.78-7.78 2.81-2.81c.8-.78.8-2.07 0-2.86zM5.41 20L4 18.59l7.72-7.72 1.47 1.35L5.41 20z\"/>\n",
              "  </svg>\n",
              "      </button>\n",
              "      \n",
              "  <style>\n",
              "    .colab-df-container {\n",
              "      display:flex;\n",
              "      flex-wrap:wrap;\n",
              "      gap: 12px;\n",
              "    }\n",
              "\n",
              "    .colab-df-convert {\n",
              "      background-color: #E8F0FE;\n",
              "      border: none;\n",
              "      border-radius: 50%;\n",
              "      cursor: pointer;\n",
              "      display: none;\n",
              "      fill: #1967D2;\n",
              "      height: 32px;\n",
              "      padding: 0 0 0 0;\n",
              "      width: 32px;\n",
              "    }\n",
              "\n",
              "    .colab-df-convert:hover {\n",
              "      background-color: #E2EBFA;\n",
              "      box-shadow: 0px 1px 2px rgba(60, 64, 67, 0.3), 0px 1px 3px 1px rgba(60, 64, 67, 0.15);\n",
              "      fill: #174EA6;\n",
              "    }\n",
              "\n",
              "    [theme=dark] .colab-df-convert {\n",
              "      background-color: #3B4455;\n",
              "      fill: #D2E3FC;\n",
              "    }\n",
              "\n",
              "    [theme=dark] .colab-df-convert:hover {\n",
              "      background-color: #434B5C;\n",
              "      box-shadow: 0px 1px 3px 1px rgba(0, 0, 0, 0.15);\n",
              "      filter: drop-shadow(0px 1px 2px rgba(0, 0, 0, 0.3));\n",
              "      fill: #FFFFFF;\n",
              "    }\n",
              "  </style>\n",
              "\n",
              "      <script>\n",
              "        const buttonEl =\n",
              "          document.querySelector('#df-9199acd4-a69a-42c8-886e-fdf30fb3200c button.colab-df-convert');\n",
              "        buttonEl.style.display =\n",
              "          google.colab.kernel.accessAllowed ? 'block' : 'none';\n",
              "\n",
              "        async function convertToInteractive(key) {\n",
              "          const element = document.querySelector('#df-9199acd4-a69a-42c8-886e-fdf30fb3200c');\n",
              "          const dataTable =\n",
              "            await google.colab.kernel.invokeFunction('convertToInteractive',\n",
              "                                                     [key], {});\n",
              "          if (!dataTable) return;\n",
              "\n",
              "          const docLinkHtml = 'Like what you see? Visit the ' +\n",
              "            '<a target=\"_blank\" href=https://colab.research.google.com/notebooks/data_table.ipynb>data table notebook</a>'\n",
              "            + ' to learn more about interactive tables.';\n",
              "          element.innerHTML = '';\n",
              "          dataTable['output_type'] = 'display_data';\n",
              "          await google.colab.output.renderOutput(dataTable, element);\n",
              "          const docLink = document.createElement('div');\n",
              "          docLink.innerHTML = docLinkHtml;\n",
              "          element.appendChild(docLink);\n",
              "        }\n",
              "      </script>\n",
              "    </div>\n",
              "  </div>\n",
              "  "
            ],
            "text/plain": [
              "    Sentence #           Word  POS Tag\n",
              "0  Sentence: 1      Thousands  NNS   O\n",
              "1          NaN             of   IN   O\n",
              "2          NaN  demonstrators  NNS   O\n",
              "3          NaN           have  VBP   O\n",
              "4          NaN        marched  VBN   O"
            ]
          },
          "metadata": {},
          "execution_count": 4
        }
      ]
    },
    {
      "cell_type": "markdown",
      "source": [
        "**3) 데이터의 행의 개수를 확인**<br>\n",
        "&nbsp;&nbsp;&nbsp;&nbsp;\n",
        "     **이는 문장 1개를 다수의 행들로 나누어 놓은 것이므로 다시 1개의 행으로 병합하는 작업을 하면 최종 샘플의 수는 이보다 적음**"
      ],
      "metadata": {
        "id": "EevKUBIbPm1c"
      }
    },
    {
      "cell_type": "code",
      "metadata": {
        "colab": {
          "base_uri": "https://localhost:8080/"
        },
        "id": "31B1kMVYzFMd",
        "outputId": "4a9c217b-c48d-4213-c244-b7d44724d89b"
      },
      "source": [
        "print('데이터프레임 행의 개수 : {}'.format(len(data)))"
      ],
      "execution_count": null,
      "outputs": [
        {
          "output_type": "stream",
          "name": "stdout",
          "text": [
            "데이터프레임 행의 개수 : 1048575\n"
          ]
        }
      ]
    },
    {
      "cell_type": "markdown",
      "source": [
        "**4) 결측값 유무 출력**"
      ],
      "metadata": {
        "id": "77N3_qPVPriX"
      }
    },
    {
      "cell_type": "code",
      "metadata": {
        "colab": {
          "base_uri": "https://localhost:8080/"
        },
        "id": "5qgElyBDzlXu",
        "outputId": "7f7bb0d7-80a2-415e-acba-1f358b63edcc"
      },
      "source": [
        "print('데이터에 Null 값이 있는지 유무 : ' + str(data.isnull().values.any()))"
      ],
      "execution_count": null,
      "outputs": [
        {
          "output_type": "stream",
          "name": "stdout",
          "text": [
            "데이터에 Null 값이 있는지 유무 : True\n"
          ]
        }
      ]
    },
    {
      "cell_type": "code",
      "metadata": {
        "colab": {
          "base_uri": "https://localhost:8080/"
        },
        "id": "mUKvYcMg3HCH",
        "outputId": "b0e59737-bb44-4d6b-f9d3-01c461ab87a9"
      },
      "source": [
        "print('어떤 열에 Null값이 있는지 출력')\n",
        "print('==============================')\n",
        "data.isnull().sum()"
      ],
      "execution_count": null,
      "outputs": [
        {
          "output_type": "stream",
          "name": "stdout",
          "text": [
            "어떤 열에 Null값이 있는지 출력\n",
            "==============================\n"
          ]
        },
        {
          "output_type": "execute_result",
          "data": {
            "text/plain": [
              "Sentence #    1000616\n",
              "Word                0\n",
              "POS                 0\n",
              "Tag                 0\n",
              "dtype: int64"
            ]
          },
          "metadata": {},
          "execution_count": 7
        }
      ]
    },
    {
      "cell_type": "markdown",
      "source": [
        "**5) 전체 데이터에서 중복을 허용하지 않고 유일한 값의 개수를 확인**"
      ],
      "metadata": {
        "id": "s6e1ZIbzP1dJ"
      }
    },
    {
      "cell_type": "code",
      "metadata": {
        "colab": {
          "base_uri": "https://localhost:8080/"
        },
        "id": "D6V0rIuF3Jiv",
        "outputId": "1eab449f-3d44-4472-ac47-1695b5fd4687"
      },
      "source": [
        "print('sentence # 열의 중복을 제거한 값의 개수 : {}'.format(data['Sentence #'].nunique()))\n",
        "print('Word 열의 중복을 제거한 값의 개수 : {}'.format(data.Word.nunique()))\n",
        "print('Tag 열의 중복을 제거한 값의 개수 : {}'.format(data.Tag.nunique()))"
      ],
      "execution_count": null,
      "outputs": [
        {
          "output_type": "stream",
          "name": "stdout",
          "text": [
            "sentence # 열의 중복을 제거한 값의 개수 : 47959\n",
            "Word 열의 중복을 제거한 값의 개수 : 35178\n",
            "Tag 열의 중복을 제거한 값의 개수 : 17\n"
          ]
        }
      ]
    },
    {
      "cell_type": "markdown",
      "source": [
        "**6) 17개의 개체명 태깅이 전체 데이터에서 몇 개가 있는지, 개체명 태깅 개수의 분포를 확인**<br>\n",
        "&nbsp;&nbsp;&nbsp;&nbsp;\n",
        "     **아무런 태깅도 의미하지 않는 O가 가장 많은 개수를 차지함**"
      ],
      "metadata": {
        "id": "3EYu_v4-P3uo"
      }
    },
    {
      "cell_type": "code",
      "metadata": {
        "colab": {
          "base_uri": "https://localhost:8080/"
        },
        "id": "5pb88O9o3LRo",
        "outputId": "600894a8-a648-4416-dc32-c670b3870c94"
      },
      "source": [
        "print('Tag 열의 각각의 값의 개수 카운트')\n",
        "print('================================')\n",
        "print(data.groupby('Tag').size().reset_index(name='count'))"
      ],
      "execution_count": null,
      "outputs": [
        {
          "output_type": "stream",
          "name": "stdout",
          "text": [
            "Tag 열의 각각의 값의 개수 카운트\n",
            "================================\n",
            "      Tag   count\n",
            "0   B-art     402\n",
            "1   B-eve     308\n",
            "2   B-geo   37644\n",
            "3   B-gpe   15870\n",
            "4   B-nat     201\n",
            "5   B-org   20143\n",
            "6   B-per   16990\n",
            "7   B-tim   20333\n",
            "8   I-art     297\n",
            "9   I-eve     253\n",
            "10  I-geo    7414\n",
            "11  I-gpe     198\n",
            "12  I-nat      51\n",
            "13  I-org   16784\n",
            "14  I-per   17251\n",
            "15  I-tim    6528\n",
            "16      O  887908\n"
          ]
        }
      ]
    },
    {
      "cell_type": "markdown",
      "source": [
        "**7) Null을 제거하도록 함**<br>\n",
        "&nbsp;&nbsp;&nbsp;&nbsp;\n",
        "     **t번째 문장에 속하면서 Null 값을 가진 샘플들은 전부 첫 번째 열에 Sentence: t의 값이 들어가게 됨**"
      ],
      "metadata": {
        "id": "ud4zJTvYP8lG"
      }
    },
    {
      "cell_type": "code",
      "metadata": {
        "id": "kobBX39g3Mfc"
      },
      "source": [
        "data = data.fillna(method=\"ffill\")"
      ],
      "execution_count": null,
      "outputs": []
    },
    {
      "cell_type": "code",
      "metadata": {
        "colab": {
          "base_uri": "https://localhost:8080/"
        },
        "id": "95-AHZjn3Nso",
        "outputId": "610c9559-653e-461b-cb55-ba556a26d77b"
      },
      "source": [
        "print(data.tail())"
      ],
      "execution_count": null,
      "outputs": [
        {
          "output_type": "stream",
          "name": "stdout",
          "text": [
            "              Sentence #       Word  POS Tag\n",
            "1048570  Sentence: 47959       they  PRP   O\n",
            "1048571  Sentence: 47959  responded  VBD   O\n",
            "1048572  Sentence: 47959         to   TO   O\n",
            "1048573  Sentence: 47959        the   DT   O\n",
            "1048574  Sentence: 47959     attack   NN   O\n"
          ]
        }
      ]
    },
    {
      "cell_type": "code",
      "metadata": {
        "colab": {
          "base_uri": "https://localhost:8080/"
        },
        "id": "EOdOzFb43QzV",
        "outputId": "01b1c11e-2105-42fd-e083-8feb648afa15"
      },
      "source": [
        "print('데이터에 Null 값이 있는지 유무 : ' + str(data.isnull().values.any()))"
      ],
      "execution_count": null,
      "outputs": [
        {
          "output_type": "stream",
          "name": "stdout",
          "text": [
            "데이터에 Null 값이 있는지 유무 : False\n"
          ]
        }
      ]
    },
    {
      "cell_type": "markdown",
      "source": [
        "**8) 모든 단어를 소문자화하여 단어의 개수를 줄이기**"
      ],
      "metadata": {
        "id": "PtbKhLI6QDRG"
      }
    },
    {
      "cell_type": "code",
      "metadata": {
        "colab": {
          "base_uri": "https://localhost:8080/"
        },
        "id": "9ez83REt3TNT",
        "outputId": "513deee1-1b22-484f-9da0-42752b61a86f"
      },
      "source": [
        "data['Word'] = data['Word'].str.lower()\n",
        "print('Word 열의 중복을 제거한 값의 개수 : {}'.format(data.Word.nunique()))"
      ],
      "execution_count": null,
      "outputs": [
        {
          "output_type": "stream",
          "name": "stdout",
          "text": [
            "Word 열의 중복을 제거한 값의 개수 : 31817\n"
          ]
        }
      ]
    },
    {
      "cell_type": "code",
      "metadata": {
        "colab": {
          "base_uri": "https://localhost:8080/"
        },
        "id": "n1VSrB3z3UeP",
        "outputId": "37c392fe-2cea-473a-d625-60c6afc8759b"
      },
      "source": [
        "print(data[:5])"
      ],
      "execution_count": null,
      "outputs": [
        {
          "output_type": "stream",
          "name": "stdout",
          "text": [
            "    Sentence #           Word  POS Tag\n",
            "0  Sentence: 1      thousands  NNS   O\n",
            "1  Sentence: 1             of   IN   O\n",
            "2  Sentence: 1  demonstrators  NNS   O\n",
            "3  Sentence: 1           have  VBP   O\n",
            "4  Sentence: 1        marched  VBN   O\n"
          ]
        }
      ]
    },
    {
      "cell_type": "markdown",
      "source": [
        "**9) 하나의 문장에 등장한 단어와 개체명 태깅 정보끼리 쌍으로 묶기**"
      ],
      "metadata": {
        "id": "wbN0xV86QFKU"
      }
    },
    {
      "cell_type": "code",
      "metadata": {
        "colab": {
          "base_uri": "https://localhost:8080/"
        },
        "id": "5v7gEF8u3Vyw",
        "outputId": "5b0794b6-7f58-4627-e601-9061b8008cca"
      },
      "source": [
        "func = lambda temp: [(w, t) for w, t in zip(temp[\"Word\"].values.tolist(), temp[\"Tag\"].values.tolist())]\n",
        "tagged_sentences=[t for t in data.groupby(\"Sentence #\").apply(func)]\n",
        "print(\"전체 샘플 개수: {}\".format(len(tagged_sentences)))"
      ],
      "execution_count": null,
      "outputs": [
        {
          "output_type": "stream",
          "name": "stdout",
          "text": [
            "전체 샘플 개수: 47959\n"
          ]
        }
      ]
    },
    {
      "cell_type": "code",
      "metadata": {
        "colab": {
          "base_uri": "https://localhost:8080/"
        },
        "id": "BP3eD9h53W_D",
        "outputId": "e81152ed-a8ab-4234-f813-c858c13d3a7d"
      },
      "source": [
        "print(tagged_sentences[0]) # 첫번째 샘플 출력"
      ],
      "execution_count": null,
      "outputs": [
        {
          "output_type": "stream",
          "name": "stdout",
          "text": [
            "[('thousands', 'O'), ('of', 'O'), ('demonstrators', 'O'), ('have', 'O'), ('marched', 'O'), ('through', 'O'), ('london', 'B-geo'), ('to', 'O'), ('protest', 'O'), ('the', 'O'), ('war', 'O'), ('in', 'O'), ('iraq', 'B-geo'), ('and', 'O'), ('demand', 'O'), ('the', 'O'), ('withdrawal', 'O'), ('of', 'O'), ('british', 'B-gpe'), ('troops', 'O'), ('from', 'O'), ('that', 'O'), ('country', 'O'), ('.', 'O')]\n"
          ]
        }
      ]
    },
    {
      "cell_type": "markdown",
      "source": [
        "**10) zip() 함수를 이용해서 단어 부분과 개체명 태깅 정보 부분을 분리시켜 sentences와 ner_tags에 저장**"
      ],
      "metadata": {
        "id": "93RnNt4lQJXn"
      }
    },
    {
      "cell_type": "code",
      "metadata": {
        "id": "BDIr2WoF3YKu"
      },
      "source": [
        "sentences, ner_tags = [], [] \n",
        "for tagged_sentence in tagged_sentences: # 47,959개의 문장 샘플을 1개씩 불러온다.\n",
        "    sentence, tag_info = zip(*tagged_sentence) # 각 샘플에서 단어들은 sentence에 개체명 태깅 정보들은 tag_info에 저장.\n",
        "    sentences.append(list(sentence)) # 각 샘플에서 단어 정보만 저장한다.\n",
        "    ner_tags.append(list(tag_info)) # 각 샘플에서 개체명 태깅 정보만 저장한다."
      ],
      "execution_count": null,
      "outputs": []
    },
    {
      "cell_type": "code",
      "metadata": {
        "colab": {
          "base_uri": "https://localhost:8080/"
        },
        "id": "L0Qcw-VN3aZp",
        "outputId": "8e44f1b6-9a68-4f08-a864-70ccc0138a4c"
      },
      "source": [
        "print(sentences[0])\n",
        "print(ner_tags[0])"
      ],
      "execution_count": null,
      "outputs": [
        {
          "output_type": "stream",
          "name": "stdout",
          "text": [
            "['thousands', 'of', 'demonstrators', 'have', 'marched', 'through', 'london', 'to', 'protest', 'the', 'war', 'in', 'iraq', 'and', 'demand', 'the', 'withdrawal', 'of', 'british', 'troops', 'from', 'that', 'country', '.']\n",
            "['O', 'O', 'O', 'O', 'O', 'O', 'B-geo', 'O', 'O', 'O', 'O', 'O', 'B-geo', 'O', 'O', 'O', 'O', 'O', 'B-gpe', 'O', 'O', 'O', 'O', 'O']\n"
          ]
        }
      ]
    },
    {
      "cell_type": "code",
      "metadata": {
        "colab": {
          "base_uri": "https://localhost:8080/"
        },
        "id": "zLglFWkC3blL",
        "outputId": "f6c42a2b-ab67-4c16-bdf5-10feff60b34f"
      },
      "source": [
        "print(sentences[98])\n",
        "print(ner_tags[98])"
      ],
      "execution_count": null,
      "outputs": [
        {
          "output_type": "stream",
          "name": "stdout",
          "text": [
            "['she', 'had', 'once', 'received', 'a', 'kidney', 'transplant', '.']\n",
            "['O', 'O', 'O', 'O', 'O', 'O', 'O', 'O']\n"
          ]
        }
      ]
    },
    {
      "cell_type": "markdown",
      "source": [
        "**11) 전체 데이터의 길이 분포 확인**"
      ],
      "metadata": {
        "id": "TEI5nAbDQK8P"
      }
    },
    {
      "cell_type": "code",
      "metadata": {
        "colab": {
          "base_uri": "https://localhost:8080/",
          "height": 315
        },
        "id": "tVvW72m63c0L",
        "outputId": "dd9c08d8-163e-409b-aaf1-44845b1a5cb6"
      },
      "source": [
        "print('샘플의 최대 길이 : %d' % max(len(l) for l in sentences))\n",
        "print('샘플의 평균 길이 : %f' % (sum(map(len, sentences))/len(sentences)))\n",
        "plt.hist([len(s) for s in sentences], bins=50)\n",
        "plt.xlabel('length of samples')\n",
        "plt.ylabel('number of samples')\n",
        "plt.show()"
      ],
      "execution_count": null,
      "outputs": [
        {
          "output_type": "stream",
          "name": "stdout",
          "text": [
            "샘플의 최대 길이 : 104\n",
            "샘플의 평균 길이 : 21.863988\n"
          ]
        },
        {
          "output_type": "display_data",
          "data": {
            "image/png": "[encoded data removed]",
            "text/plain": [
              "<Figure size 432x288 with 1 Axes>"
            ]
          },
          "metadata": {
            "needs_background": "light"
          }
        }
      ]
    },
    {
      "cell_type": "markdown",
      "source": [
        "**12) 케라스 토크나이저를 통해 문장 데이터와 레이블에 해당되는 개체명 태깅 정보에 대해 정수 인코딩 진행**<br>\n",
        "&nbsp;&nbsp;&nbsp;&nbsp;\n",
        "        **src_tokenizer를 만들 때 인자로 oov_token='OOV'를 선택했으므로 인덱스1에 단어 'OOV'가 할당됨**"
      ],
      "metadata": {
        "id": "7iQQEkcvQMew"
      }
    },
    {
      "cell_type": "code",
      "metadata": {
        "id": "Y1Vj7idf3d6X"
      },
      "source": [
        "src_tokenizer = Tokenizer(oov_token='OOV') # 모든 단어를 사용하지만 인덱스 1에는 단어 'OOV'를 할당한다.\n",
        "src_tokenizer.fit_on_texts(sentences)\n",
        "tar_tokenizer = Tokenizer(lower=False) # 태깅 정보들은 내부적으로 대문자를 유지한채로 저장\n",
        "tar_tokenizer.fit_on_texts(ner_tags)"
      ],
      "execution_count": null,
      "outputs": []
    },
    {
      "cell_type": "code",
      "metadata": {
        "colab": {
          "base_uri": "https://localhost:8080/"
        },
        "id": "-KrEtQ3j3fTk",
        "outputId": "fe08766e-270b-45e0-9c9c-767e94dfac52"
      },
      "source": [
        "vocab_size = len(src_tokenizer.word_index) + 1\n",
        "tag_size = len(tar_tokenizer.word_index) + 1\n",
        "print('단어 집합의 크기 : {}'.format(vocab_size))\n",
        "print('개체명 태깅 정보 집합의 크기 : {}'.format(tag_size))"
      ],
      "execution_count": null,
      "outputs": [
        {
          "output_type": "stream",
          "name": "stdout",
          "text": [
            "단어 집합의 크기 : 31819\n",
            "개체명 태깅 정보 집합의 크기 : 18\n"
          ]
        }
      ]
    },
    {
      "cell_type": "code",
      "metadata": {
        "colab": {
          "base_uri": "https://localhost:8080/"
        },
        "id": "9Uir00Gn3nv4",
        "outputId": "f48a7b87-1eba-44f6-9a11-0fd4d82a3afd"
      },
      "source": [
        "print('단어 OOV의 인덱스 : {}'.format(src_tokenizer.word_index['OOV']))"
      ],
      "execution_count": null,
      "outputs": [
        {
          "output_type": "stream",
          "name": "stdout",
          "text": [
            "단어 OOV의 인덱스 : 1\n"
          ]
        }
      ]
    },
    {
      "cell_type": "markdown",
      "source": [
        "**13) 정수 인코딩을 수행하여 문장 데이터는 X_data에, 개체명 태깅 데이터는 y_data에 저장**"
      ],
      "metadata": {
        "id": "JqpJHc_iQbLb"
      }
    },
    {
      "cell_type": "code",
      "metadata": {
        "id": "CbThZwgm3pIy"
      },
      "source": [
        "X_data = src_tokenizer.texts_to_sequences(sentences)\n",
        "y_data = tar_tokenizer.texts_to_sequences(ner_tags)"
      ],
      "execution_count": null,
      "outputs": []
    },
    {
      "cell_type": "code",
      "metadata": {
        "colab": {
          "base_uri": "https://localhost:8080/"
        },
        "id": "8KW1_b7v3qW-",
        "outputId": "3ef71250-6658-494a-f585-3d26d72320b4"
      },
      "source": [
        "print(X_data[0])\n",
        "print(y_data[0])"
      ],
      "execution_count": null,
      "outputs": [
        {
          "output_type": "stream",
          "name": "stdout",
          "text": [
            "[254, 6, 967, 16, 1795, 238, 468, 7, 523, 2, 129, 5, 61, 9, 571, 2, 833, 6, 186, 90, 22, 15, 56, 3]\n",
            "[1, 1, 1, 1, 1, 1, 2, 1, 1, 1, 1, 1, 2, 1, 1, 1, 1, 1, 8, 1, 1, 1, 1, 1]\n"
          ]
        }
      ]
    },
    {
      "cell_type": "markdown",
      "source": [
        "**14) 인덱스로부터 단어를 리턴하는 index_to_word와 인덱스로부터 개체명 태깅 정보를 리턴하는 index_to_ner을 생성**"
      ],
      "metadata": {
        "id": "CESSGJlqQcnT"
      }
    },
    {
      "cell_type": "code",
      "metadata": {
        "id": "FsKckwN-3rh3"
      },
      "source": [
        "word_to_index = src_tokenizer.word_index\n",
        "index_to_word = src_tokenizer.index_word\n",
        "ner_to_index = tar_tokenizer.word_index\n",
        "index_to_ner = tar_tokenizer.index_word\n",
        "index_to_ner[0] = 'PAD'"
      ],
      "execution_count": null,
      "outputs": []
    },
    {
      "cell_type": "code",
      "metadata": {
        "colab": {
          "base_uri": "https://localhost:8080/"
        },
        "id": "IFmQxwzW3uMO",
        "outputId": "af07b3ab-b76e-42b5-f9e2-ff42c3c2b774"
      },
      "source": [
        "print(index_to_ner)"
      ],
      "execution_count": null,
      "outputs": [
        {
          "output_type": "stream",
          "name": "stdout",
          "text": [
            "{1: 'O', 2: 'B-geo', 3: 'B-tim', 4: 'B-org', 5: 'I-per', 6: 'B-per', 7: 'I-org', 8: 'B-gpe', 9: 'I-geo', 10: 'I-tim', 11: 'B-art', 12: 'B-eve', 13: 'I-art', 14: 'I-eve', 15: 'B-nat', 16: 'I-gpe', 17: 'I-nat', 0: 'PAD'}\n"
          ]
        }
      ]
    },
    {
      "cell_type": "markdown",
      "source": [
        "**15) index_to_word를 통해 정수 인코딩 된 첫 번째 샘플을 다시 디코딩하여 변환해보기**"
      ],
      "metadata": {
        "id": "3q9orIdnQeZk"
      }
    },
    {
      "cell_type": "code",
      "metadata": {
        "colab": {
          "base_uri": "https://localhost:8080/"
        },
        "id": "n4ySMUSt3vY5",
        "outputId": "7961c015-c960-4c03-d0d9-bba1df0ace79"
      },
      "source": [
        "decoded = []\n",
        "for index in X_data[0] : # 첫번째 샘플 안의 인덱스들에 대해서\n",
        "    decoded.append(index_to_word[index]) # 다시 단어로 변환\n",
        "\n",
        "print('기존의 문장 : {}'.format(sentences[0]))\n",
        "print('디코딩 문장 : {}'.format(decoded))"
      ],
      "execution_count": null,
      "outputs": [
        {
          "output_type": "stream",
          "name": "stdout",
          "text": [
            "기존의 문장 : ['thousands', 'of', 'demonstrators', 'have', 'marched', 'through', 'london', 'to', 'protest', 'the', 'war', 'in', 'iraq', 'and', 'demand', 'the', 'withdrawal', 'of', 'british', 'troops', 'from', 'that', 'country', '.']\n",
            "디코딩 문장 : ['thousands', 'of', 'demonstrators', 'have', 'marched', 'through', 'london', 'to', 'protest', 'the', 'war', 'in', 'iraq', 'and', 'demand', 'the', 'withdrawal', 'of', 'british', 'troops', 'from', 'that', 'country', '.']\n"
          ]
        }
      ]
    },
    {
      "cell_type": "markdown",
      "source": [
        "**16) 대부분의 샘플은 길이가 40~60에 분포하므로 X_train과 y_train의 모든 길이를 임의로 70으로 맞추기**"
      ],
      "metadata": {
        "id": "yfBHyfcHQfqE"
      }
    },
    {
      "cell_type": "code",
      "metadata": {
        "id": "9mZDlPqo3wlX"
      },
      "source": [
        "max_len = 70\n",
        "X_data = pad_sequences(X_data, padding='post', maxlen=max_len)\n",
        "y_data = pad_sequences(y_data, padding='post', maxlen=max_len)"
      ],
      "execution_count": null,
      "outputs": []
    },
    {
      "cell_type": "code",
      "metadata": {
        "colab": {
          "base_uri": "https://localhost:8080/"
        },
        "id": "SyB_WRor7S0Q",
        "outputId": "ebbfffa6-9f40-4278-e4c1-2f736db605ca"
      },
      "source": [
        "print(X_data.shape)\n",
        "print(y_data.shape)"
      ],
      "execution_count": null,
      "outputs": [
        {
          "output_type": "stream",
          "name": "stdout",
          "text": [
            "(47959, 70)\n",
            "(47959, 70)\n"
          ]
        }
      ]
    },
    {
      "cell_type": "markdown",
      "source": [
        "**17) 훈련 데이터와 테스트 데이터를 8:2 비율로 분리**"
      ],
      "metadata": {
        "id": "Wy-XYckoQg7l"
      }
    },
    {
      "cell_type": "code",
      "metadata": {
        "id": "gJtU5Oz03zNW"
      },
      "source": [
        "X_train, X_test, y_train_int, y_test_int = train_test_split(X_data, y_data, test_size=.2, random_state=777)"
      ],
      "execution_count": null,
      "outputs": []
    },
    {
      "cell_type": "markdown",
      "source": [
        "**18) 레이블에 해당하는 태깅 정보에 대해서 원-핫 인코딩을 수행**"
      ],
      "metadata": {
        "id": "M8_4YGc_QiMa"
      }
    },
    {
      "cell_type": "code",
      "metadata": {
        "id": "9FfY0d5f30Qv"
      },
      "source": [
        "y_train = to_categorical(y_train_int, num_classes=tag_size)\n",
        "y_test = to_categorical(y_test_int, num_classes=tag_size)"
      ],
      "execution_count": null,
      "outputs": []
    },
    {
      "cell_type": "code",
      "source": [
        "print('훈련 샘플 문장의 크기 : {}'.format(X_train.shape))\n",
        "print('훈련 샘플 레이블(정수 인코딩)의 크기 : {}'.format(y_train_int.shape))\n",
        "print('훈련 샘플 레이블(원-핫 인코딩)의 크기 : {}'.format(y_train.shape))\n",
        "print('테스트 샘플 문장의 크기 : {}'.format(X_test.shape))\n",
        "print('테스트 샘플 레이블(정수 인코딩)의 크기 : {}'.format(y_test_int.shape))\n",
        "print('테스트 샘플 레이블(원-핫 인코딩)의 크기 : {}'.format(y_test.shape))"
      ],
      "metadata": {
        "colab": {
          "base_uri": "https://localhost:8080/"
        },
        "id": "Npq4bXUA7V8k",
        "outputId": "0afb71f9-6b3a-4e64-fd9e-472616251ac9"
      },
      "execution_count": null,
      "outputs": [
        {
          "output_type": "stream",
          "name": "stdout",
          "text": [
            "훈련 샘플 문장의 크기 : (38367, 70)\n",
            "훈련 샘플 레이블(정수 인코딩)의 크기 : (38367, 70)\n",
            "훈련 샘플 레이블(원-핫 인코딩)의 크기 : (38367, 70, 18)\n",
            "테스트 샘플 문장의 크기 : (9592, 70)\n",
            "테스트 샘플 레이블(정수 인코딩)의 크기 : (9592, 70)\n",
            "테스트 샘플 레이블(원-핫 인코딩)의 크기 : (9592, 70, 18)\n"
          ]
        }
      ]
    },
    {
      "cell_type": "markdown",
      "metadata": {
        "id": "c9maF6Hg7ngI"
      },
      "source": [
        "# 문자 임베딩을 위한 추가 전처리"
      ]
    },
    {
      "cell_type": "markdown",
      "source": [
        "**1) 전체 데이터의 모든 단어들을 문자 레벨로 분해하여 문자 집합 생성**"
      ],
      "metadata": {
        "id": "vT1F8gghTXo8"
      }
    },
    {
      "cell_type": "code",
      "metadata": {
        "colab": {
          "base_uri": "https://localhost:8080/"
        },
        "id": "UAmtu5LG4m-2",
        "outputId": "fded19de-1451-46d9-bfd8-ab49b9433e26"
      },
      "source": [
        "# char_vocab 만들기\n",
        "words = list(set(data[\"Word\"].values))\n",
        "chars = set([w_i for w in words for w_i in w])\n",
        "chars = sorted(list(chars))\n",
        "print(chars)"
      ],
      "execution_count": null,
      "outputs": [
        {
          "output_type": "stream",
          "name": "stdout",
          "text": [
            "['!', '\"', '#', '$', '%', '&', \"'\", '(', ')', '+', ',', '-', '.', '/', '0', '1', '2', '3', '4', '5', '6', '7', '8', '9', ':', ';', '?', '@', '[', ']', '_', '`', 'a', 'b', 'c', 'd', 'e', 'f', 'g', 'h', 'i', 'j', 'k', 'l', 'm', 'n', 'o', 'p', 'q', 'r', 's', 't', 'u', 'v', 'w', 'x', 'y', 'z', '~', '\\x85', '\\x91', '\\x92', '\\x93', '\\x94', '\\x96', '\\x97', '\\xa0', '°', 'é', 'ë', 'ö', 'ü']\n"
          ]
        }
      ]
    },
    {
      "cell_type": "markdown",
      "source": [
        "**2) 문자 집합으로부터 문자를 정수로 변환할 수 있는 char_to_index와 반대로 정수로부터 문자를 얻는 index_to_char 생성**"
      ],
      "metadata": {
        "id": "n9Ye8BchTarT"
      }
    },
    {
      "cell_type": "code",
      "metadata": {
        "id": "tjahDonE5Zyn"
      },
      "source": [
        "char_to_index = {c: i + 2 for i, c in enumerate(chars)}\n",
        "char_to_index[\"OOV\"] = 1\n",
        "char_to_index[\"PAD\"] = 0"
      ],
      "execution_count": null,
      "outputs": []
    },
    {
      "cell_type": "code",
      "metadata": {
        "id": "L3_Mf9HlB_p4"
      },
      "source": [
        "index_to_char = {}\n",
        "for key, value in char_to_index.items():\n",
        "    index_to_char[value] = key"
      ],
      "execution_count": null,
      "outputs": []
    },
    {
      "cell_type": "code",
      "metadata": {
        "colab": {
          "base_uri": "https://localhost:8080/"
        },
        "id": "UbQYSZAl-uWQ",
        "outputId": "3a28c5fc-02f3-4147-fed6-ad7d8b5a6b20"
      },
      "source": [
        "print(sentences[0])"
      ],
      "execution_count": null,
      "outputs": [
        {
          "output_type": "stream",
          "name": "stdout",
          "text": [
            "['thousands', 'of', 'demonstrators', 'have', 'marched', 'through', 'london', 'to', 'protest', 'the', 'war', 'in', 'iraq', 'and', 'demand', 'the', 'withdrawal', 'of', 'british', 'troops', 'from', 'that', 'country', '.']\n"
          ]
        }
      ]
    },
    {
      "cell_type": "markdown",
      "source": [
        "**3) 단어를 표현하는 문자 시퀀스의 최대 길이를 15로 제한 후 패딩**"
      ],
      "metadata": {
        "id": "joGi8XXATccD"
      }
    },
    {
      "cell_type": "code",
      "metadata": {
        "id": "rNZZqDN99_lU"
      },
      "source": [
        "max_len_char = 15\n",
        "\n",
        "def padding_char_indice(char_indice, max_len_char):\n",
        "  return pad_sequences(\n",
        "        char_indice, maxlen=max_len_char, padding='post', value = 0)\n",
        "\n",
        "def integer_coding(sentences):\n",
        "  char_data = []\n",
        "  for ts in sentences:\n",
        "    word_indice = [word_to_index[t] for t in ts]\n",
        "    char_indice = [[char_to_index[char] for char in t]  \n",
        "                                          for t in ts]\n",
        "    char_indice = padding_char_indice(char_indice, max_len_char)\n",
        "\n",
        "    for chars_of_token in char_indice:\n",
        "      if len(chars_of_token) > max_len_char:\n",
        "        continue\n",
        "    char_data.append(char_indice)\n",
        "  return char_data"
      ],
      "execution_count": null,
      "outputs": []
    },
    {
      "cell_type": "markdown",
      "source": [
        "**4) 동일한 문장에 대해서 단어 단위 정수 인코딩과 문자 단위 정수 인코딩의 차이를 확인**"
      ],
      "metadata": {
        "id": "9VBWrEEgTe9M"
      }
    },
    {
      "cell_type": "code",
      "metadata": {
        "id": "KE7aX8UFC7MT"
      },
      "source": [
        "X_char_data = integer_coding(sentences)"
      ],
      "execution_count": null,
      "outputs": []
    },
    {
      "cell_type": "code",
      "source": [
        "# 정수 인코딩 이전의 기존 문장\n",
        "print(sentences[0])"
      ],
      "metadata": {
        "colab": {
          "base_uri": "https://localhost:8080/"
        },
        "id": "fvbZZ4pV7jkl",
        "outputId": "391f3308-a184-475f-ca14-1d41fdf5a812"
      },
      "execution_count": null,
      "outputs": [
        {
          "output_type": "stream",
          "name": "stdout",
          "text": [
            "['thousands', 'of', 'demonstrators', 'have', 'marched', 'through', 'london', 'to', 'protest', 'the', 'war', 'in', 'iraq', 'and', 'demand', 'the', 'withdrawal', 'of', 'british', 'troops', 'from', 'that', 'country', '.']\n"
          ]
        }
      ]
    },
    {
      "cell_type": "code",
      "metadata": {
        "colab": {
          "base_uri": "https://localhost:8080/"
        },
        "id": "424UcyumBi2Y",
        "outputId": "3df91d58-1b7c-4ec5-b270-75aae206449f"
      },
      "source": [
        "print(X_data[0])"
      ],
      "execution_count": null,
      "outputs": [
        {
          "output_type": "stream",
          "name": "stdout",
          "text": [
            "[ 254    6  967   16 1795  238  468    7  523    2  129    5   61    9\n",
            "  571    2  833    6  186   90   22   15   56    3    0    0    0    0\n",
            "    0    0    0    0    0    0    0    0    0    0    0    0    0    0\n",
            "    0    0    0    0    0    0    0    0    0    0    0    0    0    0\n",
            "    0    0    0    0    0    0    0    0    0    0    0    0    0    0]\n"
          ]
        }
      ]
    },
    {
      "cell_type": "code",
      "metadata": {
        "colab": {
          "base_uri": "https://localhost:8080/"
        },
        "id": "HuSVDOHhD8Ec",
        "outputId": "cdc10751-ee00-4dc4-9109-c263318c5a5d"
      },
      "source": [
        "print(X_char_data[0])"
      ],
      "execution_count": null,
      "outputs": [
        {
          "output_type": "stream",
          "name": "stdout",
          "text": [
            "[[53 41 48 54 52 34 47 37 52  0  0  0  0  0  0]\n",
            " [48 39  0  0  0  0  0  0  0  0  0  0  0  0  0]\n",
            " [37 38 46 48 47 52 53 51 34 53 48 51 52  0  0]\n",
            " [41 34 55 38  0  0  0  0  0  0  0  0  0  0  0]\n",
            " [46 34 51 36 41 38 37  0  0  0  0  0  0  0  0]\n",
            " [53 41 51 48 54 40 41  0  0  0  0  0  0  0  0]\n",
            " [45 48 47 37 48 47  0  0  0  0  0  0  0  0  0]\n",
            " [53 48  0  0  0  0  0  0  0  0  0  0  0  0  0]\n",
            " [49 51 48 53 38 52 53  0  0  0  0  0  0  0  0]\n",
            " [53 41 38  0  0  0  0  0  0  0  0  0  0  0  0]\n",
            " [56 34 51  0  0  0  0  0  0  0  0  0  0  0  0]\n",
            " [42 47  0  0  0  0  0  0  0  0  0  0  0  0  0]\n",
            " [42 51 34 50  0  0  0  0  0  0  0  0  0  0  0]\n",
            " [34 47 37  0  0  0  0  0  0  0  0  0  0  0  0]\n",
            " [37 38 46 34 47 37  0  0  0  0  0  0  0  0  0]\n",
            " [53 41 38  0  0  0  0  0  0  0  0  0  0  0  0]\n",
            " [56 42 53 41 37 51 34 56 34 45  0  0  0  0  0]\n",
            " [48 39  0  0  0  0  0  0  0  0  0  0  0  0  0]\n",
            " [35 51 42 53 42 52 41  0  0  0  0  0  0  0  0]\n",
            " [53 51 48 48 49 52  0  0  0  0  0  0  0  0  0]\n",
            " [39 51 48 46  0  0  0  0  0  0  0  0  0  0  0]\n",
            " [53 41 34 53  0  0  0  0  0  0  0  0  0  0  0]\n",
            " [36 48 54 47 53 51 58  0  0  0  0  0  0  0  0]\n",
            " [14  0  0  0  0  0  0  0  0  0  0  0  0  0  0]]\n"
          ]
        }
      ]
    },
    {
      "cell_type": "markdown",
      "source": [
        "**5) X_data는 뒤에 0으로 패딩되어 길이가 70인 것에 비해 X_char_data는 현재 0번 단어는 무시되어 길이가 70이 아니므로**<br>\n",
        "&nbsp;&nbsp;&nbsp;&nbsp;\n",
        "     **길이 70으로 맞춰주기 위해서 문장 길이 방향으로도 패딩을 해줌**"
      ],
      "metadata": {
        "id": "Nyov7Yo8TjY4"
      }
    },
    {
      "cell_type": "code",
      "metadata": {
        "id": "ZUuaNklnEHzN"
      },
      "source": [
        "X_char_data = pad_sequences(X_char_data, maxlen=max_len, padding='post', value = 0)"
      ],
      "execution_count": null,
      "outputs": []
    },
    {
      "cell_type": "markdown",
      "source": [
        "**6) 단어 단위 정수 인코딩 결과는 X_train, y_train, X_text, y_text로 훈련 데이터와 테스트 데이터가 분리된 상태이므로**<br>\n",
        "&nbsp;&nbsp;&nbsp;&nbsp;\n",
        "     **문자 단위 정수 인코딩 결과에 대해서도 X_char_train, X_char_test로 분리해줌**"
      ],
      "metadata": {
        "id": "PWxu5YZ0TnTX"
      }
    },
    {
      "cell_type": "code",
      "metadata": {
        "id": "dC9agARj6uCa"
      },
      "source": [
        "X_char_train, X_char_test, _, _ = train_test_split(X_char_data, y_data, test_size=.2, random_state=777)"
      ],
      "execution_count": null,
      "outputs": []
    },
    {
      "cell_type": "code",
      "metadata": {
        "id": "_ukEbj2tBc5r"
      },
      "source": [
        "X_char_train = np.array(X_char_train)\n",
        "X_char_test = np.array(X_char_test)"
      ],
      "execution_count": null,
      "outputs": []
    },
    {
      "cell_type": "code",
      "metadata": {
        "colab": {
          "base_uri": "https://localhost:8080/"
        },
        "id": "Odl26mVdEfPm",
        "outputId": "fbb72c9f-a8a3-4fc3-9055-50088b01a4be"
      },
      "source": [
        "print(X_train[0])"
      ],
      "execution_count": null,
      "outputs": [
        {
          "output_type": "stream",
          "name": "stdout",
          "text": [
            "[ 150  928  361   17 2624    9 4131 3567    9    8 2893 1250  880  107\n",
            "    3    0    0    0    0    0    0    0    0    0    0    0    0    0\n",
            "    0    0    0    0    0    0    0    0    0    0    0    0    0    0\n",
            "    0    0    0    0    0    0    0    0    0    0    0    0    0    0\n",
            "    0    0    0    0    0    0    0    0    0    0    0    0    0    0]\n"
          ]
        }
      ]
    },
    {
      "cell_type": "markdown",
      "source": [
        "**7) 첫 번째 훈련 샘플의 첫 번째 단어인 150번이 어떤 단어였는지 확인하고**<br>\n",
        "&nbsp;&nbsp;&nbsp;&nbsp;\n",
        "     **첫 번째 훈련 샘플의 첫 번째 단어의 문자 정수 인코딩 결과로부터 같은 단어로 일치하는지 확인**"
      ],
      "metadata": {
        "id": "SoppU3O8TrXH"
      }
    },
    {
      "cell_type": "code",
      "source": [
        "print(index_to_word[150])"
      ],
      "metadata": {
        "colab": {
          "base_uri": "https://localhost:8080/"
        },
        "id": "_5zCFvf58Q1b",
        "outputId": "e103740a-6aad-4326-e1db-bb15e39ee195"
      },
      "execution_count": null,
      "outputs": [
        {
          "output_type": "stream",
          "name": "stdout",
          "text": [
            "soldiers\n"
          ]
        }
      ]
    },
    {
      "cell_type": "code",
      "metadata": {
        "colab": {
          "base_uri": "https://localhost:8080/"
        },
        "id": "NIGaJI-_RCA7",
        "outputId": "aa88bf51-2b1b-47e1-a9df-9ccdf321aea8"
      },
      "source": [
        "print(X_char_train[0])"
      ],
      "execution_count": null,
      "outputs": [
        {
          "output_type": "stream",
          "name": "stdout",
          "text": [
            "[[52 48 45 ...  0  0  0]\n",
            " [51 38 53 ...  0  0  0]\n",
            " [39 42 51 ...  0  0  0]\n",
            " ...\n",
            " [ 0  0  0 ...  0  0  0]\n",
            " [ 0  0  0 ...  0  0  0]\n",
            " [ 0  0  0 ...  0  0  0]]\n"
          ]
        }
      ]
    },
    {
      "cell_type": "code",
      "metadata": {
        "id": "EdeauTKoRIqT",
        "colab": {
          "base_uri": "https://localhost:8080/"
        },
        "outputId": "f2acf438-9606-43a7-9b59-7dfde7896a83"
      },
      "source": [
        "print(X_char_train[0][0])"
      ],
      "execution_count": null,
      "outputs": [
        {
          "output_type": "stream",
          "name": "stdout",
          "text": [
            "[52 48 45 37 42 38 51 52  0  0  0  0  0  0  0]\n"
          ]
        }
      ]
    },
    {
      "cell_type": "code",
      "metadata": {
        "colab": {
          "base_uri": "https://localhost:8080/"
        },
        "id": "2nvdylKuE0_Z",
        "outputId": "e7457b33-ff98-4c42-d972-3bafc98963d1"
      },
      "source": [
        "print(' '.join([index_to_char[index] for index in X_char_train[0][0]]))"
      ],
      "execution_count": null,
      "outputs": [
        {
          "output_type": "stream",
          "name": "stdout",
          "text": [
            "s o l d i e r s PAD PAD PAD PAD PAD PAD PAD\n"
          ]
        }
      ]
    },
    {
      "cell_type": "code",
      "metadata": {
        "colab": {
          "base_uri": "https://localhost:8080/"
        },
        "id": "QgBR0y8mFWmn",
        "outputId": "e7294bc7-0522-4829-c74b-d6856ede6d31"
      },
      "source": [
        "print('훈련 샘플 문장의 크기 : {}'.format(X_train.shape))\n",
        "print('훈련 샘플 레이블의 크기 : {}'.format(y_train.shape))\n",
        "print('훈련 샘플 char 데이터의 크기 : {}'.format(X_char_train.shape))\n",
        "print('테스트 샘플 문장의 크기 : {}'.format(X_test.shape))\n",
        "print('테스트 샘플 레이블의 크기 : {}'.format(y_test.shape))"
      ],
      "execution_count": null,
      "outputs": [
        {
          "output_type": "stream",
          "name": "stdout",
          "text": [
            "훈련 샘플 문장의 크기 : (38367, 70)\n",
            "훈련 샘플 레이블의 크기 : (38367, 70, 18)\n",
            "훈련 샘플 char 데이터의 크기 : (38367, 70, 15)\n",
            "테스트 샘플 문장의 크기 : (9592, 70)\n",
            "테스트 샘플 레이블의 크기 : (9592, 70, 18)\n"
          ]
        }
      ]
    },
    {
      "cell_type": "markdown",
      "metadata": {
        "id": "BSiCMNSs7ynl"
      },
      "source": [
        "# BiLSTM-CNN을 이용한 개체명 인식"
      ]
    },
    {
      "cell_type": "code",
      "metadata": {
        "id": "OsijEbzI99sN"
      },
      "source": [
        "from tensorflow.keras.layers import Embedding, Input, TimeDistributed, Dropout, concatenate, Bidirectional, LSTM, Conv1D, Dense, MaxPooling1D, Flatten\n",
        "from tensorflow.keras import Model\n",
        "from tensorflow.keras.initializers import RandomUniform\n",
        "from tensorflow.keras.callbacks import EarlyStopping, ModelCheckpoint\n",
        "from tensorflow.keras.models import load_model\n",
        "from seqeval.metrics import f1_score, classification_report"
      ],
      "execution_count": null,
      "outputs": []
    },
    {
      "cell_type": "markdown",
      "source": [
        "**1) 하나의 단어는 문자 단위로 토큰화되었고, 토큰화된 각 문자는 전처리를 통해 정수로 맵핑된 상태이므로**<br>\n",
        "&nbsp;&nbsp;&nbsp;&nbsp;\n",
        "     **정수로 맵핑된 각 문자는 임베딩 층을 통과하면 64차원의 벡터가 되게 됨**<br>\n",
        "**2) 이후 커널의 크기가 3이고 해당 커널은 총 30개 사용하는 1D 합성곱 층의 입력으로 사용되어**<br>\n",
        "&nbsp;&nbsp;&nbsp;&nbsp;\n",
        "     **하나의 단어에 대한 단어 벡터를 결과로 얻게 됨**<br>\n",
        "**3) 해당 단어 벡터는 워드 임베딩 과정을 통해 얻은 단어의 임베딩 벡터와 연결되게 되어 양방향 LSTM의 입력으로 사용됨**<br>\n",
        "**4) 임베딩 벡터의 차원은 128, LSTM의 은닉 상태의 크기는 64로 지정**<br>\n",
        "**5) 다 대 다 문제이므로 LSTM의 return_squences의 값은 True로 지정하고 양방향 사용을 위해 Bidirectional() 사용**<br>\n",
        "**6) LSTM을 다 대 다 구조로 사용하여 LSTM의 모든 시점에 대해서 출력층을 사용해야 하므로 출력층에 TimeDistributed() 사용**<br>\n",
        "**7) 모든 시점에 대해서 개체명 레이블의 개수만큼의 선택지 중 하나를 예측하는 다중 클래스 분류 문제를 수행하는 모델이므로**<br>\n",
        "&nbsp;&nbsp;&nbsp;&nbsp;\n",
        "     **출력층에 소프트맥스 회귀, 활성화 함수로 소프트맥스 함수, 손실 함수로 크로스 엔트로피 함수를 사용**"
      ],
      "metadata": {
        "id": "8E4ZQKNeT5VL"
      }
    },
    {
      "cell_type": "code",
      "metadata": {
        "colab": {
          "base_uri": "https://localhost:8080/"
        },
        "id": "Cl_f3LMS-IzV",
        "outputId": "149bc6f4-931f-4588-ad27-120584df180f"
      },
      "source": [
        "embedding_dim = 128\n",
        "char_embedding_dim = 64\n",
        "dropout_ratio = 0.5\n",
        "hidden_units = 256\n",
        "num_filters = 30\n",
        "kernel_size = 3\n",
        "\n",
        "# 단어 임베딩\n",
        "words_input = Input(shape=(None,),dtype='int32',name='words_input')\n",
        "words = Embedding(input_dim=vocab_size, output_dim=embedding_dim)(words_input)\n",
        "\n",
        "# char 임베딩\n",
        "character_input = Input(shape=(None, max_len_char,),name='char_input')\n",
        "embed_char_out = TimeDistributed(Embedding(len(char_to_index), char_embedding_dim, embeddings_initializer=RandomUniform(minval=-0.5, maxval=0.5)), name='char_embedding')(character_input)\n",
        "dropout = Dropout(dropout_ratio)(embed_char_out)\n",
        "\n",
        "# char 임베딩에 대해서는 Conv1D 수행\n",
        "conv1d_out= TimeDistributed(Conv1D(kernel_size=kernel_size, filters=num_filters, padding='same', activation='tanh', strides=1))(dropout)\n",
        "maxpool_out=TimeDistributed(MaxPooling1D(max_len_char))(conv1d_out)\n",
        "char = TimeDistributed(Flatten())(maxpool_out)\n",
        "char = Dropout(dropout_ratio)(char)\n",
        "\n",
        "# char 임베딩을 Conv1D 수행한 뒤에 단어 임베딩과 연결\n",
        "output = concatenate([words, char])\n",
        "\n",
        "# 연결한 벡터를 가지고 문장의 길이만큼 LSTM을 수행\n",
        "output = Bidirectional(LSTM(hidden_units, return_sequences=True, dropout=dropout_ratio))(output)\n",
        "\n",
        "# 출력층\n",
        "output = TimeDistributed(Dense(tag_size, activation='softmax'))(output)\n",
        "\n",
        "model = Model(inputs=[words_input, character_input], outputs=[output])\n",
        "model.compile(loss='categorical_crossentropy', optimizer='nadam',  metrics=['acc'])\n",
        "model.summary()"
      ],
      "execution_count": null,
      "outputs": [
        {
          "output_type": "stream",
          "name": "stdout",
          "text": [
            "Model: \"model_1\"\n",
            "__________________________________________________________________________________________________\n",
            " Layer (type)                   Output Shape         Param #     Connected to                     \n",
            "==================================================================================================\n",
            " char_input (InputLayer)        [(None, None, 15)]   0           []                               \n",
            "                                                                                                  \n",
            " char_embedding (TimeDistribute  (None, None, 15, 64  4736       ['char_input[0][0]']             \n",
            " d)                             )                                                                 \n",
            "                                                                                                  \n",
            " dropout_2 (Dropout)            (None, None, 15, 64  0           ['char_embedding[0][0]']         \n",
            "                                )                                                                 \n",
            "                                                                                                  \n",
            " time_distributed_6 (TimeDistri  (None, None, 15, 30  5790       ['dropout_2[0][0]']              \n",
            " buted)                         )                                                                 \n",
            "                                                                                                  \n",
            " time_distributed_7 (TimeDistri  (None, None, 1, 30)  0          ['time_distributed_6[0][0]']     \n",
            " buted)                                                                                           \n",
            "                                                                                                  \n",
            " words_input (InputLayer)       [(None, None)]       0           []                               \n",
            "                                                                                                  \n",
            " time_distributed_8 (TimeDistri  (None, None, 30)    0           ['time_distributed_7[0][0]']     \n",
            " buted)                                                                                           \n",
            "                                                                                                  \n",
            " embedding_4 (Embedding)        (None, None, 128)    4072832     ['words_input[0][0]']            \n",
            "                                                                                                  \n",
            " dropout_3 (Dropout)            (None, None, 30)     0           ['time_distributed_8[0][0]']     \n",
            "                                                                                                  \n",
            " concatenate (Concatenate)      (None, None, 158)    0           ['embedding_4[0][0]',            \n",
            "                                                                  'dropout_3[0][0]']              \n",
            "                                                                                                  \n",
            " bidirectional_4 (Bidirectional  (None, None, 512)   849920      ['concatenate[0][0]']            \n",
            " )                                                                                                \n",
            "                                                                                                  \n",
            " time_distributed_9 (TimeDistri  (None, None, 18)    9234        ['bidirectional_4[0][0]']        \n",
            " buted)                                                                                           \n",
            "                                                                                                  \n",
            "==================================================================================================\n",
            "Total params: 4,942,512\n",
            "Trainable params: 4,942,512\n",
            "Non-trainable params: 0\n",
            "__________________________________________________________________________________________________\n"
          ]
        }
      ]
    },
    {
      "cell_type": "markdown",
      "source": [
        "**8) EarlyStopping을 사용해 검증 데이터 손실이 증가하면 과적합 징후이므로 4회 증가하면 학습을 조기 종료하도록 함**<br>\n",
        "**9) ModelCheckpoint를 사용해 검증 데이터의 정확도가 이전보다 좋아질 경우에만 모델을 저장함**"
      ],
      "metadata": {
        "id": "yAw1nUfMUKcw"
      }
    },
    {
      "cell_type": "code",
      "metadata": {
        "id": "iNxMCvYYYzYm"
      },
      "source": [
        "es = EarlyStopping(monitor='val_loss', mode='min', verbose=1, patience=4)\n",
        "mc = ModelCheckpoint('bilstm_cnn.h5', monitor='val_acc', mode='max', verbose=1, save_best_only=True)"
      ],
      "execution_count": null,
      "outputs": []
    },
    {
      "cell_type": "markdown",
      "source": [
        "**10) validation_split=0.1을 사용하여 훈련 데이터의 10%를 검증 데이터로 분리하여 사용해 훈련이 적절히 되고 있는지 확인**<br>\n",
        "**11) 배치 크기는 128로 하여 15번의 에포크를 수행**"
      ],
      "metadata": {
        "id": "HtVBXJhmUM59"
      }
    },
    {
      "cell_type": "code",
      "metadata": {
        "colab": {
          "base_uri": "https://localhost:8080/"
        },
        "id": "ywZ-xsUHBGn9",
        "outputId": "234b5eaa-c629-49ec-a56a-703e6043b044"
      },
      "source": [
        "history = model.fit([X_train, X_char_train], y_train, batch_size=128, epochs=15, validation_split=0.1, verbose=1, callbacks=[es, mc])"
      ],
      "execution_count": null,
      "outputs": [
        {
          "output_type": "stream",
          "name": "stdout",
          "text": [
            "Epoch 1/15\n",
            "270/270 [==============================] - ETA: 0s - loss: 0.2072 - acc: 0.9474\n",
            "Epoch 00001: val_acc improved from -inf to 0.97665, saving model to bilstm_cnn.h5\n",
            "270/270 [==============================] - 23s 47ms/step - loss: 0.2072 - acc: 0.9474 - val_loss: 0.0852 - val_acc: 0.9766\n",
            "Epoch 2/15\n",
            "269/270 [============================>.] - ETA: 0s - loss: 0.0635 - acc: 0.9820\n",
            "Epoch 00002: val_acc improved from 0.97665 to 0.98477, saving model to bilstm_cnn.h5\n",
            "270/270 [==============================] - 12s 43ms/step - loss: 0.0635 - acc: 0.9820 - val_loss: 0.0521 - val_acc: 0.9848\n",
            "Epoch 3/15\n",
            "270/270 [==============================] - ETA: 0s - loss: 0.0453 - acc: 0.9867\n",
            "Epoch 00003: val_acc improved from 0.98477 to 0.98625, saving model to bilstm_cnn.h5\n",
            "270/270 [==============================] - 12s 44ms/step - loss: 0.0453 - acc: 0.9867 - val_loss: 0.0454 - val_acc: 0.9862\n",
            "Epoch 4/15\n",
            "270/270 [==============================] - ETA: 0s - loss: 0.0381 - acc: 0.9886\n",
            "Epoch 00004: val_acc did not improve from 0.98625\n",
            "270/270 [==============================] - 12s 45ms/step - loss: 0.0381 - acc: 0.9886 - val_loss: 0.0451 - val_acc: 0.9861\n",
            "Epoch 5/15\n",
            "270/270 [==============================] - ETA: 0s - loss: 0.0337 - acc: 0.9897\n",
            "Epoch 00005: val_acc improved from 0.98625 to 0.98696, saving model to bilstm_cnn.h5\n",
            "270/270 [==============================] - 12s 44ms/step - loss: 0.0337 - acc: 0.9897 - val_loss: 0.0419 - val_acc: 0.9870\n",
            "Epoch 6/15\n",
            "269/270 [============================>.] - ETA: 0s - loss: 0.0306 - acc: 0.9905\n",
            "Epoch 00006: val_acc improved from 0.98696 to 0.98718, saving model to bilstm_cnn.h5\n",
            "270/270 [==============================] - 12s 43ms/step - loss: 0.0306 - acc: 0.9905 - val_loss: 0.0415 - val_acc: 0.9872\n",
            "Epoch 7/15\n",
            "269/270 [============================>.] - ETA: 0s - loss: 0.0280 - acc: 0.9912\n",
            "Epoch 00007: val_acc did not improve from 0.98718\n",
            "270/270 [==============================] - 12s 43ms/step - loss: 0.0281 - acc: 0.9912 - val_loss: 0.0428 - val_acc: 0.9869\n",
            "Epoch 8/15\n",
            "270/270 [==============================] - ETA: 0s - loss: 0.0263 - acc: 0.9917\n",
            "Epoch 00008: val_acc improved from 0.98718 to 0.98749, saving model to bilstm_cnn.h5\n",
            "270/270 [==============================] - 12s 45ms/step - loss: 0.0263 - acc: 0.9917 - val_loss: 0.0409 - val_acc: 0.9875\n",
            "Epoch 9/15\n",
            "269/270 [============================>.] - ETA: 0s - loss: 0.0247 - acc: 0.9921\n",
            "Epoch 00009: val_acc did not improve from 0.98749\n",
            "270/270 [==============================] - 11s 42ms/step - loss: 0.0247 - acc: 0.9921 - val_loss: 0.0417 - val_acc: 0.9875\n",
            "Epoch 10/15\n",
            "270/270 [==============================] - ETA: 0s - loss: 0.0231 - acc: 0.9926\n",
            "Epoch 00010: val_acc improved from 0.98749 to 0.98749, saving model to bilstm_cnn.h5\n",
            "270/270 [==============================] - 12s 44ms/step - loss: 0.0231 - acc: 0.9926 - val_loss: 0.0420 - val_acc: 0.9875\n",
            "Epoch 11/15\n",
            "269/270 [============================>.] - ETA: 0s - loss: 0.0218 - acc: 0.9929\n",
            "Epoch 00011: val_acc did not improve from 0.98749\n",
            "270/270 [==============================] - 11s 42ms/step - loss: 0.0218 - acc: 0.9929 - val_loss: 0.0441 - val_acc: 0.9873\n",
            "Epoch 12/15\n",
            "269/270 [============================>.] - ETA: 0s - loss: 0.0207 - acc: 0.9932\n",
            "Epoch 00012: val_acc did not improve from 0.98749\n",
            "270/270 [==============================] - 11s 42ms/step - loss: 0.0207 - acc: 0.9932 - val_loss: 0.0441 - val_acc: 0.9869\n",
            "Epoch 00012: early stopping\n"
          ]
        }
      ]
    },
    {
      "cell_type": "markdown",
      "source": [
        "**12) 검증 데이터에 대해서 정확도가 가장 높았을 당시를 저장해둔 가중치를 불러오기**"
      ],
      "metadata": {
        "id": "LUk69V-3UPMX"
      }
    },
    {
      "cell_type": "code",
      "metadata": {
        "id": "r6BxnS62znhV"
      },
      "source": [
        "model = load_model('bilstm_cnn.h5')"
      ],
      "execution_count": null,
      "outputs": []
    },
    {
      "cell_type": "markdown",
      "source": [
        "**13) 테스트 데이터의 임의의 인덱스 13번 샘플에 대해서 실제값과 예측값을 비교**"
      ],
      "metadata": {
        "id": "1VSvBFN0URfw"
      }
    },
    {
      "cell_type": "code",
      "metadata": {
        "colab": {
          "base_uri": "https://localhost:8080/"
        },
        "id": "ZBNL0dX-C6Bd",
        "outputId": "43cc52cc-40ba-4e53-c609-fd1942290217"
      },
      "source": [
        "i = 13 # 확인하고 싶은 테스트용 샘플의 인덱스.\n",
        "\n",
        "# 입력한 테스트용 샘플에 대해서 예측 y를 리턴\n",
        "y_predicted = model.predict([np.array([X_test[i]]), np.array([X_char_test[i]])])\n",
        "y_predicted = np.argmax(y_predicted, axis=-1) # 확률 벡터를 정수 인코딩으로 변경함.\n",
        "true = np.argmax(y_test[i], -1) # 원-핫 인코딩을 다시 정수 인코딩으로 변경함.\n",
        "\n",
        "print(\"{:15}|{:5}|{}\".format(\"단어\", \"실제값\", \"예측값\"))\n",
        "print(35 * \"-\")\n",
        "\n",
        "for word, tag, pred in zip(X_test[i], true, y_predicted[0]):\n",
        "    if word != 0: # PAD값은 제외함.\n",
        "        print(\"{:17}: {:7} {}\".format(index_to_word[word], index_to_ner[tag], index_to_ner[pred]))"
      ],
      "execution_count": null,
      "outputs": [
        {
          "output_type": "stream",
          "name": "stdout",
          "text": [
            "단어             |실제값  |예측값\n",
            "-----------------------------------\n",
            "the              : O       O\n",
            "statement        : O       O\n",
            "came             : O       O\n",
            "as               : O       O\n",
            "u.n.             : B-org   B-org\n",
            "secretary-general: I-org   I-org\n",
            "kofi             : B-per   B-per\n",
            "annan            : I-per   I-per\n",
            "met              : O       O\n",
            "with             : O       O\n",
            "officials        : O       O\n",
            "in               : O       O\n",
            "amman            : B-geo   B-geo\n",
            "to               : O       O\n",
            "discuss          : O       O\n",
            "wednesday        : B-tim   B-tim\n",
            "'s               : O       O\n",
            "attacks          : O       O\n",
            ".                : O       O\n"
          ]
        }
      ]
    },
    {
      "cell_type": "code",
      "metadata": {
        "colab": {
          "base_uri": "https://localhost:8080/",
          "height": 295
        },
        "id": "alMyDhYJDhU5",
        "outputId": "6095dfd7-2206-4f2f-ab38-66181b1e8d98"
      },
      "source": [
        "epochs = range(1, len(history.history['val_loss']) + 1)\n",
        "plt.plot(epochs, history.history['loss'])\n",
        "plt.plot(epochs, history.history['val_loss'])\n",
        "plt.title('model loss')\n",
        "plt.ylabel('loss')\n",
        "plt.xlabel('epoch')\n",
        "plt.legend(['train', 'val'], loc='upper left')\n",
        "plt.show()"
      ],
      "execution_count": null,
      "outputs": [
        {
          "output_type": "display_data",
          "data": {
            "image/png": "[encoded data removed]",
            "text/plain": [
              "<Figure size 432x288 with 1 Axes>"
            ]
          },
          "metadata": {
            "needs_background": "light"
          }
        }
      ]
    },
    {
      "cell_type": "code",
      "metadata": {
        "id": "wFKpmE9cQIdW"
      },
      "source": [
        "def sequences_to_tag(sequences): # 예측값을 index_to_ner를 사용하여 태깅 정보로 변경하는 함수.\n",
        "    result = []\n",
        "    for sequence in sequences: # 전체 시퀀스로부터 시퀀스를 하나씩 꺼낸다.\n",
        "        temp = []\n",
        "        for pred in sequence: # 시퀀스로부터 예측값을 하나씩 꺼낸다.\n",
        "            pred_index = np.argmax(pred) # 예를 들어 [0, 0, 1, 0 ,0]라면 1의 인덱스인 2를 리턴한다.\n",
        "            temp.append(index_to_ner[pred_index].replace(\"PAD\", \"O\")) # 'PAD'는 'O'로 변경\n",
        "        result.append(temp)\n",
        "    return result"
      ],
      "execution_count": null,
      "outputs": []
    },
    {
      "cell_type": "markdown",
      "source": [
        "**14) 테스트 데이터에 대해서 성능을 측정하기 위해 테스트 데이터에 대한 예측 시퀀스인 y_predicted를 얻기**"
      ],
      "metadata": {
        "id": "ZAwRsXcvUT0n"
      }
    },
    {
      "cell_type": "code",
      "metadata": {
        "id": "bzEfiWsQQJ0n"
      },
      "source": [
        "y_predicted = model.predict([X_test, X_char_test])\n",
        "pred_tags = sequences_to_tag(y_predicted)\n",
        "test_tags = sequences_to_tag(y_test)"
      ],
      "execution_count": null,
      "outputs": []
    },
    {
      "cell_type": "code",
      "metadata": {
        "colab": {
          "base_uri": "https://localhost:8080/"
        },
        "id": "YxHz40WFP3T7",
        "outputId": "1341cdae-38d4-4603-d77d-3c4f7b5ed5af"
      },
      "source": [
        "print(classification_report(test_tags, pred_tags))"
      ],
      "execution_count": null,
      "outputs": [
        {
          "output_type": "stream",
          "name": "stdout",
          "text": [
            "              precision    recall  f1-score   support\n",
            "\n",
            "         art       0.00      0.00      0.00        63\n",
            "         eve       0.36      0.27      0.31        52\n",
            "         geo       0.82      0.86      0.84      7620\n",
            "         gpe       0.96      0.94      0.95      3145\n",
            "         nat       0.62      0.14      0.22        37\n",
            "         org       0.61      0.56      0.59      4033\n",
            "         per       0.73      0.72      0.73      3545\n",
            "         tim       0.87      0.84      0.86      4067\n",
            "\n",
            "   micro avg       0.80      0.79      0.79     22562\n",
            "   macro avg       0.62      0.54      0.56     22562\n",
            "weighted avg       0.79      0.79      0.79     22562\n",
            "\n"
          ]
        }
      ]
    },
    {
      "cell_type": "markdown",
      "source": [
        "**15) 예측값과 실제값에 대한 태깅 정보 시퀀스를 얻은 후 f1-score를 계산**"
      ],
      "metadata": {
        "id": "t7zIpWn_UX2H"
      }
    },
    {
      "cell_type": "code",
      "metadata": {
        "colab": {
          "base_uri": "https://localhost:8080/"
        },
        "id": "qC1_wjJSQcdr",
        "outputId": "902727e9-3884-4a67-9241-d1ba6d61ba2c"
      },
      "source": [
        "print(\"F1-score: {:.1%}\".format(f1_score(test_tags, pred_tags)))"
      ],
      "execution_count": null,
      "outputs": [
        {
          "output_type": "stream",
          "name": "stdout",
          "text": [
            "F1-score: 79.3%\n"
          ]
        }
      ]
    },
    {
      "cell_type": "markdown",
      "metadata": {
        "id": "o3UN2XvynYrD"
      },
      "source": [
        "#BiLSTM-CNN-CRF를 이용한 개체명인식"
      ]
    },
    {
      "cell_type": "code",
      "metadata": {
        "id": "0n534tvi9h4S"
      },
      "source": [
        "import tensorflow as tf\n",
        "from keras_crf import CRFModel"
      ],
      "execution_count": null,
      "outputs": []
    },
    {
      "cell_type": "markdown",
      "source": [
        "**1) 하나의 단어는 문자 단위로 토큰화되었고, 토큰화된 각 문자는 전처리를 통해 정수로 맵핑된 상태이므로**<br>\n",
        "&nbsp;&nbsp;&nbsp;&nbsp;\n",
        "     **정수로 맵핑된 각 문자는 임베딩 층을 통과하면 64차원의 벡터가 되게 됨**<br>\n",
        "**2) 이후 커널의 크기가 3이고 해당 커널은 총 30개 사용하는 1D 합성곱 층의 입력으로 사용되어**<br>\n",
        "&nbsp;&nbsp;&nbsp;&nbsp;\n",
        "     **하나의 단어에 대한 단어 벡터를 결과로 얻게 됨**<br>\n",
        "**3) 해당 단어 벡터는 워드 임베딩 과정을 통해 얻은 단어의 임베딩 벡터와 연결되게 되어 양방향 LSTM의 입력으로 사용됨**<br>\n",
        "**4) 임베딩 벡터의 차원은 128, LSTM의 은닉 상태의 크기는 64로 지정**<br>\n",
        "**5) 다 대 다 문제이므로 LSTM의 return_squences의 값은 True로 지정하고 양방향 사용을 위해 Bidirectional() 사용**<br>\n",
        "**6) LSTM을 다 대 다 구조로 사용하여 LSTM의 모든 시점에 대해서 출력층을 사용해야 하므로 출력층에 TimeDistributed() 사용**<br>\n",
        "**7) 모든 시점에 대해서 개체명 레이블의 개수만큼의 선택지 중 하나를 예측하는 다중 클래스 분류 문제를 수행하는 모델이므로**<br>\n",
        "&nbsp;&nbsp;&nbsp;&nbsp;\n",
        "     **최종 출력층을 CRF층으로 하여 CRF층에 분류해야 하는 선택지 개수를 의미하는 tag_size를 전달**"
      ],
      "metadata": {
        "id": "dScMLZpEUgty"
      }
    },
    {
      "cell_type": "code",
      "metadata": {
        "colab": {
          "base_uri": "https://localhost:8080/"
        },
        "id": "XhNyGVb2nf4J",
        "outputId": "2c2f38e6-a80c-4984-90dd-feb9305db788"
      },
      "source": [
        "embedding_dim = 128\n",
        "char_embedding_dim = 64\n",
        "dropout_ratio = 0.5\n",
        "hidden_units = 256\n",
        "num_filters = 30\n",
        "kernel_size = 3\n",
        "\n",
        "# 단어 임베딩\n",
        "words_input = Input(shape=(None,),dtype='int32',name='words_input')\n",
        "words = Embedding(input_dim=vocab_size, output_dim=embedding_dim)(words_input)\n",
        "\n",
        "# char 임베딩\n",
        "character_input = Input(shape=(None, max_len_char,),name='char_input')\n",
        "embed_char_out = TimeDistributed(Embedding(len(char_to_index), char_embedding_dim, embeddings_initializer=RandomUniform(minval=-0.5, maxval=0.5)), name='char_embedding')(character_input)\n",
        "dropout = Dropout(dropout_ratio)(embed_char_out)\n",
        "\n",
        "# char 임베딩에 대해서는 Conv1D 수행\n",
        "conv1d_out= TimeDistributed(Conv1D(kernel_size=kernel_size, filters=num_filters, padding='same',activation='tanh', strides=1))(dropout)\n",
        "maxpool_out=TimeDistributed(MaxPooling1D(max_len_char))(conv1d_out)\n",
        "char = TimeDistributed(Flatten())(maxpool_out)\n",
        "char = Dropout(dropout_ratio)(char)\n",
        "\n",
        "# char 임베딩을 Conv1D 수행한 뒤에 단어 임베딩과 연결\n",
        "output = concatenate([words, char])\n",
        "\n",
        "# 연결한 벡터를 가지고 문장의 길이만큼 LSTM을 수행\n",
        "output = Bidirectional(LSTM(hidden_units, return_sequences=True, dropout=dropout_ratio))(output)\n",
        "\n",
        "# 출력층\n",
        "output = TimeDistributed(Dense(tag_size, activation='relu'))(output)\n",
        "\n",
        "base = Model(inputs=[words_input, character_input], outputs=[output])\n",
        "model = CRFModel(base, tag_size)\n",
        "model.compile(optimizer=tf.keras.optimizers.Adam(0.001), metrics='accuracy')\n",
        "model.summary()"
      ],
      "execution_count": null,
      "outputs": [
        {
          "output_type": "stream",
          "name": "stdout",
          "text": [
            "Model: \"crf_model_1\"\n",
            "__________________________________________________________________________________________________\n",
            " Layer (type)                   Output Shape         Param #     Connected to                     \n",
            "==================================================================================================\n",
            " char_input (InputLayer)        [(None, None, 15)]   0           []                               \n",
            "                                                                                                  \n",
            " char_embedding (TimeDistribute  (None, None, 15, 64  4736       ['char_input[0][0]']             \n",
            " d)                             )                                                                 \n",
            "                                                                                                  \n",
            " dropout_4 (Dropout)            (None, None, 15, 64  0           ['char_embedding[0][0]']         \n",
            "                                )                                                                 \n",
            "                                                                                                  \n",
            " time_distributed_10 (TimeDistr  (None, None, 15, 30  5790       ['dropout_4[0][0]']              \n",
            " ibuted)                        )                                                                 \n",
            "                                                                                                  \n",
            " time_distributed_11 (TimeDistr  (None, None, 1, 30)  0          ['time_distributed_10[0][0]']    \n",
            " ibuted)                                                                                          \n",
            "                                                                                                  \n",
            " words_input (InputLayer)       [(None, None)]       0           []                               \n",
            "                                                                                                  \n",
            " time_distributed_12 (TimeDistr  (None, None, 30)    0           ['time_distributed_11[0][0]']    \n",
            " ibuted)                                                                                          \n",
            "                                                                                                  \n",
            " embedding_6 (Embedding)        (None, None, 128)    4072832     ['words_input[0][0]']            \n",
            "                                                                                                  \n",
            " dropout_5 (Dropout)            (None, None, 30)     0           ['time_distributed_12[0][0]']    \n",
            "                                                                                                  \n",
            " concatenate_1 (Concatenate)    (None, None, 158)    0           ['embedding_6[0][0]',            \n",
            "                                                                  'dropout_5[0][0]']              \n",
            "                                                                                                  \n",
            " bidirectional_5 (Bidirectional  (None, None, 512)   849920      ['concatenate_1[0][0]']          \n",
            " )                                                                                                \n",
            "                                                                                                  \n",
            " time_distributed_13 (TimeDistr  (None, None, 18)    9234        ['bidirectional_5[0][0]']        \n",
            " ibuted)                                                                                          \n",
            "                                                                                                  \n",
            " crf_1 (CRF)                    [(None, None),       702         ['time_distributed_13[0][0]']    \n",
            "                                 (None, None, 18),                                                \n",
            "                                 (None,),                                                         \n",
            "                                 (18, 18)]                                                        \n",
            "                                                                                                  \n",
            " decode_sequence (Lambda)       (None, None)         0           ['crf_1[0][0]']                  \n",
            "                                                                                                  \n",
            " potentials (Lambda)            (None, None, 18)     0           ['crf_1[0][1]']                  \n",
            "                                                                                                  \n",
            " sequence_length (Lambda)       (None,)              0           ['crf_1[0][2]']                  \n",
            "                                                                                                  \n",
            " kernel (Lambda)                (18, 18)             0           ['crf_1[0][3]']                  \n",
            "                                                                                                  \n",
            "==================================================================================================\n",
            "Total params: 4,943,214\n",
            "Trainable params: 4,943,214\n",
            "Non-trainable params: 0\n",
            "__________________________________________________________________________________________________\n"
          ]
        }
      ]
    },
    {
      "cell_type": "markdown",
      "source": [
        "**8) EarlyStopping을 사용해 검증 데이터 손실이 증가하면 과적합 징후이므로 4회 증가하면 학습을 조기 종료하도록 함**<br>\n",
        "**9) ModelCheckpoint를 사용해 검증 데이터의 정확도가 이전보다 좋아질 경우에만 모델을 저장함**"
      ],
      "metadata": {
        "id": "cc8Mka7KUjl3"
      }
    },
    {
      "cell_type": "code",
      "metadata": {
        "id": "sCEFX2WR-Far"
      },
      "source": [
        "es = EarlyStopping(monitor='val_loss', mode='min', verbose=1, patience=4)\n",
        "mc = ModelCheckpoint('bilstm_cnn_crf/cp.ckpt', monitor='val_decode_sequence_accuracy', mode='max', verbose=1, save_best_only=True, save_weights_only=True)"
      ],
      "execution_count": null,
      "outputs": []
    },
    {
      "cell_type": "markdown",
      "source": [
        "**10) validation_split=0.1을 사용하여 훈련 데이터의 10%를 검증 데이터로 분리하여 사용해 훈련이 적절히 되고 있는지 확인**<br>\n",
        "**11) 배치 크기는 128로 하여 15번의 에포크를 수행**<br>\n",
        "&nbsp;&nbsp;&nbsp;&nbsp;&nbsp;&nbsp;\n",
        "**이때 CRF층은 원-핫 인코딩된 레이블을 지원하지 않으므로 y_train이 아니라 y_train_int를 사용**"
      ],
      "metadata": {
        "id": "zuFcibjsU0gU"
      }
    },
    {
      "cell_type": "code",
      "metadata": {
        "colab": {
          "base_uri": "https://localhost:8080/"
        },
        "id": "bMIECQqU-MOR",
        "outputId": "ad94afa2-0218-481d-edd3-0858bc28efc7"
      },
      "source": [
        "history = model.fit([X_train, X_char_train], y_train_int, batch_size=128, epochs=15, validation_split=0.1, callbacks=[mc, es])"
      ],
      "execution_count": null,
      "outputs": [
        {
          "output_type": "stream",
          "name": "stdout",
          "text": [
            "Epoch 1/15\n",
            "270/270 [==============================] - ETA: 0s - decode_sequence_accuracy: 0.9270 - loss: 20.0089\n",
            "Epoch 00001: val_decode_sequence_accuracy improved from -inf to 0.96776, saving model to bilstm_cnn_crf/cp.ckpt\n",
            "270/270 [==============================] - 59s 193ms/step - decode_sequence_accuracy: 0.9270 - loss: 19.9610 - val_decode_sequence_accuracy: 0.9678 - val_loss: 7.4661\n",
            "Epoch 2/15\n",
            "270/270 [==============================] - ETA: 0s - decode_sequence_accuracy: 0.9787 - loss: 5.1367\n",
            "Epoch 00002: val_decode_sequence_accuracy improved from 0.96776 to 0.98258, saving model to bilstm_cnn_crf/cp.ckpt\n",
            "270/270 [==============================] - 45s 167ms/step - decode_sequence_accuracy: 0.9787 - loss: 5.1319 - val_decode_sequence_accuracy: 0.9826 - val_loss: 4.0034\n",
            "Epoch 3/15\n",
            "270/270 [==============================] - ETA: 0s - decode_sequence_accuracy: 0.9856 - loss: 3.1769\n",
            "Epoch 00003: val_decode_sequence_accuracy improved from 0.98258 to 0.98532, saving model to bilstm_cnn_crf/cp.ckpt\n",
            "270/270 [==============================] - 45s 165ms/step - decode_sequence_accuracy: 0.9856 - loss: 3.1734 - val_decode_sequence_accuracy: 0.9853 - val_loss: 3.1092\n",
            "Epoch 4/15\n",
            "270/270 [==============================] - ETA: 0s - decode_sequence_accuracy: 0.9878 - loss: 2.4798\n",
            "Epoch 00004: val_decode_sequence_accuracy improved from 0.98532 to 0.98620, saving model to bilstm_cnn_crf/cp.ckpt\n",
            "270/270 [==============================] - 45s 166ms/step - decode_sequence_accuracy: 0.9878 - loss: 2.4816 - val_decode_sequence_accuracy: 0.9862 - val_loss: 2.7894\n",
            "Epoch 5/15\n",
            "270/270 [==============================] - ETA: 0s - decode_sequence_accuracy: 0.9891 - loss: 2.1013\n",
            "Epoch 00005: val_decode_sequence_accuracy did not improve from 0.98620\n",
            "270/270 [==============================] - 45s 167ms/step - decode_sequence_accuracy: 0.9891 - loss: 2.1018 - val_decode_sequence_accuracy: 0.9860 - val_loss: 2.8119\n",
            "Epoch 6/15\n",
            "270/270 [==============================] - ETA: 0s - decode_sequence_accuracy: 0.9898 - loss: 1.8567\n",
            "Epoch 00006: val_decode_sequence_accuracy improved from 0.98620 to 0.98646, saving model to bilstm_cnn_crf/cp.ckpt\n",
            "270/270 [==============================] - 45s 165ms/step - decode_sequence_accuracy: 0.9898 - loss: 1.8559 - val_decode_sequence_accuracy: 0.9865 - val_loss: 2.4847\n",
            "Epoch 7/15\n",
            "270/270 [==============================] - ETA: 0s - decode_sequence_accuracy: 0.9904 - loss: 1.6801\n",
            "Epoch 00007: val_decode_sequence_accuracy improved from 0.98646 to 0.98668, saving model to bilstm_cnn_crf/cp.ckpt\n",
            "270/270 [==============================] - 47s 175ms/step - decode_sequence_accuracy: 0.9904 - loss: 1.6790 - val_decode_sequence_accuracy: 0.9867 - val_loss: 2.4975\n",
            "Epoch 8/15\n",
            "270/270 [==============================] - ETA: 0s - decode_sequence_accuracy: 0.9908 - loss: 1.5379\n",
            "Epoch 00008: val_decode_sequence_accuracy did not improve from 0.98668\n",
            "270/270 [==============================] - 45s 165ms/step - decode_sequence_accuracy: 0.9908 - loss: 1.5376 - val_decode_sequence_accuracy: 0.9866 - val_loss: 2.4164\n",
            "Epoch 9/15\n",
            "270/270 [==============================] - ETA: 0s - decode_sequence_accuracy: 0.9913 - loss: 1.4170\n",
            "Epoch 00009: val_decode_sequence_accuracy did not improve from 0.98668\n",
            "270/270 [==============================] - 45s 165ms/step - decode_sequence_accuracy: 0.9913 - loss: 1.4185 - val_decode_sequence_accuracy: 0.9865 - val_loss: 2.5479\n",
            "Epoch 10/15\n",
            "270/270 [==============================] - ETA: 0s - decode_sequence_accuracy: 0.9915 - loss: 1.3234\n",
            "Epoch 00010: val_decode_sequence_accuracy did not improve from 0.98668\n",
            "270/270 [==============================] - 45s 166ms/step - decode_sequence_accuracy: 0.9915 - loss: 1.3241 - val_decode_sequence_accuracy: 0.9864 - val_loss: 2.5477\n",
            "Epoch 11/15\n",
            "270/270 [==============================] - ETA: 0s - decode_sequence_accuracy: 0.9918 - loss: 1.2319\n",
            "Epoch 00011: val_decode_sequence_accuracy did not improve from 0.98668\n",
            "270/270 [==============================] - 45s 166ms/step - decode_sequence_accuracy: 0.9918 - loss: 1.2317 - val_decode_sequence_accuracy: 0.9864 - val_loss: 2.5617\n",
            "Epoch 12/15\n",
            "270/270 [==============================] - ETA: 0s - decode_sequence_accuracy: 0.9921 - loss: 1.1525\n",
            "Epoch 00012: val_decode_sequence_accuracy did not improve from 0.98668\n",
            "270/270 [==============================] - 45s 165ms/step - decode_sequence_accuracy: 0.9921 - loss: 1.1521 - val_decode_sequence_accuracy: 0.9863 - val_loss: 2.5442\n",
            "Epoch 00012: early stopping\n"
          ]
        }
      ]
    },
    {
      "cell_type": "markdown",
      "source": [
        "**12) 검증 데이터에 대해서 정확도가 가장 높았을 당시를 저장해둔 가중치를 불러오기**"
      ],
      "metadata": {
        "id": "RhnqgjdDVHQ3"
      }
    },
    {
      "cell_type": "code",
      "metadata": {
        "colab": {
          "base_uri": "https://localhost:8080/"
        },
        "id": "2UGaqpkrHozN",
        "outputId": "929a1aa5-5d46-4a3d-d4dd-bb64c7663a29"
      },
      "source": [
        "model.load_weights('bilstm_cnn_crf/cp.ckpt')"
      ],
      "execution_count": null,
      "outputs": [
        {
          "output_type": "execute_result",
          "data": {
            "text/plain": [
              "<tensorflow.python.training.tracking.util.CheckpointLoadStatus at 0x7fc744572150>"
            ]
          },
          "metadata": {},
          "execution_count": 105
        }
      ]
    },
    {
      "cell_type": "markdown",
      "source": [
        "**13) 테스트 데이터의 임의의 인덱스 13번 샘플에 대해서 실제값과 예측값을 비교**"
      ],
      "metadata": {
        "id": "qrcogfyGVI9O"
      }
    },
    {
      "cell_type": "code",
      "metadata": {
        "colab": {
          "base_uri": "https://localhost:8080/"
        },
        "id": "rXYnKtBgHq6g",
        "outputId": "06ef2cb2-8b7b-4c97-c22e-3be2e024d251"
      },
      "source": [
        "i = 13 # 확인하고 싶은 테스트용 샘플의 인덱스.\n",
        "\n",
        "# 입력한 테스트용 샘플에 대해서 예측 y를 리턴\n",
        "y_predicted = model.predict([np.array([X_test[i]]), np.array([X_char_test[i]])])[0] \n",
        "true = np.argmax(y_test[i], -1) # 원-핫 벡터를 정수 인코딩으로 변경.\n",
        "\n",
        "print(\"{:15}|{:5}|{}\".format(\"단어\", \"실제값\", \"예측값\"))\n",
        "print(35 * \"-\")\n",
        "\n",
        "for word, tag, pred in zip(X_test[i], true, y_predicted[0]):\n",
        "    if word != 0: # PAD값은 제외함.\n",
        "        print(\"{:17}: {:7} {}\".format(index_to_word[word], index_to_ner[tag], index_to_ner[pred]))"
      ],
      "execution_count": null,
      "outputs": [
        {
          "output_type": "stream",
          "name": "stdout",
          "text": [
            "단어             |실제값  |예측값\n",
            "-----------------------------------\n",
            "the              : O       O\n",
            "statement        : O       O\n",
            "came             : O       O\n",
            "as               : O       O\n",
            "u.n.             : B-org   B-org\n",
            "secretary-general: I-org   I-org\n",
            "kofi             : B-per   B-per\n",
            "annan            : I-per   I-per\n",
            "met              : O       O\n",
            "with             : O       O\n",
            "officials        : O       O\n",
            "in               : O       O\n",
            "amman            : B-geo   B-geo\n",
            "to               : O       O\n",
            "discuss          : O       O\n",
            "wednesday        : B-tim   B-tim\n",
            "'s               : O       O\n",
            "attacks          : O       O\n",
            ".                : O       O\n"
          ]
        }
      ]
    },
    {
      "cell_type": "code",
      "metadata": {
        "colab": {
          "base_uri": "https://localhost:8080/",
          "height": 295
        },
        "id": "W3WPtK5HIZsz",
        "outputId": "4f290d21-1f66-4a34-b10e-702b568990cb"
      },
      "source": [
        "epochs = range(1, len(history.history['val_loss']) + 1)\n",
        "plt.plot(epochs, history.history['loss'])\n",
        "plt.plot(epochs, history.history['val_loss'])\n",
        "plt.title('model loss')\n",
        "plt.ylabel('loss')\n",
        "plt.xlabel('epoch')\n",
        "plt.legend(['train', 'val'], loc='upper left')\n",
        "plt.show()"
      ],
      "execution_count": null,
      "outputs": [
        {
          "output_type": "display_data",
          "data": {
            "image/png": "[encoded data removed]",
            "text/plain": [
              "<Figure size 432x288 with 1 Axes>"
            ]
          },
          "metadata": {
            "needs_background": "light"
          }
        }
      ]
    },
    {
      "cell_type": "markdown",
      "source": [
        "**14) 테스트 데이터에 대해서 성능을 측정하기 위해 테스트 데이터에 대한 예측 시퀀스인 y_predicted를 얻기**"
      ],
      "metadata": {
        "id": "XXTmeNPQVKbC"
      }
    },
    {
      "cell_type": "code",
      "metadata": {
        "id": "YNAv4VRvIcuh"
      },
      "source": [
        "y_predicted = model.predict([X_test, X_char_test])[0]\n",
        "pred_tags = sequences_to_tag_for_crf(y_predicted)\n",
        "test_tags = sequences_to_tag(y_test)"
      ],
      "execution_count": null,
      "outputs": []
    },
    {
      "cell_type": "code",
      "metadata": {
        "colab": {
          "base_uri": "https://localhost:8080/"
        },
        "id": "x0IAko4RtUQJ",
        "outputId": "ae6b29e1-fa9c-4210-f124-bcbc98a011af"
      },
      "source": [
        "print(classification_report(test_tags, pred_tags))"
      ],
      "execution_count": null,
      "outputs": [
        {
          "output_type": "stream",
          "name": "stderr",
          "text": [
            "/usr/local/lib/python3.7/dist-packages/seqeval/metrics/v1.py:57: UndefinedMetricWarning: Precision and F-score are ill-defined and being set to 0.0 in labels with no predicted samples. Use `zero_division` parameter to control this behavior.\n",
            "  _warn_prf(average, modifier, msg_start, len(result))\n"
          ]
        },
        {
          "output_type": "stream",
          "name": "stdout",
          "text": [
            "              precision    recall  f1-score   support\n",
            "\n",
            "         art       0.00      0.00      0.00        63\n",
            "         eve       0.00      0.00      0.00        52\n",
            "         geo       0.80      0.89      0.84      7620\n",
            "         gpe       0.94      0.94      0.94      3145\n",
            "         nat       1.00      0.16      0.28        37\n",
            "         org       0.68      0.55      0.61      4033\n",
            "         per       0.79      0.73      0.76      3545\n",
            "         tim       0.88      0.84      0.86      4067\n",
            "\n",
            "   micro avg       0.82      0.80      0.81     22562\n",
            "   macro avg       0.64      0.51      0.54     22562\n",
            "weighted avg       0.81      0.80      0.80     22562\n",
            "\n"
          ]
        }
      ]
    },
    {
      "cell_type": "markdown",
      "source": [
        "**15) 예측값과 실제값에 대한 태깅 정보 시퀀스를 얻은 후 f1-score를 계산**"
      ],
      "metadata": {
        "id": "-LM0_Y4DVLyK"
      }
    },
    {
      "cell_type": "code",
      "metadata": {
        "colab": {
          "base_uri": "https://localhost:8080/"
        },
        "id": "fToBbGDztaGI",
        "outputId": "6fde94cc-3c4a-4fef-dba1-7bda0f039dfe"
      },
      "source": [
        "print(\"F1-score: {:.1%}\".format(f1_score(test_tags, pred_tags)))"
      ],
      "execution_count": null,
      "outputs": [
        {
          "output_type": "stream",
          "name": "stdout",
          "text": [
            "F1-score: 80.6%\n"
          ]
        }
      ]
    },
    {
      "cell_type": "markdown",
      "metadata": {
        "id": "UN97GyqEw8oG"
      },
      "source": [
        "# BiLSTM-BiLSTM-CRF을 이용한 개체명 인식"
      ]
    },
    {
      "cell_type": "markdown",
      "source": [
        "**1) 하나의 단어는 문자 단위로 토큰화되었고, 토큰화된 각 문자는 전처리를 통해 정수로 맵핑된 상태이므로**<br>\n",
        "&nbsp;&nbsp;&nbsp;&nbsp;\n",
        "     **정수로 맵핑된 각 문자는 임베딩 층을 통과하면 64차원의 벡터가 되게 됨**<br>\n",
        "**2) 이후 양방향 LSTM의 입력으로 사용되고 이때 임베딩 벡터의 차원은 128, LSTM의 은닉 상태의 크기는 64로 지정**<br>\n",
        "**3) 해당 LSTM은 다 대 일 구조로 순방향 LSTM의 은닉 상태와 역방향 LSTM의 은닉 상태가 연결된 값이**<br>\n",
        "&nbsp;&nbsp;&nbsp;&nbsp;\n",
        "     **양방향 LSTM의 출력이 되고 해당 출력을 하나의 단어에 대한 단어 벡터로 간주되게 됨**<br>\n",
        "**4) 해당 단어 벡터는 워드 임베딩 과정을 통해 얻은 단어의 임베딩 벡터와 연결되게 되어**<br>\n",
        "&nbsp;&nbsp;&nbsp;&nbsp;\n",
        "     **개체명 인식을 위한 양방향 LSTM의 입력으로 사용**<br>\n",
        "**5) 다 대 다 문제이므로 LSTM의 return_squences의 값은 True로 지정하고 양방향 사용을 위해 Bidirectional() 사용**<br>\n",
        "**6) LSTM을 다 대 다 구조로 사용하여 LSTM의 모든 시점에 대해서 출력층을 사용해야 하므로 출력층에 TimeDistributed() 사용**<br>\n",
        "**7) 모든 시점에 대해서 개체명 레이블의 개수만큼의 선택지 중 하나를 예측하는 다중 클래스 분류 문제를 수행하는 모델이므로**<br>\n",
        "&nbsp;&nbsp;&nbsp;&nbsp;\n",
        "     **최종 출력층을 CRF층으로 하여 CRF층에 분류해야 하는 선택지 개수를 의미하는 tag_size를 전달**"
      ],
      "metadata": {
        "id": "aapOqG6cVOka"
      }
    },
    {
      "cell_type": "code",
      "metadata": {
        "colab": {
          "base_uri": "https://localhost:8080/"
        },
        "id": "Mif6bSyT5OXS",
        "outputId": "676a62f6-3502-4bbb-b76a-c670f3daef36"
      },
      "source": [
        "embedding_dim = 128\n",
        "char_embedding_dim = 64\n",
        "dropout_ratio = 0.3\n",
        "hidden_units = 64\n",
        "\n",
        "word_ids = Input(batch_shape=(None, None), dtype='int32', name='word_input')\n",
        "word_embeddings = Embedding(input_dim=vocab_size,\n",
        "                                        output_dim=embedding_dim,\n",
        "                                        name='word_embedding')(word_ids)\n",
        "\n",
        "char_ids = Input(batch_shape=(None, None, None), dtype='int32', name='char_input')\n",
        "char_embeddings = Embedding(input_dim=(len(char_to_index)),\n",
        "                                        output_dim=char_embedding_dim,\n",
        "                                        embeddings_initializer=RandomUniform(minval=-0.5, maxval=0.5),\n",
        "                                        name='char_embedding')(char_ids)\n",
        "\n",
        "char_embeddings = TimeDistributed(Bidirectional(LSTM(hidden_units)))(char_embeddings)\n",
        "word_embeddings = concatenate([word_embeddings, char_embeddings])\n",
        "\n",
        "word_embeddings = Dropout(dropout_ratio)(word_embeddings)\n",
        "output = Bidirectional(LSTM(units=hidden_units, return_sequences=True))(word_embeddings)\n",
        "output = TimeDistributed(Dense(tag_size, activation='relu'))(output)\n",
        "\n",
        "base = Model(inputs=[word_ids, char_ids], outputs=[output])\n",
        "model = CRFModel(base, tag_size)\n",
        "model.compile(optimizer=tf.keras.optimizers.Adam(0.001), metrics='accuracy')\n",
        "\n",
        "model.summary()"
      ],
      "execution_count": null,
      "outputs": [
        {
          "output_type": "stream",
          "name": "stdout",
          "text": [
            "Model: \"crf_model_2\"\n",
            "__________________________________________________________________________________________________\n",
            " Layer (type)                   Output Shape         Param #     Connected to                     \n",
            "==================================================================================================\n",
            " char_input (InputLayer)        [(None, None, None)  0           []                               \n",
            "                                ]                                                                 \n",
            "                                                                                                  \n",
            " word_input (InputLayer)        [(None, None)]       0           []                               \n",
            "                                                                                                  \n",
            " char_embedding (Embedding)     (None, None, None,   4736        ['char_input[0][0]']             \n",
            "                                64)                                                               \n",
            "                                                                                                  \n",
            " word_embedding (Embedding)     (None, None, 128)    4072832     ['word_input[0][0]']             \n",
            "                                                                                                  \n",
            " time_distributed_14 (TimeDistr  (None, None, 128)   66048       ['char_embedding[0][0]']         \n",
            " ibuted)                                                                                          \n",
            "                                                                                                  \n",
            " concatenate_2 (Concatenate)    (None, None, 256)    0           ['word_embedding[0][0]',         \n",
            "                                                                  'time_distributed_14[0][0]']    \n",
            "                                                                                                  \n",
            " dropout_6 (Dropout)            (None, None, 256)    0           ['concatenate_2[0][0]']          \n",
            "                                                                                                  \n",
            " bidirectional_7 (Bidirectional  (None, None, 128)   164352      ['dropout_6[0][0]']              \n",
            " )                                                                                                \n",
            "                                                                                                  \n",
            " time_distributed_15 (TimeDistr  (None, None, 18)    2322        ['bidirectional_7[0][0]']        \n",
            " ibuted)                                                                                          \n",
            "                                                                                                  \n",
            " crf_2 (CRF)                    [(None, None),       702         ['time_distributed_15[0][0]']    \n",
            "                                 (None, None, 18),                                                \n",
            "                                 (None,),                                                         \n",
            "                                 (18, 18)]                                                        \n",
            "                                                                                                  \n",
            " decode_sequence (Lambda)       (None, None)         0           ['crf_2[0][0]']                  \n",
            "                                                                                                  \n",
            " potentials (Lambda)            (None, None, 18)     0           ['crf_2[0][1]']                  \n",
            "                                                                                                  \n",
            " sequence_length (Lambda)       (None,)              0           ['crf_2[0][2]']                  \n",
            "                                                                                                  \n",
            " kernel (Lambda)                (18, 18)             0           ['crf_2[0][3]']                  \n",
            "                                                                                                  \n",
            "==================================================================================================\n",
            "Total params: 4,310,992\n",
            "Trainable params: 4,310,992\n",
            "Non-trainable params: 0\n",
            "__________________________________________________________________________________________________\n"
          ]
        }
      ]
    },
    {
      "cell_type": "markdown",
      "source": [
        "**8) EarlyStopping을 사용해 검증 데이터 손실이 증가하면 과적합 징후이므로 4회 증가하면 학습을 조기 종료하도록 함**<br>\n",
        "**9) ModelCheckpoint를 사용해 검증 데이터의 정확도가 이전보다 좋아질 경우에만 모델을 저장함**"
      ],
      "metadata": {
        "id": "qu-5grKAVfiv"
      }
    },
    {
      "cell_type": "code",
      "metadata": {
        "id": "D1RNtqNNK6Th"
      },
      "source": [
        "es = EarlyStopping(monitor='val_loss', mode='min', verbose=1, patience=4)\n",
        "mc = ModelCheckpoint('bilstm_bilstm_crf/cp.ckpt', monitor='val_decode_sequence_accuracy', mode='max', verbose=1, save_best_only=True, save_weights_only=True)"
      ],
      "execution_count": null,
      "outputs": []
    },
    {
      "cell_type": "markdown",
      "source": [
        "**10) validation_split=0.1을 사용하여 훈련 데이터의 10%를 검증 데이터로 분리하여 사용해 훈련이 적절히 되고 있는지 확인**<br>\n",
        "**11) 배치 크기는 128로 하여 15번의 에포크를 수행**<br>\n",
        "&nbsp;&nbsp;&nbsp;&nbsp;&nbsp;&nbsp;\n",
        "**이때 CRF층은 원-핫 인코딩된 레이블을 지원하지 않으므로 y_train이 아니라 y_train_int를 사용**"
      ],
      "metadata": {
        "id": "o4HvT03nVh9C"
      }
    },
    {
      "cell_type": "code",
      "metadata": {
        "colab": {
          "base_uri": "https://localhost:8080/"
        },
        "id": "Wl9dIPsIzW-m",
        "outputId": "0c25dd64-984d-49cd-873a-ed6b6db68d44"
      },
      "source": [
        "history = model.fit([X_train, X_char_train], y_train_int, batch_size=128, epochs=15, validation_split=0.1, callbacks=[mc, es])"
      ],
      "execution_count": null,
      "outputs": [
        {
          "output_type": "stream",
          "name": "stdout",
          "text": [
            "Epoch 1/15\n",
            "270/270 [==============================] - ETA: 0s - decode_sequence_accuracy: 0.9263 - loss: 22.6385\n",
            "Epoch 00001: val_decode_sequence_accuracy improved from -inf to 0.97024, saving model to bilstm_bilstm_crf/cp.ckpt\n",
            "270/270 [==============================] - 62s 195ms/step - decode_sequence_accuracy: 0.9263 - loss: 22.5786 - val_decode_sequence_accuracy: 0.9702 - val_loss: 7.3148\n",
            "Epoch 2/15\n",
            "270/270 [==============================] - ETA: 0s - decode_sequence_accuracy: 0.9787 - loss: 4.9090\n",
            "Epoch 00002: val_decode_sequence_accuracy improved from 0.97024 to 0.98270, saving model to bilstm_bilstm_crf/cp.ckpt\n",
            "270/270 [==============================] - 47s 173ms/step - decode_sequence_accuracy: 0.9787 - loss: 4.9062 - val_decode_sequence_accuracy: 0.9827 - val_loss: 3.7907\n",
            "Epoch 3/15\n",
            "270/270 [==============================] - ETA: 0s - decode_sequence_accuracy: 0.9852 - loss: 3.0332\n",
            "Epoch 00003: val_decode_sequence_accuracy improved from 0.98270 to 0.98497, saving model to bilstm_bilstm_crf/cp.ckpt\n",
            "270/270 [==============================] - 47s 174ms/step - decode_sequence_accuracy: 0.9852 - loss: 3.0313 - val_decode_sequence_accuracy: 0.9850 - val_loss: 2.9859\n",
            "Epoch 4/15\n",
            "270/270 [==============================] - ETA: 0s - decode_sequence_accuracy: 0.9875 - loss: 2.3553\n",
            "Epoch 00004: val_decode_sequence_accuracy improved from 0.98497 to 0.98560, saving model to bilstm_bilstm_crf/cp.ckpt\n",
            "270/270 [==============================] - 47s 173ms/step - decode_sequence_accuracy: 0.9875 - loss: 2.3519 - val_decode_sequence_accuracy: 0.9856 - val_loss: 2.7244\n",
            "Epoch 5/15\n",
            "270/270 [==============================] - ETA: 0s - decode_sequence_accuracy: 0.9889 - loss: 1.9602\n",
            "Epoch 00005: val_decode_sequence_accuracy improved from 0.98560 to 0.98624, saving model to bilstm_bilstm_crf/cp.ckpt\n",
            "270/270 [==============================] - 46s 172ms/step - decode_sequence_accuracy: 0.9889 - loss: 1.9582 - val_decode_sequence_accuracy: 0.9862 - val_loss: 2.5498\n",
            "Epoch 6/15\n",
            "270/270 [==============================] - ETA: 0s - decode_sequence_accuracy: 0.9899 - loss: 1.6986\n",
            "Epoch 00006: val_decode_sequence_accuracy improved from 0.98624 to 0.98633, saving model to bilstm_bilstm_crf/cp.ckpt\n",
            "270/270 [==============================] - 46s 172ms/step - decode_sequence_accuracy: 0.9899 - loss: 1.6976 - val_decode_sequence_accuracy: 0.9863 - val_loss: 2.5161\n",
            "Epoch 7/15\n",
            "270/270 [==============================] - ETA: 0s - decode_sequence_accuracy: 0.9906 - loss: 1.5089\n",
            "Epoch 00007: val_decode_sequence_accuracy improved from 0.98633 to 0.98659, saving model to bilstm_bilstm_crf/cp.ckpt\n",
            "270/270 [==============================] - 46s 170ms/step - decode_sequence_accuracy: 0.9906 - loss: 1.5104 - val_decode_sequence_accuracy: 0.9866 - val_loss: 2.5450\n",
            "Epoch 8/15\n",
            "270/270 [==============================] - ETA: 0s - decode_sequence_accuracy: 0.9912 - loss: 1.3638\n",
            "Epoch 00008: val_decode_sequence_accuracy did not improve from 0.98659\n",
            "270/270 [==============================] - 46s 172ms/step - decode_sequence_accuracy: 0.9912 - loss: 1.3640 - val_decode_sequence_accuracy: 0.9865 - val_loss: 2.4838\n",
            "Epoch 9/15\n",
            "270/270 [==============================] - ETA: 0s - decode_sequence_accuracy: 0.9917 - loss: 1.2333\n",
            "Epoch 00009: val_decode_sequence_accuracy did not improve from 0.98659\n",
            "270/270 [==============================] - 46s 171ms/step - decode_sequence_accuracy: 0.9917 - loss: 1.2339 - val_decode_sequence_accuracy: 0.9863 - val_loss: 2.5875\n",
            "Epoch 10/15\n",
            "270/270 [==============================] - ETA: 0s - decode_sequence_accuracy: 0.9920 - loss: 1.1323\n",
            "Epoch 00010: val_decode_sequence_accuracy did not improve from 0.98659\n",
            "270/270 [==============================] - 46s 172ms/step - decode_sequence_accuracy: 0.9920 - loss: 1.1335 - val_decode_sequence_accuracy: 0.9865 - val_loss: 2.6285\n",
            "Epoch 11/15\n",
            "270/270 [==============================] - ETA: 0s - decode_sequence_accuracy: 0.9925 - loss: 1.0415\n",
            "Epoch 00011: val_decode_sequence_accuracy did not improve from 0.98659\n",
            "270/270 [==============================] - 46s 170ms/step - decode_sequence_accuracy: 0.9925 - loss: 1.0404 - val_decode_sequence_accuracy: 0.9860 - val_loss: 2.7645\n",
            "Epoch 12/15\n",
            "270/270 [==============================] - ETA: 0s - decode_sequence_accuracy: 0.9928 - loss: 0.9524\n",
            "Epoch 00012: val_decode_sequence_accuracy did not improve from 0.98659\n",
            "270/270 [==============================] - 46s 169ms/step - decode_sequence_accuracy: 0.9928 - loss: 0.9524 - val_decode_sequence_accuracy: 0.9861 - val_loss: 2.8831\n",
            "Epoch 00012: early stopping\n"
          ]
        }
      ]
    },
    {
      "cell_type": "markdown",
      "source": [
        "**12) 검증 데이터에 대해서 정확도가 가장 높았을 당시를 저장해둔 가중치를 불러오기**"
      ],
      "metadata": {
        "id": "bdgA8rl_Vj5M"
      }
    },
    {
      "cell_type": "code",
      "metadata": {
        "colab": {
          "base_uri": "https://localhost:8080/"
        },
        "id": "DZcu-pPrNqpz",
        "outputId": "b14ea385-0598-47de-8ef4-6d9e09258b24"
      },
      "source": [
        "model.load_weights('bilstm_bilstm_crf/cp.ckpt')"
      ],
      "execution_count": null,
      "outputs": [
        {
          "output_type": "execute_result",
          "data": {
            "text/plain": [
              "<tensorflow.python.training.tracking.util.CheckpointLoadStatus at 0x7fc730fe7210>"
            ]
          },
          "metadata": {},
          "execution_count": 114
        }
      ]
    },
    {
      "cell_type": "markdown",
      "source": [
        "**13) 테스트 데이터의 임의의 인덱스 13번 샘플에 대해서 실제값과 예측값을 비교**"
      ],
      "metadata": {
        "id": "41plM7-IVk8X"
      }
    },
    {
      "cell_type": "code",
      "metadata": {
        "colab": {
          "base_uri": "https://localhost:8080/"
        },
        "id": "T_ECUaJ2Nuoj",
        "outputId": "e33f23f1-52fd-45a5-b547-52d321aa9b85"
      },
      "source": [
        "i = 13 # 확인하고 싶은 테스트용 샘플의 인덱스.\n",
        "\n",
        "# 입력한 테스트용 샘플에 대해서 예측 y를 리턴\n",
        "y_predicted = model.predict([np.array([X_test[i]]), np.array([X_char_test[i]])])[0]\n",
        "true = np.argmax(y_test[i], -1) # 원-핫 벡터를 정수 인코딩으로 변경.\n",
        "\n",
        "print(\"{:15}|{:5}|{}\".format(\"단어\", \"실제값\", \"예측값\"))\n",
        "print(35 * \"-\")\n",
        "\n",
        "for word, tag, pred in zip(X_test[i], true, y_predicted[0]):\n",
        "    if word != 0: # PAD값은 제외함.\n",
        "        print(\"{:17}: {:7} {}\".format(index_to_word[word], index_to_ner[tag], index_to_ner[pred]))"
      ],
      "execution_count": null,
      "outputs": [
        {
          "output_type": "stream",
          "name": "stdout",
          "text": [
            "단어             |실제값  |예측값\n",
            "-----------------------------------\n",
            "the              : O       O\n",
            "statement        : O       O\n",
            "came             : O       O\n",
            "as               : O       O\n",
            "u.n.             : B-org   B-org\n",
            "secretary-general: I-org   I-org\n",
            "kofi             : B-per   B-per\n",
            "annan            : I-per   I-per\n",
            "met              : O       O\n",
            "with             : O       O\n",
            "officials        : O       O\n",
            "in               : O       O\n",
            "amman            : B-geo   B-geo\n",
            "to               : O       O\n",
            "discuss          : O       O\n",
            "wednesday        : B-tim   B-tim\n",
            "'s               : O       O\n",
            "attacks          : O       O\n",
            ".                : O       O\n"
          ]
        }
      ]
    },
    {
      "cell_type": "code",
      "metadata": {
        "colab": {
          "base_uri": "https://localhost:8080/",
          "height": 295
        },
        "id": "3JeErjaCNyp6",
        "outputId": "d3dd1345-0925-4b55-c43b-cf2a6ebafbb0"
      },
      "source": [
        "epochs = range(1, len(history.history['val_loss']) + 1)\n",
        "plt.plot(epochs, history.history['loss'])\n",
        "plt.plot(epochs, history.history['val_loss'])\n",
        "plt.title('model loss')\n",
        "plt.ylabel('loss')\n",
        "plt.xlabel('epoch')\n",
        "plt.legend(['train', 'val'], loc='upper left')\n",
        "plt.show()"
      ],
      "execution_count": null,
      "outputs": [
        {
          "output_type": "display_data",
          "data": {
            "image/png": "[encoded data removed]",
            "text/plain": [
              "<Figure size 432x288 with 1 Axes>"
            ]
          },
          "metadata": {
            "needs_background": "light"
          }
        }
      ]
    },
    {
      "cell_type": "markdown",
      "source": [
        "**14) 테스트 데이터에 대해서 성능을 측정하기 위해 테스트 데이터에 대한 예측 시퀀스인 y_predicted를 얻기**"
      ],
      "metadata": {
        "id": "7_N0_-1QVmd0"
      }
    },
    {
      "cell_type": "code",
      "metadata": {
        "id": "hX3VzmGeN2Ay"
      },
      "source": [
        "y_predicted = model.predict([X_test, X_char_test])[0]\n",
        "pred_tags = sequences_to_tag_for_crf(y_predicted)\n",
        "test_tags = sequences_to_tag(y_test)"
      ],
      "execution_count": null,
      "outputs": []
    },
    {
      "cell_type": "code",
      "metadata": {
        "colab": {
          "base_uri": "https://localhost:8080/"
        },
        "id": "nk1jkfQUN5G6",
        "outputId": "baa6ffd4-c2a8-4f68-f578-b1cae00252fb"
      },
      "source": [
        "print(classification_report(test_tags, pred_tags))"
      ],
      "execution_count": null,
      "outputs": [
        {
          "output_type": "stream",
          "name": "stdout",
          "text": [
            "              precision    recall  f1-score   support\n",
            "\n",
            "         art       0.44      0.06      0.11        63\n",
            "         eve       0.70      0.27      0.39        52\n",
            "         geo       0.83      0.87      0.85      7620\n",
            "         gpe       0.95      0.94      0.94      3145\n",
            "         nat       0.39      0.19      0.25        37\n",
            "         org       0.71      0.55      0.62      4033\n",
            "         per       0.79      0.74      0.76      3545\n",
            "         tim       0.88      0.84      0.86      4067\n",
            "\n",
            "   micro avg       0.83      0.79      0.81     22562\n",
            "   macro avg       0.71      0.56      0.60     22562\n",
            "weighted avg       0.82      0.79      0.81     22562\n",
            "\n"
          ]
        }
      ]
    },
    {
      "cell_type": "markdown",
      "source": [
        "**15) 예측값과 실제값에 대한 태깅 정보 시퀀스를 얻은 후 f1-score를 계산**"
      ],
      "metadata": {
        "id": "nRHU3NgqVnmH"
      }
    },
    {
      "cell_type": "code",
      "metadata": {
        "colab": {
          "base_uri": "https://localhost:8080/"
        },
        "id": "aP1jPe10AIqb",
        "outputId": "b799effa-f85f-4d5d-96b2-4dabf8219c19"
      },
      "source": [
        "print(\"F1-score: {:.1%}\".format(f1_score(test_tags, pred_tags)))"
      ],
      "execution_count": null,
      "outputs": [
        {
          "output_type": "stream",
          "name": "stdout",
          "text": [
            "F1-score: 81.1%\n"
          ]
        }
      ]
    }
  ]
}