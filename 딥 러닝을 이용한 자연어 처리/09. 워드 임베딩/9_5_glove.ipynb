{
  "nbformat": 4,
  "nbformat_minor": 0,
  "metadata": {
    "colab": {
      "provenance": []
    },
    "kernelspec": {
      "name": "python3",
      "display_name": "Python 3"
    },
    "language_info": {
      "name": "python"
    }
  },
  "cells": [
    {
      "cell_type": "markdown",
      "source": [
        "# 프롬프트에서 커맨드로 Glove 패키지 설치하기"
      ],
      "metadata": {
        "id": "zzoo7mwcx-jn"
      }
    },
    {
      "cell_type": "code",
      "execution_count": null,
      "metadata": {
        "colab": {
          "base_uri": "https://localhost:8080/"
        },
        "id": "QMjYfR-HthWB",
        "outputId": "db0232ab-ebd9-4047-fd28-e7b1b878a981"
      },
      "outputs": [
        {
          "name": "stdout",
          "output_type": "stream",
          "text": [
            "Looking in indexes: https://pypi.org/simple, https://us-python.pkg.dev/colab-wheels/public/simple/\n",
            "Collecting glove_python_binary\n",
            "  Downloading glove_python_binary-0.2.0-cp37-cp37m-manylinux1_x86_64.whl (948 kB)\n",
            "\u001b[K     |████████████████████████████████| 948 kB 4.9 MB/s \n",
            "\u001b[?25hRequirement already satisfied: numpy in /usr/local/lib/python3.7/dist-packages (from glove_python_binary) (1.21.6)\n",
            "Requirement already satisfied: scipy in /usr/local/lib/python3.7/dist-packages (from glove_python_binary) (1.7.3)\n",
            "Installing collected packages: glove-python-binary\n",
            "Successfully installed glove-python-binary-0.2.0\n"
          ]
        }
      ],
      "source": [
        "pip install glove_python_binary"
      ]
    },
    {
      "cell_type": "code",
      "execution_count": null,
      "metadata": {
        "colab": {
          "base_uri": "https://localhost:8080/"
        },
        "id": "PAfH0_Y1u9_K",
        "outputId": "bdaee0b8-73e8-45a0-ab07-6cfd375cf7bb"
      },
      "outputs": [
        {
          "name": "stdout",
          "output_type": "stream",
          "text": [
            "glove-python-binary           0.2.0\n"
          ]
        }
      ],
      "source": [
        "pip list | grep glove"
      ]
    },
    {
      "cell_type": "code",
      "execution_count": null,
      "metadata": {
        "colab": {
          "base_uri": "https://localhost:8080/"
        },
        "id": "xqCVq3IStj0b",
        "outputId": "06cf1f7a-608f-492e-bf72-247b019ea2d4"
      },
      "outputs": [
        {
          "name": "stderr",
          "output_type": "stream",
          "text": [
            "[nltk_data] Downloading package punkt to /root/nltk_data...\n",
            "[nltk_data]   Unzipping tokenizers/punkt.zip.\n"
          ]
        },
        {
          "data": {
            "text/plain": [
              "True"
            ]
          },
          "execution_count": 3,
          "metadata": {},
          "output_type": "execute_result"
        }
      ],
      "source": [
        "import nltk\n",
        "nltk.download('punkt')"
      ]
    },
    {
      "cell_type": "code",
      "execution_count": null,
      "metadata": {
        "id": "Hw-A0mBCtoAB"
      },
      "outputs": [],
      "source": [
        "import urllib.request\n",
        "import zipfile\n",
        "from lxml import etree\n",
        "import re\n",
        "from nltk.tokenize import word_tokenize, sent_tokenize"
      ]
    },
    {
      "cell_type": "markdown",
      "source": [
        "# 훈련 데이터 이해하기"
      ],
      "metadata": {
        "id": "d7ENMk65yeKH"
      }
    },
    {
      "cell_type": "markdown",
      "source": [
        "**1) 훈련 데이터를 다운로드**"
      ],
      "metadata": {
        "id": "c19EXQKJylk2"
      }
    },
    {
      "cell_type": "code",
      "execution_count": null,
      "metadata": {
        "colab": {
          "base_uri": "https://localhost:8080/"
        },
        "id": "NtkAw421toy4",
        "outputId": "8a5023cc-ecbe-41bd-fd28-a1f550a3bcf7"
      },
      "outputs": [
        {
          "data": {
            "text/plain": [
              "('ted_en-20160408.xml', <http.client.HTTPMessage at 0x7fa3e89aea10>)"
            ]
          },
          "execution_count": 5,
          "metadata": {},
          "output_type": "execute_result"
        }
      ],
      "source": [
        "# 데이터 다운로드\n",
        "urllib.request.urlretrieve(\"https://raw.githubusercontent.com/GaoleMeng/RNN-and-FFNN-textClassification/master/ted_en-20160408.xml\", filename=\"ted_en-20160408.xml\")"
      ]
    },
    {
      "cell_type": "markdown",
      "source": [
        "# 훈련 데이터 전처리하기"
      ],
      "metadata": {
        "id": "uP4yJb8RyhHz"
      }
    },
    {
      "cell_type": "markdown",
      "source": [
        "**1) xml 문법으로 작성된 파일에 대해 xml 문법들과 배경음을 나타내는 단어들을 제거하고 자연어 데이터만 가져오도록 전처리**<br>\n",
        "**2) 또한 입력 코퍼스에 대해서 단어 토큰화를 수행**"
      ],
      "metadata": {
        "id": "30SLg1Spymv-"
      }
    },
    {
      "cell_type": "code",
      "execution_count": null,
      "metadata": {
        "colab": {
          "background_save": true
        },
        "id": "RBIBpnQDtpri"
      },
      "outputs": [],
      "source": [
        "targetXML = open('ted_en-20160408.xml', 'r', encoding='UTF8')\n",
        "target_text = etree.parse(targetXML)\n",
        "\n",
        "# xml 파일로부터 <content>와 </content> 사이의 내용만 가져온다.\n",
        "parse_text = '\\n'.join(target_text.xpath('//content/text()'))\n",
        "\n",
        "# 정규 표현식의 sub 모듈을 통해 content 중간에 등장하는 (Audio), (Laughter) 등의 배경음 부분을 제거.\n",
        "# 해당 코드는 괄호로 구성된 내용을 제거.\n",
        "content_text = re.sub(r'\\([^)]*\\)', '', parse_text)\n",
        "\n",
        "# 입력 코퍼스에 대해서 NLTK를 이용하여 문장 토큰화를 수행.\n",
        "sent_text = sent_tokenize(content_text)\n",
        "\n",
        "# 각 문장에 대해서 구두점을 제거하고, 대문자를 소문자로 변환.\n",
        "normalized_text = []\n",
        "for string in sent_text:\n",
        "     tokens = re.sub(r\"[^a-z0-9]+\", \" \", string.lower())\n",
        "     normalized_text.append(tokens)\n",
        "\n",
        "# 각 문장에 대해서 NLTK를 이용하여 단어 토큰화를 수행.\n",
        "result = [word_tokenize(sentence) for sentence in normalized_text]"
      ]
    },
    {
      "cell_type": "markdown",
      "source": [
        "**3) 토큰화가 수행된 총 샘플의 개수는 27만 3천개**"
      ],
      "metadata": {
        "id": "AUumiGKWyrOl"
      }
    },
    {
      "cell_type": "code",
      "execution_count": null,
      "metadata": {
        "colab": {
          "background_save": true
        },
        "id": "lY3ZR568tswh",
        "outputId": "a0bd0830-8824-4309-ba63-c881bf8cb4d3"
      },
      "outputs": [
        {
          "name": "stdout",
          "output_type": "stream",
          "text": [
            "총 샘플의 개수 : 273380\n"
          ]
        }
      ],
      "source": [
        "print('총 샘플의 개수 : {}'.format(len(result)))"
      ]
    },
    {
      "cell_type": "markdown",
      "source": [
        "# GloVe 훈련시키기"
      ],
      "metadata": {
        "id": "YN5M8cPWyjo8"
      }
    },
    {
      "cell_type": "markdown",
      "source": [
        "**1) 훈련 데이터로부터 GloVe에서 사용할 동시 등장 행렬을 생성**<br>\n",
        "**2) 학습에 이용할 쓰레드의 개수를 4, 에포크의 숫자를 20으로 설정**"
      ],
      "metadata": {
        "id": "giY7PQFDy1PB"
      }
    },
    {
      "cell_type": "code",
      "execution_count": null,
      "metadata": {
        "colab": {
          "background_save": true
        },
        "id": "bMQ7L6ZutuLY",
        "outputId": "bc61d37e-136d-4ed0-c45d-f3773df8ea62"
      },
      "outputs": [
        {
          "name": "stdout",
          "output_type": "stream",
          "text": [
            "Performing 20 training epochs with 4 threads\n",
            "Epoch 0\n",
            "Epoch 1\n",
            "Epoch 2\n",
            "Epoch 3\n",
            "Epoch 4\n",
            "Epoch 5\n",
            "Epoch 6\n",
            "Epoch 7\n",
            "Epoch 8\n",
            "Epoch 9\n",
            "Epoch 10\n",
            "Epoch 11\n",
            "Epoch 12\n",
            "Epoch 13\n",
            "Epoch 14\n",
            "Epoch 15\n",
            "Epoch 16\n",
            "Epoch 17\n",
            "Epoch 18\n",
            "Epoch 19\n"
          ]
        }
      ],
      "source": [
        "from glove import Corpus, Glove\n",
        "\n",
        "corpus = Corpus() \n",
        "\n",
        "# 훈련 데이터로부터 GloVe에서 사용할 동시 등장 행렬 생성\n",
        "corpus.fit(result, window=5) # 좌, 우에 존재하는 5개의 단어만 참고\n",
        "glove = Glove(no_components=100, learning_rate=0.05)\n",
        "\n",
        "# 학습에 이용할 쓰레드의 개수는 4로 설정, 에포크는 20.\n",
        "glove.fit(corpus.matrix, epochs=20, no_threads=4, verbose=True)\n",
        "glove.add_dictionary(corpus.dictionary)"
      ]
    },
    {
      "cell_type": "markdown",
      "source": [
        "**3) GloVe는 입력한 단어에 대해서 가장 유사한 단어들을 출력하는 glove.most_similar를 지원하므로**<br>\n",
        "&nbsp;&nbsp;&nbsp;&nbsp;&nbsp;**'man'과 가장 유사한 단어들을 출력해보록 함**"
      ],
      "metadata": {
        "id": "Lpr65GGuy_cs"
      }
    },
    {
      "cell_type": "code",
      "execution_count": null,
      "metadata": {
        "colab": {
          "base_uri": "https://localhost:8080/"
        },
        "id": "eVnbDhult4vg",
        "outputId": "0d75b489-714f-44c4-f60a-e5c67209e557"
      },
      "outputs": [
        {
          "name": "stdout",
          "output_type": "stream",
          "text": [
            "[('woman', 0.9592558146481998), ('guy', 0.8879702965842972), ('girl', 0.8681301312495904), ('kid', 0.840433557687172)]\n"
          ]
        }
      ],
      "source": [
        "print(glove.most_similar(\"man\"))"
      ]
    },
    {
      "cell_type": "markdown",
      "source": [
        "**4) 'boy'과 유사한 단어들을 출력**"
      ],
      "metadata": {
        "id": "BxrUzQ4bzIce"
      }
    },
    {
      "cell_type": "code",
      "execution_count": null,
      "metadata": {
        "colab": {
          "base_uri": "https://localhost:8080/"
        },
        "id": "nJhQgU7buUaI",
        "outputId": "ff865b55-cd0f-4a67-855c-f52b7c399f69"
      },
      "outputs": [
        {
          "name": "stdout",
          "output_type": "stream",
          "text": [
            "[('girl', 0.9431204365432643), ('woman', 0.8604915757383735), ('man', 0.8337024111794784), ('kid', 0.83161801327567)]\n"
          ]
        }
      ],
      "source": [
        "print(glove.most_similar(\"boy\"))"
      ]
    },
    {
      "cell_type": "markdown",
      "source": [
        "**5) 'university'과 유사한 단어들을 출력**"
      ],
      "metadata": {
        "id": "BFIv-ltzzKVr"
      }
    },
    {
      "cell_type": "code",
      "execution_count": null,
      "metadata": {
        "colab": {
          "base_uri": "https://localhost:8080/"
        },
        "id": "grpzxNtBuU7B",
        "outputId": "1f74cd1f-0d32-4182-e46d-04d5f8ad4aac"
      },
      "outputs": [
        {
          "name": "stdout",
          "output_type": "stream",
          "text": [
            "[('harvard', 0.8951920214630628), ('mit', 0.853900380131127), ('cambridge', 0.8527690785573532), ('stanford', 0.8430588170027818)]\n"
          ]
        }
      ],
      "source": [
        "print(glove.most_similar(\"university\"))"
      ]
    },
    {
      "cell_type": "markdown",
      "source": [
        "**6) 'water'과 유사한 단어들을 출력**"
      ],
      "metadata": {
        "id": "AGVkLFzpzMbs"
      }
    },
    {
      "cell_type": "code",
      "execution_count": null,
      "metadata": {
        "colab": {
          "base_uri": "https://localhost:8080/"
        },
        "id": "vafP_qTluWqI",
        "outputId": "a4f547e6-7841-43e6-ee71-332bd465724e"
      },
      "outputs": [
        {
          "name": "stdout",
          "output_type": "stream",
          "text": [
            "[('air', 0.8279656964348078), ('clean', 0.8254072089250712), ('fresh', 0.8167668389724283), ('electricity', 0.8164066660033333)]\n"
          ]
        }
      ],
      "source": [
        "print(glove.most_similar(\"water\"))"
      ]
    },
    {
      "cell_type": "markdown",
      "source": [
        "**7) 'physics'과 유사한 단어들을 출력**"
      ],
      "metadata": {
        "id": "zorwO_RFzODA"
      }
    },
    {
      "cell_type": "code",
      "execution_count": null,
      "metadata": {
        "colab": {
          "base_uri": "https://localhost:8080/"
        },
        "id": "PDmlKY1guYc4",
        "outputId": "bbf10f2a-64eb-4bc6-d677-d06b62f13c8e"
      },
      "outputs": [
        {
          "name": "stdout",
          "output_type": "stream",
          "text": [
            "[('chemistry', 0.887845484385345), ('economics', 0.8701227264628881), ('mathematics', 0.8566791617676138), ('beauty', 0.8564305737208275)]\n"
          ]
        }
      ],
      "source": [
        "print(glove.most_similar(\"physics\"))"
      ]
    },
    {
      "cell_type": "markdown",
      "source": [
        "**8) 'muscle'과 유사한 단어들을 출력**"
      ],
      "metadata": {
        "id": "5o7ov6F1zQaU"
      }
    },
    {
      "cell_type": "code",
      "execution_count": null,
      "metadata": {
        "colab": {
          "base_uri": "https://localhost:8080/"
        },
        "id": "KXHmXldruaGI",
        "outputId": "c0512b64-bd19-4b92-ccd3-9b2ae38346b5"
      },
      "outputs": [
        {
          "name": "stdout",
          "output_type": "stream",
          "text": [
            "[('tissue', 0.8544125652057311), ('nerve', 0.8302245727838146), ('skeletal', 0.7670955998540845), ('stem', 0.762369858460031)]\n"
          ]
        }
      ],
      "source": [
        "print(glove.most_similar(\"muscle\"))"
      ]
    },
    {
      "cell_type": "markdown",
      "source": [
        "**9) 'clean'과 유사한 단어들을 출력**"
      ],
      "metadata": {
        "id": "z90rkvu6zSc7"
      }
    },
    {
      "cell_type": "code",
      "execution_count": null,
      "metadata": {
        "colab": {
          "base_uri": "https://localhost:8080/"
        },
        "id": "u2WARsjmubYo",
        "outputId": "f6bd3229-9fc7-4cac-e63f-15549b75032c"
      },
      "outputs": [
        {
          "name": "stdout",
          "output_type": "stream",
          "text": [
            "[('fresh', 0.8308020772677666), ('water', 0.8254072089250712), ('heat', 0.8168824901537102), ('wind', 0.7785974847572267)]\n"
          ]
        }
      ],
      "source": [
        "print(glove.most_similar(\"clean\"))"
      ]
    }
  ]
}