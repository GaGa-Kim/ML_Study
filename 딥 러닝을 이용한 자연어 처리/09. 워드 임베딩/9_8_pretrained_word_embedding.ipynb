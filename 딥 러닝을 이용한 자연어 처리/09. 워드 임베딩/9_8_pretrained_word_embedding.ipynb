{
  "nbformat": 4,
  "nbformat_minor": 0,
  "metadata": {
    "colab": {
      "provenance": []
    },
    "kernelspec": {
      "name": "python3",
      "display_name": "Python 3"
    },
    "language_info": {
      "name": "python"
    }
  },
  "cells": [
    {
      "cell_type": "markdown",
      "source": [
        "# 케라스 임베딩 층"
      ],
      "metadata": {
        "id": "q86QHUlCFXjS"
      }
    },
    {
      "cell_type": "markdown",
      "source": [
        "### 임베딩 층 사용하기"
      ],
      "metadata": {
        "id": "cygTH7ZUFdrR"
      }
    },
    {
      "cell_type": "code",
      "metadata": {
        "id": "SBEq_NokPhdN"
      },
      "source": [
        "import numpy as np\n",
        "from tensorflow.keras.preprocessing.text import Tokenizer\n",
        "from tensorflow.keras.preprocessing.sequence import pad_sequences"
      ],
      "execution_count": null,
      "outputs": []
    },
    {
      "cell_type": "markdown",
      "source": [
        "**1) 문장의 긍, 부정을 판단하는 감성 분류 모델을 만들기 위해 긍정인 문장은 레이블 1, 부정인 문장은 레이블 0으로 지정**"
      ],
      "metadata": {
        "id": "UpBDyO-qFfuW"
      }
    },
    {
      "cell_type": "code",
      "metadata": {
        "id": "0Zs1zoLEPkkv"
      },
      "source": [
        "sentences = ['nice great best amazing', 'stop lies', 'pitiful nerd', 'excellent work', 'supreme quality', 'bad', 'highly respectable']\n",
        "y_train = [1, 0, 0, 1, 1, 0, 1]"
      ],
      "execution_count": null,
      "outputs": []
    },
    {
      "cell_type": "markdown",
      "source": [
        "**2) 케라스의 토크나이저를 사용하여 단어 집합을 만들고 크기를 확인**"
      ],
      "metadata": {
        "id": "e_GTnq-PFh-I"
      }
    },
    {
      "cell_type": "code",
      "metadata": {
        "colab": {
          "base_uri": "https://localhost:8080/"
        },
        "id": "gPO7VSsNPlYu",
        "outputId": "c00fdc91-b835-4b68-8cda-97405147845a"
      },
      "source": [
        "tokenizer = Tokenizer()\n",
        "tokenizer.fit_on_texts(sentences)\n",
        "vocab_size = len(tokenizer.word_index) + 1\n",
        "print(vocab_size)"
      ],
      "execution_count": null,
      "outputs": [
        {
          "output_type": "stream",
          "name": "stdout",
          "text": [
            "16\n"
          ]
        }
      ]
    },
    {
      "cell_type": "markdown",
      "source": [
        "**3) 각 문장에 대해서 정수 인코딩을 수행**"
      ],
      "metadata": {
        "id": "AdzoxFU1Flmg"
      }
    },
    {
      "cell_type": "code",
      "metadata": {
        "colab": {
          "base_uri": "https://localhost:8080/"
        },
        "id": "w_nGLh4jPn6G",
        "outputId": "4fbe017a-e054-4267-cca0-52699e7c5e91"
      },
      "source": [
        "X_encoded = tokenizer.texts_to_sequences(sentences)\n",
        "print(X_encoded)"
      ],
      "execution_count": null,
      "outputs": [
        {
          "output_type": "stream",
          "name": "stdout",
          "text": [
            "[[1, 2, 3, 4], [5, 6], [7, 8], [9, 10], [11, 12], [13], [14, 15]]\n"
          ]
        }
      ]
    },
    {
      "cell_type": "markdown",
      "source": [
        "**4) 가장 길이가 긴 문장의 길이를 구함**"
      ],
      "metadata": {
        "id": "GPOnMevdFm6O"
      }
    },
    {
      "cell_type": "code",
      "metadata": {
        "colab": {
          "base_uri": "https://localhost:8080/"
        },
        "id": "7_9xEc4UPtkq",
        "outputId": "d657a90a-a9e9-45e8-de95-663365e6199b"
      },
      "source": [
        "max_len = max(len(l) for l in X_encoded)\n",
        "print(max_len)"
      ],
      "execution_count": null,
      "outputs": [
        {
          "output_type": "stream",
          "name": "stdout",
          "text": [
            "4\n"
          ]
        }
      ]
    },
    {
      "cell_type": "markdown",
      "source": [
        "**5) 최대 길이로 모든 샘플에 대해서 패딩을 진행**"
      ],
      "metadata": {
        "id": "z_6QcvcBFoVu"
      }
    },
    {
      "cell_type": "code",
      "metadata": {
        "colab": {
          "base_uri": "https://localhost:8080/"
        },
        "id": "Ic5dberhPpQ-",
        "outputId": "904f031c-41f9-4e19-9ec5-6f6f1e11a3c7"
      },
      "source": [
        "X_train = pad_sequences(X_encoded, maxlen=max_len, padding='post')\n",
        "y_train = np.array(y_train)\n",
        "print(X_train)"
      ],
      "execution_count": null,
      "outputs": [
        {
          "output_type": "stream",
          "name": "stdout",
          "text": [
            "[[ 1  2  3  4]\n",
            " [ 5  6  0  0]\n",
            " [ 7  8  0  0]\n",
            " [ 9 10  0  0]\n",
            " [11 12  0  0]\n",
            " [13  0  0  0]\n",
            " [14 15  0  0]]\n"
          ]
        }
      ]
    },
    {
      "cell_type": "markdown",
      "source": [
        "**6) 출력층에 1개의 뉴런을 배치하고 활성화 함수로 시그모이드 함수, 손실 함수로 binary_crossentropy를 사용**"
      ],
      "metadata": {
        "id": "tVr_92t8Fpwe"
      }
    },
    {
      "cell_type": "code",
      "metadata": {
        "id": "MUVmsvRYPqkG"
      },
      "source": [
        "from tensorflow.keras.models import Sequential\n",
        "from tensorflow.keras.layers import Dense, Embedding, Flatten\n",
        "\n",
        "embedding_dim = 4\n",
        "\n",
        "model = Sequential()\n",
        "model.add(Embedding(vocab_size, embedding_dim, input_length=max_len))\n",
        "model.add(Flatten())\n",
        "model.add(Dense(1, activation='sigmoid'))"
      ],
      "execution_count": null,
      "outputs": []
    },
    {
      "cell_type": "markdown",
      "source": [
        "**7) 100 에포크 학습하여 현재 각 단어들의 임베딩 벡터들의 값이 출력층의 가중치와 함께 학습됨**"
      ],
      "metadata": {
        "id": "4cLuXxCVFrR-"
      }
    },
    {
      "cell_type": "code",
      "metadata": {
        "colab": {
          "base_uri": "https://localhost:8080/"
        },
        "id": "FwhOlBrNPzt-",
        "outputId": "7fe0c840-48e2-4d04-80c1-41d7a42292e4"
      },
      "source": [
        "model.compile(optimizer='adam', loss='binary_crossentropy', metrics=['acc'])\n",
        "model.fit(X_train, y_train, epochs=100, verbose=2)"
      ],
      "execution_count": null,
      "outputs": [
        {
          "output_type": "stream",
          "name": "stdout",
          "text": [
            "Epoch 1/100\n",
            "1/1 - 2s - loss: 0.6845 - acc: 0.5714\n",
            "Epoch 2/100\n",
            "1/1 - 0s - loss: 0.6832 - acc: 0.5714\n",
            "Epoch 3/100\n",
            "1/1 - 0s - loss: 0.6818 - acc: 0.5714\n",
            "Epoch 4/100\n",
            "1/1 - 0s - loss: 0.6805 - acc: 0.7143\n",
            "Epoch 5/100\n",
            "1/1 - 0s - loss: 0.6791 - acc: 0.7143\n",
            "Epoch 6/100\n",
            "1/1 - 0s - loss: 0.6777 - acc: 0.7143\n",
            "Epoch 7/100\n",
            "1/1 - 0s - loss: 0.6764 - acc: 0.7143\n",
            "Epoch 8/100\n",
            "1/1 - 0s - loss: 0.6750 - acc: 0.8571\n",
            "Epoch 9/100\n",
            "1/1 - 0s - loss: 0.6736 - acc: 0.8571\n",
            "Epoch 10/100\n",
            "1/1 - 0s - loss: 0.6723 - acc: 0.8571\n",
            "Epoch 11/100\n",
            "1/1 - 0s - loss: 0.6709 - acc: 0.8571\n",
            "Epoch 12/100\n",
            "1/1 - 0s - loss: 0.6695 - acc: 0.8571\n",
            "Epoch 13/100\n",
            "1/1 - 0s - loss: 0.6682 - acc: 0.8571\n",
            "Epoch 14/100\n",
            "1/1 - 0s - loss: 0.6668 - acc: 0.8571\n",
            "Epoch 15/100\n",
            "1/1 - 0s - loss: 0.6654 - acc: 0.8571\n",
            "Epoch 16/100\n",
            "1/1 - 0s - loss: 0.6640 - acc: 0.8571\n",
            "Epoch 17/100\n",
            "1/1 - 0s - loss: 0.6626 - acc: 0.8571\n",
            "Epoch 18/100\n",
            "1/1 - 0s - loss: 0.6612 - acc: 0.8571\n",
            "Epoch 19/100\n",
            "1/1 - 0s - loss: 0.6598 - acc: 1.0000\n",
            "Epoch 20/100\n",
            "1/1 - 0s - loss: 0.6583 - acc: 1.0000\n",
            "Epoch 21/100\n",
            "1/1 - 0s - loss: 0.6569 - acc: 1.0000\n",
            "Epoch 22/100\n",
            "1/1 - 0s - loss: 0.6555 - acc: 1.0000\n",
            "Epoch 23/100\n",
            "1/1 - 0s - loss: 0.6540 - acc: 1.0000\n",
            "Epoch 24/100\n",
            "1/1 - 0s - loss: 0.6526 - acc: 1.0000\n",
            "Epoch 25/100\n",
            "1/1 - 0s - loss: 0.6511 - acc: 1.0000\n",
            "Epoch 26/100\n",
            "1/1 - 0s - loss: 0.6497 - acc: 1.0000\n",
            "Epoch 27/100\n",
            "1/1 - 0s - loss: 0.6482 - acc: 1.0000\n",
            "Epoch 28/100\n",
            "1/1 - 0s - loss: 0.6467 - acc: 1.0000\n",
            "Epoch 29/100\n",
            "1/1 - 0s - loss: 0.6452 - acc: 1.0000\n",
            "Epoch 30/100\n",
            "1/1 - 0s - loss: 0.6437 - acc: 1.0000\n",
            "Epoch 31/100\n",
            "1/1 - 0s - loss: 0.6422 - acc: 1.0000\n",
            "Epoch 32/100\n",
            "1/1 - 0s - loss: 0.6406 - acc: 1.0000\n",
            "Epoch 33/100\n",
            "1/1 - 0s - loss: 0.6391 - acc: 1.0000\n",
            "Epoch 34/100\n",
            "1/1 - 0s - loss: 0.6376 - acc: 1.0000\n",
            "Epoch 35/100\n",
            "1/1 - 0s - loss: 0.6360 - acc: 1.0000\n",
            "Epoch 36/100\n",
            "1/1 - 0s - loss: 0.6345 - acc: 1.0000\n",
            "Epoch 37/100\n",
            "1/1 - 0s - loss: 0.6329 - acc: 1.0000\n",
            "Epoch 38/100\n",
            "1/1 - 0s - loss: 0.6313 - acc: 1.0000\n",
            "Epoch 39/100\n",
            "1/1 - 0s - loss: 0.6297 - acc: 1.0000\n",
            "Epoch 40/100\n",
            "1/1 - 0s - loss: 0.6281 - acc: 1.0000\n",
            "Epoch 41/100\n",
            "1/1 - 0s - loss: 0.6265 - acc: 1.0000\n",
            "Epoch 42/100\n",
            "1/1 - 0s - loss: 0.6249 - acc: 1.0000\n",
            "Epoch 43/100\n",
            "1/1 - 0s - loss: 0.6233 - acc: 1.0000\n",
            "Epoch 44/100\n",
            "1/1 - 0s - loss: 0.6216 - acc: 1.0000\n",
            "Epoch 45/100\n",
            "1/1 - 0s - loss: 0.6200 - acc: 1.0000\n",
            "Epoch 46/100\n",
            "1/1 - 0s - loss: 0.6183 - acc: 1.0000\n",
            "Epoch 47/100\n",
            "1/1 - 0s - loss: 0.6166 - acc: 1.0000\n",
            "Epoch 48/100\n",
            "1/1 - 0s - loss: 0.6150 - acc: 1.0000\n",
            "Epoch 49/100\n",
            "1/1 - 0s - loss: 0.6133 - acc: 1.0000\n",
            "Epoch 50/100\n",
            "1/1 - 0s - loss: 0.6116 - acc: 1.0000\n",
            "Epoch 51/100\n",
            "1/1 - 0s - loss: 0.6099 - acc: 1.0000\n",
            "Epoch 52/100\n",
            "1/1 - 0s - loss: 0.6081 - acc: 1.0000\n",
            "Epoch 53/100\n",
            "1/1 - 0s - loss: 0.6064 - acc: 1.0000\n",
            "Epoch 54/100\n",
            "1/1 - 0s - loss: 0.6047 - acc: 1.0000\n",
            "Epoch 55/100\n",
            "1/1 - 0s - loss: 0.6029 - acc: 1.0000\n",
            "Epoch 56/100\n",
            "1/1 - 0s - loss: 0.6012 - acc: 1.0000\n",
            "Epoch 57/100\n",
            "1/1 - 0s - loss: 0.5994 - acc: 1.0000\n",
            "Epoch 58/100\n",
            "1/1 - 0s - loss: 0.5976 - acc: 1.0000\n",
            "Epoch 59/100\n",
            "1/1 - 0s - loss: 0.5958 - acc: 1.0000\n",
            "Epoch 60/100\n",
            "1/1 - 0s - loss: 0.5941 - acc: 1.0000\n",
            "Epoch 61/100\n",
            "1/1 - 0s - loss: 0.5922 - acc: 1.0000\n",
            "Epoch 62/100\n",
            "1/1 - 0s - loss: 0.5904 - acc: 1.0000\n",
            "Epoch 63/100\n",
            "1/1 - 0s - loss: 0.5886 - acc: 1.0000\n",
            "Epoch 64/100\n",
            "1/1 - 0s - loss: 0.5868 - acc: 1.0000\n",
            "Epoch 65/100\n",
            "1/1 - 0s - loss: 0.5849 - acc: 1.0000\n",
            "Epoch 66/100\n",
            "1/1 - 0s - loss: 0.5831 - acc: 1.0000\n",
            "Epoch 67/100\n",
            "1/1 - 0s - loss: 0.5812 - acc: 1.0000\n",
            "Epoch 68/100\n",
            "1/1 - 0s - loss: 0.5794 - acc: 1.0000\n",
            "Epoch 69/100\n",
            "1/1 - 0s - loss: 0.5775 - acc: 1.0000\n",
            "Epoch 70/100\n",
            "1/1 - 0s - loss: 0.5756 - acc: 1.0000\n",
            "Epoch 71/100\n",
            "1/1 - 0s - loss: 0.5737 - acc: 1.0000\n",
            "Epoch 72/100\n",
            "1/1 - 0s - loss: 0.5718 - acc: 1.0000\n",
            "Epoch 73/100\n",
            "1/1 - 0s - loss: 0.5699 - acc: 1.0000\n",
            "Epoch 74/100\n",
            "1/1 - 0s - loss: 0.5680 - acc: 1.0000\n",
            "Epoch 75/100\n",
            "1/1 - 0s - loss: 0.5661 - acc: 1.0000\n",
            "Epoch 76/100\n",
            "1/1 - 0s - loss: 0.5642 - acc: 1.0000\n",
            "Epoch 77/100\n",
            "1/1 - 0s - loss: 0.5622 - acc: 1.0000\n",
            "Epoch 78/100\n",
            "1/1 - 0s - loss: 0.5603 - acc: 1.0000\n",
            "Epoch 79/100\n",
            "1/1 - 0s - loss: 0.5583 - acc: 1.0000\n",
            "Epoch 80/100\n",
            "1/1 - 0s - loss: 0.5564 - acc: 1.0000\n",
            "Epoch 81/100\n",
            "1/1 - 0s - loss: 0.5544 - acc: 1.0000\n",
            "Epoch 82/100\n",
            "1/1 - 0s - loss: 0.5524 - acc: 1.0000\n",
            "Epoch 83/100\n",
            "1/1 - 0s - loss: 0.5505 - acc: 1.0000\n",
            "Epoch 84/100\n",
            "1/1 - 0s - loss: 0.5485 - acc: 1.0000\n",
            "Epoch 85/100\n",
            "1/1 - 0s - loss: 0.5465 - acc: 1.0000\n",
            "Epoch 86/100\n",
            "1/1 - 0s - loss: 0.5445 - acc: 1.0000\n",
            "Epoch 87/100\n",
            "1/1 - 0s - loss: 0.5425 - acc: 1.0000\n",
            "Epoch 88/100\n",
            "1/1 - 0s - loss: 0.5405 - acc: 1.0000\n",
            "Epoch 89/100\n",
            "1/1 - 0s - loss: 0.5385 - acc: 1.0000\n",
            "Epoch 90/100\n",
            "1/1 - 0s - loss: 0.5364 - acc: 1.0000\n",
            "Epoch 91/100\n",
            "1/1 - 0s - loss: 0.5344 - acc: 1.0000\n",
            "Epoch 92/100\n",
            "1/1 - 0s - loss: 0.5324 - acc: 1.0000\n",
            "Epoch 93/100\n",
            "1/1 - 0s - loss: 0.5303 - acc: 1.0000\n",
            "Epoch 94/100\n",
            "1/1 - 0s - loss: 0.5283 - acc: 1.0000\n",
            "Epoch 95/100\n",
            "1/1 - 0s - loss: 0.5262 - acc: 1.0000\n",
            "Epoch 96/100\n",
            "1/1 - 0s - loss: 0.5242 - acc: 1.0000\n",
            "Epoch 97/100\n",
            "1/1 - 0s - loss: 0.5221 - acc: 1.0000\n",
            "Epoch 98/100\n",
            "1/1 - 0s - loss: 0.5201 - acc: 1.0000\n",
            "Epoch 99/100\n",
            "1/1 - 0s - loss: 0.5180 - acc: 1.0000\n",
            "Epoch 100/100\n",
            "1/1 - 0s - loss: 0.5159 - acc: 1.0000\n"
          ]
        },
        {
          "output_type": "execute_result",
          "data": {
            "text/plain": [
              "<keras.callbacks.History at 0x7ff4b0140dd0>"
            ]
          },
          "metadata": {},
          "execution_count": 13
        }
      ]
    },
    {
      "cell_type": "markdown",
      "source": [
        "# 사전 훈련된 워드 임베딩 사용하기"
      ],
      "metadata": {
        "id": "iPCiKkuuFa3h"
      }
    },
    {
      "cell_type": "markdown",
      "source": [
        "### 훈련 데이터 이해하고 전처리하기"
      ],
      "metadata": {
        "id": "_GH5M0lpFu_C"
      }
    },
    {
      "cell_type": "markdown",
      "source": [
        "**1) 앞서 케라스 임베딩 층에서 사용한 데이터를 사용**"
      ],
      "metadata": {
        "id": "maCM94OkFwVl"
      }
    },
    {
      "cell_type": "markdown",
      "source": [
        "### 사전 훈련된 GloVe 사용하기"
      ],
      "metadata": {
        "id": "6zQYlrjRFxIc"
      }
    },
    {
      "cell_type": "code",
      "metadata": {
        "id": "s6dQBG76QK9d"
      },
      "source": [
        "from urllib.request import urlretrieve, urlopen\n",
        "import gzip\n",
        "import zipfile"
      ],
      "execution_count": null,
      "outputs": []
    },
    {
      "cell_type": "markdown",
      "source": [
        "**1) glove.6B.zip을 다운로드하고 압축을 푼 후 glove.6B.100d.txt 파일을 사용**"
      ],
      "metadata": {
        "id": "wch-6empFywd"
      }
    },
    {
      "cell_type": "code",
      "metadata": {
        "id": "QMZIz7cpQGPH"
      },
      "source": [
        "urlretrieve(\"http://nlp.stanford.edu/data/glove.6B.zip\", filename=\"glove.6B.zip\")\n",
        "zf = zipfile.ZipFile('glove.6B.zip')\n",
        "zf.extractall() \n",
        "zf.close()"
      ],
      "execution_count": null,
      "outputs": []
    },
    {
      "cell_type": "markdown",
      "source": [
        "**2) glove.6B.txt에 있는 모든 임베딩 벡터를 불러온 후 딕셔너리를 사용해 로드한 임베딩 벡터의 개수를 확인**"
      ],
      "metadata": {
        "id": "8q-VQIPGF0p6"
      }
    },
    {
      "cell_type": "code",
      "metadata": {
        "colab": {
          "base_uri": "https://localhost:8080/"
        },
        "id": "cMNEmTj0QZ2R",
        "outputId": "59af40a2-69e7-4b1b-96be-95b80058fbe3"
      },
      "source": [
        "embedding_dict = dict()\n",
        "\n",
        "f = open('glove.6B.100d.txt', encoding=\"utf8\")\n",
        "\n",
        "for line in f:\n",
        "    word_vector = line.split()\n",
        "    word = word_vector[0]\n",
        "    \n",
        "    # 100개의 값을 가지는 array로 변환\n",
        "    word_vector_arr = np.asarray(word_vector[1:], dtype='float32')\n",
        "    embedding_dict[word] = word_vector_arr\n",
        "f.close()\n",
        "\n",
        "print('%s개의 Embedding vector가 있습니다.' % len(embedding_dict))"
      ],
      "execution_count": null,
      "outputs": [
        {
          "output_type": "stream",
          "name": "stdout",
          "text": [
            "400000개의 Embedding vector가 있습니다.\n"
          ]
        }
      ]
    },
    {
      "cell_type": "markdown",
      "source": [
        "**3) 임의의 단어 'respectable'의 임베딩 벡터 값과 크기를 출력**"
      ],
      "metadata": {
        "id": "S8lMjp8sF10a"
      }
    },
    {
      "cell_type": "code",
      "metadata": {
        "colab": {
          "base_uri": "https://localhost:8080/"
        },
        "id": "0czY3cKhQjYn",
        "outputId": "dfe746e7-c7d8-48e1-eb35-0942c6dc2d43"
      },
      "source": [
        "print(embedding_dict['respectable'])\n",
        "print(len(embedding_dict['respectable']))"
      ],
      "execution_count": null,
      "outputs": [
        {
          "output_type": "stream",
          "name": "stdout",
          "text": [
            "[-0.049773   0.19903    0.10585    0.1391    -0.32395    0.44053\n",
            "  0.3947    -0.22805   -0.25793    0.49768    0.15384   -0.08831\n",
            "  0.0782    -0.8299    -0.037788   0.16772   -0.45197   -0.17085\n",
            "  0.74756    0.98256    0.81872    0.28507    0.16178   -0.48626\n",
            " -0.006265  -0.92469   -0.30625   -0.067318  -0.046762  -0.76291\n",
            " -0.0025264 -0.018795   0.12882   -0.52457    0.3586     0.43119\n",
            " -0.89477   -0.057421  -0.53724    0.25587    0.55195    0.44698\n",
            " -0.24252    0.29946    0.25776   -0.8717     0.68426   -0.05688\n",
            " -0.1848    -0.59352   -0.11227   -0.57692   -0.013593   0.18488\n",
            " -0.32507   -0.90171    0.17672    0.075601   0.54896   -0.21488\n",
            " -0.54018   -0.45882   -0.79536    0.26331    0.18879   -0.16363\n",
            "  0.3975     0.1099     0.1164    -0.083499   0.50159    0.35802\n",
            "  0.25677    0.088546   0.42108    0.28674   -0.71285   -0.82915\n",
            "  0.15297   -0.82712    0.022112   1.067     -0.31776    0.1211\n",
            " -0.069755  -0.61327    0.27308   -0.42638   -0.085084  -0.17694\n",
            " -0.0090944  0.1109     0.62543   -0.23682   -0.44928   -0.3667\n",
            " -0.21616   -0.19187   -0.032502   0.38025  ]\n",
            "100\n"
          ]
        }
      ]
    },
    {
      "cell_type": "markdown",
      "source": [
        "**4) 벡터의 차원 수가 100이므로 풀고자 하는 문제의 단어 집합 크기의 행과 100개의 열을 가지는 행렬을 생성하고 0으로 채운 후**<br>\n",
        "&nbsp;&nbsp;&nbsp;&nbsp;   **이 후 이 행렬에 사전 훈련된 임베딩 값을 넣어주도록 할 것임**"
      ],
      "metadata": {
        "id": "B0L7trI_F5sL"
      }
    },
    {
      "cell_type": "code",
      "metadata": {
        "colab": {
          "base_uri": "https://localhost:8080/"
        },
        "id": "1RtqXv34QkOu",
        "outputId": "34e96738-059d-4029-eed9-d2c5aa0b3336"
      },
      "source": [
        "# 단어 집합 크기의 행과 100개의 열을 가지는 행렬 생성. 값은 전부 0으로 채워진다.\n",
        "embedding_matrix = np.zeros((vocab_size, 100))\n",
        "np.shape(embedding_matrix)"
      ],
      "execution_count": null,
      "outputs": [
        {
          "output_type": "execute_result",
          "data": {
            "text/plain": [
              "(16, 100)"
            ]
          },
          "metadata": {},
          "execution_count": 19
        }
      ]
    },
    {
      "cell_type": "markdown",
      "source": [
        "**5) 기존 데이터의 각 단어와 맵핑된 정수값을 확인하면 단어 'great'의 맵핑된 정수는 2**"
      ],
      "metadata": {
        "id": "eSCvhzIVGLBF"
      }
    },
    {
      "cell_type": "code",
      "metadata": {
        "colab": {
          "base_uri": "https://localhost:8080/"
        },
        "id": "mhAjkMDcQmAu",
        "outputId": "40a18cdc-4d26-4681-ea13-b86704cf28e5"
      },
      "source": [
        "print(tokenizer.word_index.items())"
      ],
      "execution_count": null,
      "outputs": [
        {
          "output_type": "stream",
          "name": "stdout",
          "text": [
            "dict_items([('nice', 1), ('great', 2), ('best', 3), ('amazing', 4), ('stop', 5), ('lies', 6), ('pitiful', 7), ('nerd', 8), ('excellent', 9), ('work', 10), ('supreme', 11), ('quality', 12), ('bad', 13), ('highly', 14), ('respectable', 15)])\n"
          ]
        }
      ]
    },
    {
      "cell_type": "code",
      "metadata": {
        "colab": {
          "base_uri": "https://localhost:8080/"
        },
        "id": "aPLZvbnRRMWR",
        "outputId": "1fbaf675-54c3-4f8d-e883-2e1c38b3cdd7"
      },
      "source": [
        "tokenizer.word_index['great']"
      ],
      "execution_count": null,
      "outputs": [
        {
          "output_type": "execute_result",
          "data": {
            "text/plain": [
              "2"
            ]
          },
          "metadata": {},
          "execution_count": 27
        }
      ]
    },
    {
      "cell_type": "markdown",
      "source": [
        "**6) 사전 훈련된 GloVe에서 단어 'great'의 벡터값을 확인**"
      ],
      "metadata": {
        "id": "bRngUXdTGNXc"
      }
    },
    {
      "cell_type": "code",
      "metadata": {
        "colab": {
          "base_uri": "https://localhost:8080/"
        },
        "id": "Wm3CIglpRR59",
        "outputId": "6b6ceab2-0c3c-4d70-ba49-4b3ae663e919"
      },
      "source": [
        "print(embedding_dict['great'])"
      ],
      "execution_count": null,
      "outputs": [
        {
          "output_type": "stream",
          "name": "stdout",
          "text": [
            "[-0.013786   0.38216    0.53236    0.15261   -0.29694   -0.20558\n",
            " -0.41846   -0.58437   -0.77355   -0.87866   -0.37858   -0.18516\n",
            " -0.128     -0.20584   -0.22925   -0.42599    0.3725     0.26077\n",
            " -1.0702     0.62916   -0.091469   0.70348   -0.4973    -0.77691\n",
            "  0.66045    0.09465   -0.44893    0.018917   0.33146   -0.35022\n",
            " -0.35789    0.030313   0.22253   -0.23236   -0.19719   -0.0053125\n",
            " -0.25848    0.58081   -0.10705   -0.17845   -0.16206    0.087086\n",
            "  0.63029   -0.76649    0.51619    0.14073    1.019     -0.43136\n",
            "  0.46138   -0.43585   -0.47568    0.19226    0.36065    0.78987\n",
            "  0.088945  -2.7814    -0.15366    0.01015    1.1798     0.15168\n",
            " -0.050112   1.2626    -0.77527    0.36031    0.95761   -0.11385\n",
            "  0.28035   -0.02591    0.31246   -0.15424    0.3778    -0.13599\n",
            "  0.2946    -0.31579    0.42943    0.086969   0.019169  -0.27242\n",
            " -0.31696    0.37327    0.61997    0.13889    0.17188    0.30363\n",
            " -1.2776     0.044423  -0.52736   -0.88536   -0.19428   -0.61947\n",
            " -0.10146   -0.26301   -0.061707   0.36627   -0.95223   -0.39346\n",
            " -0.69183   -1.0426     0.28855    0.63056  ]\n"
          ]
        }
      ]
    },
    {
      "cell_type": "markdown",
      "source": [
        "**7) 단어 집합의 모든 단어에 대해서 사전 훈련된 GloVe의 임베딩 벡터들을 임베딩 행렬에 맵핑한 후** <br>\n",
        "&nbsp;&nbsp;&nbsp;&nbsp;     **'great'의 벡터값이 의도한 인덱스의 위치에 삽입되었는지 확인하기 위해 인덱스 2에서의 값을 확인하면** <br>\n",
        "&nbsp;&nbsp;&nbsp;&nbsp;      **이전에 확인한 사전에 훈련된 GloVe의 'great'의 벡터값과 일치하는 것을 볼 수 있음**"
      ],
      "metadata": {
        "id": "nt-HKtRcGQEc"
      }
    },
    {
      "cell_type": "code",
      "metadata": {
        "id": "tf5G45yGQn7u"
      },
      "source": [
        "for word, index in tokenizer.word_index.items():\n",
        "    # 단어와 맵핑되는 사전 훈련된 임베딩 벡터값\n",
        "    vector_value = embedding_dict.get(word)\n",
        "    if vector_value is not None:\n",
        "        embedding_matrix[index] = vector_value"
      ],
      "execution_count": null,
      "outputs": []
    },
    {
      "cell_type": "code",
      "metadata": {
        "colab": {
          "base_uri": "https://localhost:8080/"
        },
        "id": "P0OnjVjPRXAk",
        "outputId": "aa4557cc-9d49-4373-abdc-b0635ef7723d"
      },
      "source": [
        "embedding_matrix[2]"
      ],
      "execution_count": null,
      "outputs": [
        {
          "output_type": "execute_result",
          "data": {
            "text/plain": [
              "array([-0.013786  ,  0.38216001,  0.53236002,  0.15261   , -0.29694   ,\n",
              "       -0.20558   , -0.41846001, -0.58437002, -0.77354997, -0.87866002,\n",
              "       -0.37858   , -0.18516   , -0.12800001, -0.20584001, -0.22925   ,\n",
              "       -0.42598999,  0.3725    ,  0.26076999, -1.07019997,  0.62915999,\n",
              "       -0.091469  ,  0.70348001, -0.4973    , -0.77691001,  0.66044998,\n",
              "        0.09465   , -0.44893   ,  0.018917  ,  0.33146   , -0.35021999,\n",
              "       -0.35789001,  0.030313  ,  0.22253001, -0.23236001, -0.19719   ,\n",
              "       -0.0053125 , -0.25848001,  0.58081001, -0.10705   , -0.17845   ,\n",
              "       -0.16205999,  0.087086  ,  0.63028997, -0.76648998,  0.51618999,\n",
              "        0.14072999,  1.01900005, -0.43136001,  0.46138   , -0.43584999,\n",
              "       -0.47567999,  0.19226   ,  0.36065   ,  0.78987002,  0.088945  ,\n",
              "       -2.78139997, -0.15366   ,  0.01015   ,  1.17980003,  0.15167999,\n",
              "       -0.050112  ,  1.26259995, -0.77526999,  0.36030999,  0.95761001,\n",
              "       -0.11385   ,  0.28035   , -0.02591   ,  0.31246001, -0.15424   ,\n",
              "        0.37779999, -0.13598999,  0.29460001, -0.31579   ,  0.42943001,\n",
              "        0.086969  ,  0.019169  , -0.27241999, -0.31696001,  0.37327   ,\n",
              "        0.61997002,  0.13889   ,  0.17188001,  0.30362999, -1.27760005,\n",
              "        0.044423  , -0.52736002, -0.88536   , -0.19428   , -0.61947   ,\n",
              "       -0.10146   , -0.26301   , -0.061707  ,  0.36627001, -0.95222998,\n",
              "       -0.39346001, -0.69182998, -1.04260004,  0.28854999,  0.63055998])"
            ]
          },
          "metadata": {},
          "execution_count": 29
        }
      ]
    },
    {
      "cell_type": "markdown",
      "source": [
        "**8) 임베딩 층에 embedding_matix를 초기값으로 설정하고 차원 수가 100이므로 output_dim을 100으로 설정함**<br>\n",
        "&nbsp;&nbsp;&nbsp;&nbsp;     **그리고 사전 훈련된 워드 임베딩을 사용하므로 추가 훈련을 하지 않는다는 의미의 trainable의 인자값을 False로 선택해 훈련**"
      ],
      "metadata": {
        "id": "dT1F0nORGZaI"
      }
    },
    {
      "cell_type": "code",
      "metadata": {
        "id": "fUBXRpt2Qzwn"
      },
      "source": [
        "from tensorflow.keras.models import Sequential\n",
        "from tensorflow.keras.layers import Dense, Embedding, Flatten\n",
        "\n",
        "model = Sequential()\n",
        "e = Embedding(vocab_size, 100, weights=[embedding_matrix], input_length=max_len, trainable=False)"
      ],
      "execution_count": null,
      "outputs": []
    },
    {
      "cell_type": "code",
      "metadata": {
        "colab": {
          "base_uri": "https://localhost:8080/"
        },
        "id": "irJTyKCWQ1L3",
        "outputId": "e5a2f0ed-4064-44ee-b160-5b30b5eed173"
      },
      "source": [
        "model.add(e)\n",
        "model.add(Flatten())\n",
        "model.add(Dense(1, activation='sigmoid'))\n",
        "model.compile(optimizer='adam', loss='binary_crossentropy', metrics=['acc'])\n",
        "model.fit(X_train, y_train, epochs=100, verbose=2)"
      ],
      "execution_count": null,
      "outputs": [
        {
          "output_type": "stream",
          "name": "stdout",
          "text": [
            "Epoch 1/100\n",
            "1/1 - 0s - loss: 0.7021 - acc: 0.5714\n",
            "Epoch 2/100\n",
            "1/1 - 0s - loss: 0.6829 - acc: 0.5714\n",
            "Epoch 3/100\n",
            "1/1 - 0s - loss: 0.6644 - acc: 0.5714\n",
            "Epoch 4/100\n",
            "1/1 - 0s - loss: 0.6466 - acc: 0.5714\n",
            "Epoch 5/100\n",
            "1/1 - 0s - loss: 0.6294 - acc: 0.5714\n",
            "Epoch 6/100\n",
            "1/1 - 0s - loss: 0.6129 - acc: 0.5714\n",
            "Epoch 7/100\n",
            "1/1 - 0s - loss: 0.5969 - acc: 0.7143\n",
            "Epoch 8/100\n",
            "1/1 - 0s - loss: 0.5816 - acc: 0.7143\n",
            "Epoch 9/100\n",
            "1/1 - 0s - loss: 0.5668 - acc: 0.7143\n",
            "Epoch 10/100\n",
            "1/1 - 0s - loss: 0.5525 - acc: 0.7143\n",
            "Epoch 11/100\n",
            "1/1 - 0s - loss: 0.5386 - acc: 0.7143\n",
            "Epoch 12/100\n",
            "1/1 - 0s - loss: 0.5253 - acc: 0.7143\n",
            "Epoch 13/100\n",
            "1/1 - 0s - loss: 0.5124 - acc: 0.7143\n",
            "Epoch 14/100\n",
            "1/1 - 0s - loss: 0.4999 - acc: 0.8571\n",
            "Epoch 15/100\n",
            "1/1 - 0s - loss: 0.4878 - acc: 0.8571\n",
            "Epoch 16/100\n",
            "1/1 - 0s - loss: 0.4760 - acc: 0.8571\n",
            "Epoch 17/100\n",
            "1/1 - 0s - loss: 0.4647 - acc: 0.8571\n",
            "Epoch 18/100\n",
            "1/1 - 0s - loss: 0.4536 - acc: 1.0000\n",
            "Epoch 19/100\n",
            "1/1 - 0s - loss: 0.4429 - acc: 1.0000\n",
            "Epoch 20/100\n",
            "1/1 - 0s - loss: 0.4325 - acc: 1.0000\n",
            "Epoch 21/100\n",
            "1/1 - 0s - loss: 0.4224 - acc: 1.0000\n",
            "Epoch 22/100\n",
            "1/1 - 0s - loss: 0.4125 - acc: 1.0000\n",
            "Epoch 23/100\n",
            "1/1 - 0s - loss: 0.4030 - acc: 1.0000\n",
            "Epoch 24/100\n",
            "1/1 - 0s - loss: 0.3937 - acc: 1.0000\n",
            "Epoch 25/100\n",
            "1/1 - 0s - loss: 0.3847 - acc: 1.0000\n",
            "Epoch 26/100\n",
            "1/1 - 0s - loss: 0.3759 - acc: 1.0000\n",
            "Epoch 27/100\n",
            "1/1 - 0s - loss: 0.3674 - acc: 1.0000\n",
            "Epoch 28/100\n",
            "1/1 - 0s - loss: 0.3591 - acc: 1.0000\n",
            "Epoch 29/100\n",
            "1/1 - 0s - loss: 0.3510 - acc: 1.0000\n",
            "Epoch 30/100\n",
            "1/1 - 0s - loss: 0.3432 - acc: 1.0000\n",
            "Epoch 31/100\n",
            "1/1 - 0s - loss: 0.3355 - acc: 1.0000\n",
            "Epoch 32/100\n",
            "1/1 - 0s - loss: 0.3281 - acc: 1.0000\n",
            "Epoch 33/100\n",
            "1/1 - 0s - loss: 0.3209 - acc: 1.0000\n",
            "Epoch 34/100\n",
            "1/1 - 0s - loss: 0.3139 - acc: 1.0000\n",
            "Epoch 35/100\n",
            "1/1 - 0s - loss: 0.3071 - acc: 1.0000\n",
            "Epoch 36/100\n",
            "1/1 - 0s - loss: 0.3005 - acc: 1.0000\n",
            "Epoch 37/100\n",
            "1/1 - 0s - loss: 0.2941 - acc: 1.0000\n",
            "Epoch 38/100\n",
            "1/1 - 0s - loss: 0.2879 - acc: 1.0000\n",
            "Epoch 39/100\n",
            "1/1 - 0s - loss: 0.2818 - acc: 1.0000\n",
            "Epoch 40/100\n",
            "1/1 - 0s - loss: 0.2759 - acc: 1.0000\n",
            "Epoch 41/100\n",
            "1/1 - 0s - loss: 0.2702 - acc: 1.0000\n",
            "Epoch 42/100\n",
            "1/1 - 0s - loss: 0.2646 - acc: 1.0000\n",
            "Epoch 43/100\n",
            "1/1 - 0s - loss: 0.2592 - acc: 1.0000\n",
            "Epoch 44/100\n",
            "1/1 - 0s - loss: 0.2540 - acc: 1.0000\n",
            "Epoch 45/100\n",
            "1/1 - 0s - loss: 0.2489 - acc: 1.0000\n",
            "Epoch 46/100\n",
            "1/1 - 0s - loss: 0.2439 - acc: 1.0000\n",
            "Epoch 47/100\n",
            "1/1 - 0s - loss: 0.2391 - acc: 1.0000\n",
            "Epoch 48/100\n",
            "1/1 - 0s - loss: 0.2344 - acc: 1.0000\n",
            "Epoch 49/100\n",
            "1/1 - 0s - loss: 0.2298 - acc: 1.0000\n",
            "Epoch 50/100\n",
            "1/1 - 0s - loss: 0.2254 - acc: 1.0000\n",
            "Epoch 51/100\n",
            "1/1 - 0s - loss: 0.2211 - acc: 1.0000\n",
            "Epoch 52/100\n",
            "1/1 - 0s - loss: 0.2169 - acc: 1.0000\n",
            "Epoch 53/100\n",
            "1/1 - 0s - loss: 0.2128 - acc: 1.0000\n",
            "Epoch 54/100\n",
            "1/1 - 0s - loss: 0.2089 - acc: 1.0000\n",
            "Epoch 55/100\n",
            "1/1 - 0s - loss: 0.2050 - acc: 1.0000\n",
            "Epoch 56/100\n",
            "1/1 - 0s - loss: 0.2012 - acc: 1.0000\n",
            "Epoch 57/100\n",
            "1/1 - 0s - loss: 0.1976 - acc: 1.0000\n",
            "Epoch 58/100\n",
            "1/1 - 0s - loss: 0.1940 - acc: 1.0000\n",
            "Epoch 59/100\n",
            "1/1 - 0s - loss: 0.1906 - acc: 1.0000\n",
            "Epoch 60/100\n",
            "1/1 - 0s - loss: 0.1872 - acc: 1.0000\n",
            "Epoch 61/100\n",
            "1/1 - 0s - loss: 0.1839 - acc: 1.0000\n",
            "Epoch 62/100\n",
            "1/1 - 0s - loss: 0.1807 - acc: 1.0000\n",
            "Epoch 63/100\n",
            "1/1 - 0s - loss: 0.1776 - acc: 1.0000\n",
            "Epoch 64/100\n",
            "1/1 - 0s - loss: 0.1746 - acc: 1.0000\n",
            "Epoch 65/100\n",
            "1/1 - 0s - loss: 0.1716 - acc: 1.0000\n",
            "Epoch 66/100\n",
            "1/1 - 0s - loss: 0.1688 - acc: 1.0000\n",
            "Epoch 67/100\n",
            "1/1 - 0s - loss: 0.1660 - acc: 1.0000\n",
            "Epoch 68/100\n",
            "1/1 - 0s - loss: 0.1632 - acc: 1.0000\n",
            "Epoch 69/100\n",
            "1/1 - 0s - loss: 0.1606 - acc: 1.0000\n",
            "Epoch 70/100\n",
            "1/1 - 0s - loss: 0.1580 - acc: 1.0000\n",
            "Epoch 71/100\n",
            "1/1 - 0s - loss: 0.1554 - acc: 1.0000\n",
            "Epoch 72/100\n",
            "1/1 - 0s - loss: 0.1529 - acc: 1.0000\n",
            "Epoch 73/100\n",
            "1/1 - 0s - loss: 0.1505 - acc: 1.0000\n",
            "Epoch 74/100\n",
            "1/1 - 0s - loss: 0.1482 - acc: 1.0000\n",
            "Epoch 75/100\n",
            "1/1 - 0s - loss: 0.1459 - acc: 1.0000\n",
            "Epoch 76/100\n",
            "1/1 - 0s - loss: 0.1436 - acc: 1.0000\n",
            "Epoch 77/100\n",
            "1/1 - 0s - loss: 0.1415 - acc: 1.0000\n",
            "Epoch 78/100\n",
            "1/1 - 0s - loss: 0.1393 - acc: 1.0000\n",
            "Epoch 79/100\n",
            "1/1 - 0s - loss: 0.1372 - acc: 1.0000\n",
            "Epoch 80/100\n",
            "1/1 - 0s - loss: 0.1352 - acc: 1.0000\n",
            "Epoch 81/100\n",
            "1/1 - 0s - loss: 0.1332 - acc: 1.0000\n",
            "Epoch 82/100\n",
            "1/1 - 0s - loss: 0.1313 - acc: 1.0000\n",
            "Epoch 83/100\n",
            "1/1 - 0s - loss: 0.1294 - acc: 1.0000\n",
            "Epoch 84/100\n",
            "1/1 - 0s - loss: 0.1275 - acc: 1.0000\n",
            "Epoch 85/100\n",
            "1/1 - 0s - loss: 0.1257 - acc: 1.0000\n",
            "Epoch 86/100\n",
            "1/1 - 0s - loss: 0.1239 - acc: 1.0000\n",
            "Epoch 87/100\n",
            "1/1 - 0s - loss: 0.1222 - acc: 1.0000\n",
            "Epoch 88/100\n",
            "1/1 - 0s - loss: 0.1205 - acc: 1.0000\n",
            "Epoch 89/100\n",
            "1/1 - 0s - loss: 0.1188 - acc: 1.0000\n",
            "Epoch 90/100\n",
            "1/1 - 0s - loss: 0.1172 - acc: 1.0000\n",
            "Epoch 91/100\n",
            "1/1 - 0s - loss: 0.1156 - acc: 1.0000\n",
            "Epoch 92/100\n",
            "1/1 - 0s - loss: 0.1140 - acc: 1.0000\n",
            "Epoch 93/100\n",
            "1/1 - 0s - loss: 0.1125 - acc: 1.0000\n",
            "Epoch 94/100\n",
            "1/1 - 0s - loss: 0.1110 - acc: 1.0000\n",
            "Epoch 95/100\n",
            "1/1 - 0s - loss: 0.1096 - acc: 1.0000\n",
            "Epoch 96/100\n",
            "1/1 - 0s - loss: 0.1082 - acc: 1.0000\n",
            "Epoch 97/100\n",
            "1/1 - 0s - loss: 0.1068 - acc: 1.0000\n",
            "Epoch 98/100\n",
            "1/1 - 0s - loss: 0.1054 - acc: 1.0000\n",
            "Epoch 99/100\n",
            "1/1 - 0s - loss: 0.1040 - acc: 1.0000\n",
            "Epoch 100/100\n",
            "1/1 - 0s - loss: 0.1027 - acc: 1.0000\n"
          ]
        },
        {
          "output_type": "execute_result",
          "data": {
            "text/plain": [
              "<keras.callbacks.History at 0x7ff42dace850>"
            ]
          },
          "metadata": {},
          "execution_count": 23
        }
      ]
    },
    {
      "cell_type": "markdown",
      "source": [
        "### 사전 훈련된 Word2Vec 사용하기"
      ],
      "metadata": {
        "id": "vGDWI5jFGgWQ"
      }
    },
    {
      "cell_type": "markdown",
      "source": [
        "**1) 구글의 사전 훈련된 Word2Vec 모델을 gensim을 통해 로드하고 word2vec_model에 저장**"
      ],
      "metadata": {
        "id": "Ixo9mqWXGiRg"
      }
    },
    {
      "cell_type": "code",
      "metadata": {
        "id": "OFhk9EtKRkVG"
      },
      "source": [
        "import gensim"
      ],
      "execution_count": null,
      "outputs": []
    },
    {
      "cell_type": "code",
      "metadata": {
        "id": "A6JqBwQtQ3q3"
      },
      "source": [
        "urlretrieve(\"https://s3.amazonaws.com/dl4j-distribution/GoogleNews-vectors-negative300.bin.gz\", \\\n",
        "                           filename=\"GoogleNews-vectors-negative300.bin.gz\")\n",
        "word2vec_model = gensim.models.KeyedVectors.load_word2vec_format('GoogleNews-vectors-negative300.bin.gz', binary=True)"
      ],
      "execution_count": null,
      "outputs": []
    },
    {
      "cell_type": "markdown",
      "source": [
        "**2) 모델의 크기를 확인하면 3000000 x 300이므로 3백만 개의 단어와 각 단어의 차원은 300**<br>\n",
        "**3) 그렇기 때문에 3000000 x 300 x 4bytes를 하면 모델 파일의 크기는 3.3GB임을 알 수 있음**"
      ],
      "metadata": {
        "id": "NhCQwFTaGjtB"
      }
    },
    {
      "cell_type": "code",
      "metadata": {
        "colab": {
          "base_uri": "https://localhost:8080/"
        },
        "id": "XZrpBwRoRkhf",
        "outputId": "801a833a-ddd8-4511-b954-26849253e689"
      },
      "source": [
        "print(word2vec_model.vectors.shape) # 모델의 크기 확인"
      ],
      "execution_count": null,
      "outputs": [
        {
          "output_type": "stream",
          "name": "stdout",
          "text": [
            "(3000000, 300)\n"
          ]
        }
      ]
    },
    {
      "cell_type": "markdown",
      "source": [
        "**4) 벡터의 차원 수가 300이므로 풀고자 하는 문제의 단어 집합 크기의 행과 300개의 열을 가지는 행렬을 생성하고 0으로 채운 후**<br>\n",
        "&nbsp;&nbsp;&nbsp;&nbsp;     **이 후 이 행렬에 사전 훈련된 임베딩 값을 넣어주도록 할 것임**"
      ],
      "metadata": {
        "id": "G6TunSp9GoDL"
      }
    },
    {
      "cell_type": "code",
      "metadata": {
        "colab": {
          "base_uri": "https://localhost:8080/"
        },
        "id": "DwUO0-ewRljP",
        "outputId": "ece13966-cf15-4afd-a4ea-5636e7bc2387"
      },
      "source": [
        "# 단어 집합 크기의 행과 300개의 열을 가지는 행렬 생성. 값은 전부 0으로 채워진다.\n",
        "embedding_matrix = np.zeros((vocab_size, 300))\n",
        "np.shape(embedding_matrix)"
      ],
      "execution_count": null,
      "outputs": [
        {
          "output_type": "execute_result",
          "data": {
            "text/plain": [
              "(16, 300)"
            ]
          },
          "metadata": {},
          "execution_count": 33
        }
      ]
    },
    {
      "cell_type": "markdown",
      "source": [
        "**5) 특정 단어의 임베딩 벡터가 없으면 None을 리턴하는 함수 get_vector()를 구현한 후**<br>\n",
        "&nbsp;&nbsp;&nbsp;&nbsp;     **이를 사용해 None이 아니라면 임베딩 행렬에 해당 단어의 인덱스 위치의 행에 임베딩 벡터의 값을 저장하여 맵핑하도록 함**"
      ],
      "metadata": {
        "id": "OITmSY63Gtvr"
      }
    },
    {
      "cell_type": "code",
      "metadata": {
        "id": "gmScXGKyRm7n"
      },
      "source": [
        "def get_vector(word):\n",
        "    if word in word2vec_model:\n",
        "        return word2vec_model[word]\n",
        "    else:\n",
        "        return None"
      ],
      "execution_count": null,
      "outputs": []
    },
    {
      "cell_type": "code",
      "metadata": {
        "id": "AyUpH9gbRnv3"
      },
      "source": [
        "for word, index in tokenizer.word_index.items():\n",
        "    # 단어와 맵핑되는 사전 훈련된 임베딩 벡터값\n",
        "    vector_value = get_vector(word)\n",
        "    if vector_value is not None:\n",
        "        embedding_matrix[index] = vector_value"
      ],
      "execution_count": null,
      "outputs": []
    },
    {
      "cell_type": "markdown",
      "source": [
        "**6) 사전 훈련된 Word2Vec에서 단어 'great'의 벡터값을 확인**"
      ],
      "metadata": {
        "id": "pOWf3BrIHjOg"
      }
    },
    {
      "cell_type": "code",
      "metadata": {
        "colab": {
          "base_uri": "https://localhost:8080/"
        },
        "id": "RCf1yEg6Rtk3",
        "outputId": "3c685473-ce25-4a80-fb13-4d2568dbfaf9"
      },
      "source": [
        "print(word2vec_model['great'])"
      ],
      "execution_count": null,
      "outputs": [
        {
          "output_type": "stream",
          "name": "stdout",
          "text": [
            "[ 7.17773438e-02  2.08007812e-01 -2.84423828e-02  1.78710938e-01\n",
            "  1.32812500e-01 -9.96093750e-02  9.61914062e-02 -1.16699219e-01\n",
            " -8.54492188e-03  1.48437500e-01 -3.34472656e-02 -1.85546875e-01\n",
            "  4.10156250e-02 -8.98437500e-02  2.17285156e-02  6.93359375e-02\n",
            "  1.80664062e-01  2.22656250e-01 -1.00585938e-01 -6.93359375e-02\n",
            "  1.04427338e-04  1.60156250e-01  4.07714844e-02  7.37304688e-02\n",
            "  1.53320312e-01  6.78710938e-02 -1.03027344e-01  4.17480469e-02\n",
            "  4.27246094e-02 -1.10351562e-01 -6.68945312e-02  4.19921875e-02\n",
            "  2.50000000e-01  2.12890625e-01  1.59179688e-01  1.44653320e-02\n",
            " -4.88281250e-02  1.39770508e-02  3.55529785e-03  2.09960938e-01\n",
            "  1.52343750e-01 -7.32421875e-02  2.16796875e-01 -5.76171875e-02\n",
            " -2.84423828e-02 -3.60107422e-03  1.52343750e-01 -2.63671875e-02\n",
            "  2.13623047e-02 -1.51367188e-01  1.04003906e-01  3.18359375e-01\n",
            " -1.85546875e-01  3.68652344e-02 -1.10839844e-01 -3.17382812e-02\n",
            " -1.01562500e-01 -1.21093750e-01  3.22265625e-01 -7.32421875e-02\n",
            " -1.52343750e-01  2.67578125e-01 -1.50390625e-01 -1.23046875e-01\n",
            "  1.07910156e-01  6.68945312e-02 -2.13623047e-02 -1.00585938e-01\n",
            " -2.05078125e-01  1.17675781e-01  6.15234375e-02  6.78710938e-02\n",
            "  1.06933594e-01 -7.71484375e-02 -1.52343750e-01 -4.24194336e-03\n",
            " -1.45507812e-01  2.53906250e-01  4.80957031e-02  9.71679688e-02\n",
            " -8.36181641e-03  1.12792969e-01  5.34667969e-02  1.79443359e-02\n",
            " -5.63964844e-02 -3.30078125e-01 -9.76562500e-02  1.42578125e-01\n",
            " -1.37695312e-01  2.20947266e-02  1.00097656e-01 -5.71289062e-02\n",
            " -1.56250000e-01 -6.37817383e-03 -9.37500000e-02 -4.68750000e-02\n",
            "  8.59375000e-02  3.06640625e-01 -1.11328125e-01 -1.94335938e-01\n",
            " -2.08007812e-01  8.10546875e-02 -4.19921875e-02 -8.30078125e-02\n",
            " -1.04003906e-01  2.92968750e-01  2.39257812e-02 -3.85742188e-02\n",
            "  3.56445312e-02 -1.04980469e-01 -6.54296875e-02  2.79296875e-01\n",
            " -1.16210938e-01 -1.45874023e-02  3.84765625e-01 -7.81250000e-02\n",
            " -2.92968750e-02 -1.35742188e-01 -5.39550781e-02 -5.49316406e-02\n",
            " -8.10546875e-02 -2.88085938e-02  8.34960938e-02  2.73437500e-01\n",
            " -6.20117188e-02 -4.78515625e-02 -1.09252930e-02 -1.13769531e-01\n",
            " -1.09863281e-01  2.02148438e-01 -1.28906250e-01 -6.68945312e-02\n",
            " -2.67578125e-01  9.61914062e-02  1.04003906e-01 -1.69921875e-01\n",
            "  5.56640625e-02  1.54296875e-01  8.05664062e-02  2.19726562e-01\n",
            " -2.27539062e-01  1.10351562e-01 -8.11767578e-03 -5.63964844e-02\n",
            " -9.03320312e-02 -7.76367188e-02 -3.61328125e-02  3.61328125e-02\n",
            "  1.58203125e-01 -1.56250000e-01  2.26562500e-01  2.85156250e-01\n",
            " -5.51757812e-02  3.53515625e-01 -1.20605469e-01  1.05957031e-01\n",
            "  3.11279297e-02 -1.91406250e-01 -2.31445312e-01 -1.11816406e-01\n",
            "  2.38037109e-03  7.51953125e-02 -1.28784180e-02  1.00585938e-01\n",
            "  4.45312500e-01 -2.77343750e-01  6.68945312e-02 -8.10546875e-02\n",
            "  6.39648438e-02  1.85546875e-02 -1.11328125e-01  9.76562500e-02\n",
            "  2.06054688e-01 -1.30859375e-01  2.39257812e-02  1.10839844e-01\n",
            "  8.05664062e-02 -1.52343750e-01  4.85229492e-03  1.84326172e-02\n",
            " -9.17968750e-02 -2.41210938e-01  8.39843750e-02 -1.00585938e-01\n",
            " -1.54296875e-01  2.75878906e-02 -1.64062500e-01 -1.01562500e-01\n",
            " -6.07299805e-03  1.33514404e-03 -2.53906250e-01  3.14453125e-01\n",
            "  1.31835938e-01 -1.31835938e-01  2.17285156e-02 -1.56250000e-01\n",
            " -1.46484375e-01 -5.12695312e-02 -1.20605469e-01 -2.15820312e-01\n",
            "  3.10058594e-02  1.30859375e-01  9.71679688e-02  5.67626953e-03\n",
            "  2.20947266e-02  1.26953125e-01 -1.24511719e-02  6.15234375e-02\n",
            " -2.23388672e-02  2.50000000e-01 -7.17773438e-02  1.58203125e-01\n",
            " -7.27539062e-02  1.97753906e-02  8.85009766e-03 -9.08203125e-02\n",
            "  3.63281250e-01 -9.03320312e-02  2.41699219e-02 -1.39770508e-02\n",
            " -5.10253906e-02  2.40478516e-02  5.88989258e-03 -1.02050781e-01\n",
            " -8.85009766e-03  3.05175781e-02 -7.81250000e-02 -1.27929688e-01\n",
            "  3.85742188e-02  2.86865234e-02 -2.28515625e-01 -1.25122070e-02\n",
            "  1.54296875e-01  9.13085938e-02  1.05468750e-01 -6.44531250e-02\n",
            " -1.28906250e-01 -1.02050781e-01 -2.16064453e-02 -3.29589844e-02\n",
            "  7.47070312e-02  3.78417969e-02  7.42187500e-02 -1.23901367e-02\n",
            " -4.68750000e-02  4.88281250e-03  1.03515625e-01 -8.69140625e-02\n",
            " -2.26562500e-01 -2.53906250e-01  3.58886719e-02  4.45312500e-01\n",
            "  5.56640625e-02  1.59179688e-01  2.71484375e-01 -1.08398438e-01\n",
            "  6.25000000e-02 -5.59082031e-02 -2.50000000e-01 -1.55273438e-01\n",
            " -6.83593750e-02 -1.39648438e-01 -1.59179688e-01 -1.79443359e-02\n",
            "  2.12402344e-02  7.37304688e-02  1.30859375e-01 -8.05664062e-02\n",
            "  2.99072266e-02  1.55639648e-02 -1.66015625e-01  1.50390625e-01\n",
            " -6.77490234e-03  1.01318359e-02  1.14746094e-01 -1.48437500e-01\n",
            " -4.58984375e-02 -1.39648438e-01 -1.73828125e-01 -4.27246094e-02\n",
            " -5.81054688e-02  5.22460938e-02 -1.11328125e-01  8.44726562e-02\n",
            " -2.55126953e-02  1.40625000e-01 -1.81640625e-01  1.72119141e-02\n",
            " -1.37695312e-01 -1.47705078e-02 -1.14746094e-02  6.44531250e-02\n",
            " -2.89062500e-01 -4.80957031e-02 -1.99218750e-01 -7.12890625e-02\n",
            "  6.44531250e-02 -1.67968750e-01 -2.08740234e-02 -1.42578125e-01]\n"
          ]
        }
      ]
    },
    {
      "cell_type": "markdown",
      "source": [
        "**7) 기존 데이터의 각 단어와 맵핑된 정수값을 확인하면 단어 'great'의 맵핑된 정수는 2**"
      ],
      "metadata": {
        "id": "s1HZsIWwHlMB"
      }
    },
    {
      "cell_type": "code",
      "metadata": {
        "colab": {
          "base_uri": "https://localhost:8080/"
        },
        "outputId": "1fbaf675-54c3-4f8d-e883-2e1c38b3cdd7",
        "id": "6hiLqyLKHhh_"
      },
      "source": [
        "tokenizer.word_index['great']"
      ],
      "execution_count": null,
      "outputs": [
        {
          "output_type": "execute_result",
          "data": {
            "text/plain": [
              "2"
            ]
          },
          "metadata": {},
          "execution_count": 27
        }
      ]
    },
    {
      "cell_type": "markdown",
      "source": [
        "**8) 'great의 벡터값이 의도한 인덱스의 위치에 삽입되었는지 확인하기 위해 인덱스 2에서의 값을 확인하면**<br>\n",
        "&nbsp;&nbsp;&nbsp;&nbsp;      **이전에 확인한 사전에 훈련된 Word2Vec의 'great'의 벡터값과 일치하는 것을 볼 수 있음**"
      ],
      "metadata": {
        "id": "PgPO42a_Hm3Y"
      }
    },
    {
      "cell_type": "code",
      "metadata": {
        "colab": {
          "base_uri": "https://localhost:8080/"
        },
        "id": "-xnWKEZ7RvZ3",
        "outputId": "24abcda0-f864-4d64-8a3a-83592c19c93b"
      },
      "source": [
        "print(embedding_matrix[2])"
      ],
      "execution_count": null,
      "outputs": [
        {
          "output_type": "stream",
          "name": "stdout",
          "text": [
            "[ 7.17773438e-02  2.08007812e-01 -2.84423828e-02  1.78710938e-01\n",
            "  1.32812500e-01 -9.96093750e-02  9.61914062e-02 -1.16699219e-01\n",
            " -8.54492188e-03  1.48437500e-01 -3.34472656e-02 -1.85546875e-01\n",
            "  4.10156250e-02 -8.98437500e-02  2.17285156e-02  6.93359375e-02\n",
            "  1.80664062e-01  2.22656250e-01 -1.00585938e-01 -6.93359375e-02\n",
            "  1.04427338e-04  1.60156250e-01  4.07714844e-02  7.37304688e-02\n",
            "  1.53320312e-01  6.78710938e-02 -1.03027344e-01  4.17480469e-02\n",
            "  4.27246094e-02 -1.10351562e-01 -6.68945312e-02  4.19921875e-02\n",
            "  2.50000000e-01  2.12890625e-01  1.59179688e-01  1.44653320e-02\n",
            " -4.88281250e-02  1.39770508e-02  3.55529785e-03  2.09960938e-01\n",
            "  1.52343750e-01 -7.32421875e-02  2.16796875e-01 -5.76171875e-02\n",
            " -2.84423828e-02 -3.60107422e-03  1.52343750e-01 -2.63671875e-02\n",
            "  2.13623047e-02 -1.51367188e-01  1.04003906e-01  3.18359375e-01\n",
            " -1.85546875e-01  3.68652344e-02 -1.10839844e-01 -3.17382812e-02\n",
            " -1.01562500e-01 -1.21093750e-01  3.22265625e-01 -7.32421875e-02\n",
            " -1.52343750e-01  2.67578125e-01 -1.50390625e-01 -1.23046875e-01\n",
            "  1.07910156e-01  6.68945312e-02 -2.13623047e-02 -1.00585938e-01\n",
            " -2.05078125e-01  1.17675781e-01  6.15234375e-02  6.78710938e-02\n",
            "  1.06933594e-01 -7.71484375e-02 -1.52343750e-01 -4.24194336e-03\n",
            " -1.45507812e-01  2.53906250e-01  4.80957031e-02  9.71679688e-02\n",
            " -8.36181641e-03  1.12792969e-01  5.34667969e-02  1.79443359e-02\n",
            " -5.63964844e-02 -3.30078125e-01 -9.76562500e-02  1.42578125e-01\n",
            " -1.37695312e-01  2.20947266e-02  1.00097656e-01 -5.71289062e-02\n",
            " -1.56250000e-01 -6.37817383e-03 -9.37500000e-02 -4.68750000e-02\n",
            "  8.59375000e-02  3.06640625e-01 -1.11328125e-01 -1.94335938e-01\n",
            " -2.08007812e-01  8.10546875e-02 -4.19921875e-02 -8.30078125e-02\n",
            " -1.04003906e-01  2.92968750e-01  2.39257812e-02 -3.85742188e-02\n",
            "  3.56445312e-02 -1.04980469e-01 -6.54296875e-02  2.79296875e-01\n",
            " -1.16210938e-01 -1.45874023e-02  3.84765625e-01 -7.81250000e-02\n",
            " -2.92968750e-02 -1.35742188e-01 -5.39550781e-02 -5.49316406e-02\n",
            " -8.10546875e-02 -2.88085938e-02  8.34960938e-02  2.73437500e-01\n",
            " -6.20117188e-02 -4.78515625e-02 -1.09252930e-02 -1.13769531e-01\n",
            " -1.09863281e-01  2.02148438e-01 -1.28906250e-01 -6.68945312e-02\n",
            " -2.67578125e-01  9.61914062e-02  1.04003906e-01 -1.69921875e-01\n",
            "  5.56640625e-02  1.54296875e-01  8.05664062e-02  2.19726562e-01\n",
            " -2.27539062e-01  1.10351562e-01 -8.11767578e-03 -5.63964844e-02\n",
            " -9.03320312e-02 -7.76367188e-02 -3.61328125e-02  3.61328125e-02\n",
            "  1.58203125e-01 -1.56250000e-01  2.26562500e-01  2.85156250e-01\n",
            " -5.51757812e-02  3.53515625e-01 -1.20605469e-01  1.05957031e-01\n",
            "  3.11279297e-02 -1.91406250e-01 -2.31445312e-01 -1.11816406e-01\n",
            "  2.38037109e-03  7.51953125e-02 -1.28784180e-02  1.00585938e-01\n",
            "  4.45312500e-01 -2.77343750e-01  6.68945312e-02 -8.10546875e-02\n",
            "  6.39648438e-02  1.85546875e-02 -1.11328125e-01  9.76562500e-02\n",
            "  2.06054688e-01 -1.30859375e-01  2.39257812e-02  1.10839844e-01\n",
            "  8.05664062e-02 -1.52343750e-01  4.85229492e-03  1.84326172e-02\n",
            " -9.17968750e-02 -2.41210938e-01  8.39843750e-02 -1.00585938e-01\n",
            " -1.54296875e-01  2.75878906e-02 -1.64062500e-01 -1.01562500e-01\n",
            " -6.07299805e-03  1.33514404e-03 -2.53906250e-01  3.14453125e-01\n",
            "  1.31835938e-01 -1.31835938e-01  2.17285156e-02 -1.56250000e-01\n",
            " -1.46484375e-01 -5.12695312e-02 -1.20605469e-01 -2.15820312e-01\n",
            "  3.10058594e-02  1.30859375e-01  9.71679688e-02  5.67626953e-03\n",
            "  2.20947266e-02  1.26953125e-01 -1.24511719e-02  6.15234375e-02\n",
            " -2.23388672e-02  2.50000000e-01 -7.17773438e-02  1.58203125e-01\n",
            " -7.27539062e-02  1.97753906e-02  8.85009766e-03 -9.08203125e-02\n",
            "  3.63281250e-01 -9.03320312e-02  2.41699219e-02 -1.39770508e-02\n",
            " -5.10253906e-02  2.40478516e-02  5.88989258e-03 -1.02050781e-01\n",
            " -8.85009766e-03  3.05175781e-02 -7.81250000e-02 -1.27929688e-01\n",
            "  3.85742188e-02  2.86865234e-02 -2.28515625e-01 -1.25122070e-02\n",
            "  1.54296875e-01  9.13085938e-02  1.05468750e-01 -6.44531250e-02\n",
            " -1.28906250e-01 -1.02050781e-01 -2.16064453e-02 -3.29589844e-02\n",
            "  7.47070312e-02  3.78417969e-02  7.42187500e-02 -1.23901367e-02\n",
            " -4.68750000e-02  4.88281250e-03  1.03515625e-01 -8.69140625e-02\n",
            " -2.26562500e-01 -2.53906250e-01  3.58886719e-02  4.45312500e-01\n",
            "  5.56640625e-02  1.59179688e-01  2.71484375e-01 -1.08398438e-01\n",
            "  6.25000000e-02 -5.59082031e-02 -2.50000000e-01 -1.55273438e-01\n",
            " -6.83593750e-02 -1.39648438e-01 -1.59179688e-01 -1.79443359e-02\n",
            "  2.12402344e-02  7.37304688e-02  1.30859375e-01 -8.05664062e-02\n",
            "  2.99072266e-02  1.55639648e-02 -1.66015625e-01  1.50390625e-01\n",
            " -6.77490234e-03  1.01318359e-02  1.14746094e-01 -1.48437500e-01\n",
            " -4.58984375e-02 -1.39648438e-01 -1.73828125e-01 -4.27246094e-02\n",
            " -5.81054688e-02  5.22460938e-02 -1.11328125e-01  8.44726562e-02\n",
            " -2.55126953e-02  1.40625000e-01 -1.81640625e-01  1.72119141e-02\n",
            " -1.37695312e-01 -1.47705078e-02 -1.14746094e-02  6.44531250e-02\n",
            " -2.89062500e-01 -4.80957031e-02 -1.99218750e-01 -7.12890625e-02\n",
            "  6.44531250e-02 -1.67968750e-01 -2.08740234e-02 -1.42578125e-01]\n"
          ]
        }
      ]
    },
    {
      "cell_type": "markdown",
      "source": [
        "**9) 임베딩 층에 embedding_matix를 초기값으로 설정하고 차원 수가 300이므로 output_dim을 300으로 설정함**<br>\n",
        "&nbsp;&nbsp;&nbsp;&nbsp;     **그리고 사전 훈련된 워드 임베딩을 사용하므로 추가 훈련을 하지 않는다는 의미의 trainable의 인자값을 False로 선택해 훈련**"
      ],
      "metadata": {
        "id": "nAWJ--uzHrcA"
      }
    },
    {
      "cell_type": "code",
      "metadata": {
        "colab": {
          "base_uri": "https://localhost:8080/"
        },
        "id": "VJmqMQ69RwfY",
        "outputId": "ba630b73-d8e7-4dde-ea9b-10d417154f91"
      },
      "source": [
        "from tensorflow.keras.models import Sequential\n",
        "from tensorflow.keras.layers import Dense, Embedding, Flatten, Input\n",
        "\n",
        "model = Sequential()\n",
        "model.add(Input(shape=(max_len,), dtype='int32'))\n",
        "e = Embedding(vocab_size, 300, weights=[embedding_matrix], input_length=max_len, trainable=False)\n",
        "model.add(e)\n",
        "model.add(Flatten())\n",
        "model.add(Dense(1, activation='sigmoid'))\n",
        "model.compile(optimizer='adam', loss='binary_crossentropy', metrics=['acc'])\n",
        "model.fit(X_train, y_train, epochs=100, verbose=2)"
      ],
      "execution_count": null,
      "outputs": [
        {
          "output_type": "stream",
          "name": "stdout",
          "text": [
            "Epoch 1/100\n",
            "1/1 - 0s - loss: 0.7373 - acc: 0.4286\n",
            "Epoch 2/100\n",
            "1/1 - 0s - loss: 0.7183 - acc: 0.4286\n",
            "Epoch 3/100\n",
            "1/1 - 0s - loss: 0.6998 - acc: 0.7143\n",
            "Epoch 4/100\n",
            "1/1 - 0s - loss: 0.6819 - acc: 0.7143\n",
            "Epoch 5/100\n",
            "1/1 - 0s - loss: 0.6644 - acc: 0.7143\n",
            "Epoch 6/100\n",
            "1/1 - 0s - loss: 0.6475 - acc: 0.8571\n",
            "Epoch 7/100\n",
            "1/1 - 0s - loss: 0.6312 - acc: 0.8571\n",
            "Epoch 8/100\n",
            "1/1 - 0s - loss: 0.6153 - acc: 0.8571\n",
            "Epoch 9/100\n",
            "1/1 - 0s - loss: 0.5999 - acc: 0.8571\n",
            "Epoch 10/100\n",
            "1/1 - 0s - loss: 0.5850 - acc: 0.8571\n",
            "Epoch 11/100\n",
            "1/1 - 0s - loss: 0.5706 - acc: 0.8571\n",
            "Epoch 12/100\n",
            "1/1 - 0s - loss: 0.5566 - acc: 0.8571\n",
            "Epoch 13/100\n",
            "1/1 - 0s - loss: 0.5431 - acc: 0.8571\n",
            "Epoch 14/100\n",
            "1/1 - 0s - loss: 0.5300 - acc: 1.0000\n",
            "Epoch 15/100\n",
            "1/1 - 0s - loss: 0.5174 - acc: 1.0000\n",
            "Epoch 16/100\n",
            "1/1 - 0s - loss: 0.5051 - acc: 1.0000\n",
            "Epoch 17/100\n",
            "1/1 - 0s - loss: 0.4932 - acc: 1.0000\n",
            "Epoch 18/100\n",
            "1/1 - 0s - loss: 0.4817 - acc: 1.0000\n",
            "Epoch 19/100\n",
            "1/1 - 0s - loss: 0.4705 - acc: 1.0000\n",
            "Epoch 20/100\n",
            "1/1 - 0s - loss: 0.4597 - acc: 1.0000\n",
            "Epoch 21/100\n",
            "1/1 - 0s - loss: 0.4492 - acc: 1.0000\n",
            "Epoch 22/100\n",
            "1/1 - 0s - loss: 0.4390 - acc: 1.0000\n",
            "Epoch 23/100\n",
            "1/1 - 0s - loss: 0.4291 - acc: 1.0000\n",
            "Epoch 24/100\n",
            "1/1 - 0s - loss: 0.4195 - acc: 1.0000\n",
            "Epoch 25/100\n",
            "1/1 - 0s - loss: 0.4102 - acc: 1.0000\n",
            "Epoch 26/100\n",
            "1/1 - 0s - loss: 0.4012 - acc: 1.0000\n",
            "Epoch 27/100\n",
            "1/1 - 0s - loss: 0.3925 - acc: 1.0000\n",
            "Epoch 28/100\n",
            "1/1 - 0s - loss: 0.3840 - acc: 1.0000\n",
            "Epoch 29/100\n",
            "1/1 - 0s - loss: 0.3757 - acc: 1.0000\n",
            "Epoch 30/100\n",
            "1/1 - 0s - loss: 0.3677 - acc: 1.0000\n",
            "Epoch 31/100\n",
            "1/1 - 0s - loss: 0.3600 - acc: 1.0000\n",
            "Epoch 32/100\n",
            "1/1 - 0s - loss: 0.3524 - acc: 1.0000\n",
            "Epoch 33/100\n",
            "1/1 - 0s - loss: 0.3451 - acc: 1.0000\n",
            "Epoch 34/100\n",
            "1/1 - 0s - loss: 0.3380 - acc: 1.0000\n",
            "Epoch 35/100\n",
            "1/1 - 0s - loss: 0.3311 - acc: 1.0000\n",
            "Epoch 36/100\n",
            "1/1 - 0s - loss: 0.3244 - acc: 1.0000\n",
            "Epoch 37/100\n",
            "1/1 - 0s - loss: 0.3179 - acc: 1.0000\n",
            "Epoch 38/100\n",
            "1/1 - 0s - loss: 0.3115 - acc: 1.0000\n",
            "Epoch 39/100\n",
            "1/1 - 0s - loss: 0.3054 - acc: 1.0000\n",
            "Epoch 40/100\n",
            "1/1 - 0s - loss: 0.2994 - acc: 1.0000\n",
            "Epoch 41/100\n",
            "1/1 - 0s - loss: 0.2936 - acc: 1.0000\n",
            "Epoch 42/100\n",
            "1/1 - 0s - loss: 0.2879 - acc: 1.0000\n",
            "Epoch 43/100\n",
            "1/1 - 0s - loss: 0.2824 - acc: 1.0000\n",
            "Epoch 44/100\n",
            "1/1 - 0s - loss: 0.2771 - acc: 1.0000\n",
            "Epoch 45/100\n",
            "1/1 - 0s - loss: 0.2719 - acc: 1.0000\n",
            "Epoch 46/100\n",
            "1/1 - 0s - loss: 0.2668 - acc: 1.0000\n",
            "Epoch 47/100\n",
            "1/1 - 0s - loss: 0.2619 - acc: 1.0000\n",
            "Epoch 48/100\n",
            "1/1 - 0s - loss: 0.2571 - acc: 1.0000\n",
            "Epoch 49/100\n",
            "1/1 - 0s - loss: 0.2525 - acc: 1.0000\n",
            "Epoch 50/100\n",
            "1/1 - 0s - loss: 0.2479 - acc: 1.0000\n",
            "Epoch 51/100\n",
            "1/1 - 0s - loss: 0.2435 - acc: 1.0000\n",
            "Epoch 52/100\n",
            "1/1 - 0s - loss: 0.2392 - acc: 1.0000\n",
            "Epoch 53/100\n",
            "1/1 - 0s - loss: 0.2350 - acc: 1.0000\n",
            "Epoch 54/100\n",
            "1/1 - 0s - loss: 0.2310 - acc: 1.0000\n",
            "Epoch 55/100\n",
            "1/1 - 0s - loss: 0.2270 - acc: 1.0000\n",
            "Epoch 56/100\n",
            "1/1 - 0s - loss: 0.2231 - acc: 1.0000\n",
            "Epoch 57/100\n",
            "1/1 - 0s - loss: 0.2194 - acc: 1.0000\n",
            "Epoch 58/100\n",
            "1/1 - 0s - loss: 0.2157 - acc: 1.0000\n",
            "Epoch 59/100\n",
            "1/1 - 0s - loss: 0.2121 - acc: 1.0000\n",
            "Epoch 60/100\n",
            "1/1 - 0s - loss: 0.2086 - acc: 1.0000\n",
            "Epoch 61/100\n",
            "1/1 - 0s - loss: 0.2052 - acc: 1.0000\n",
            "Epoch 62/100\n",
            "1/1 - 0s - loss: 0.2019 - acc: 1.0000\n",
            "Epoch 63/100\n",
            "1/1 - 0s - loss: 0.1987 - acc: 1.0000\n",
            "Epoch 64/100\n",
            "1/1 - 0s - loss: 0.1955 - acc: 1.0000\n",
            "Epoch 65/100\n",
            "1/1 - 0s - loss: 0.1924 - acc: 1.0000\n",
            "Epoch 66/100\n",
            "1/1 - 0s - loss: 0.1894 - acc: 1.0000\n",
            "Epoch 67/100\n",
            "1/1 - 0s - loss: 0.1865 - acc: 1.0000\n",
            "Epoch 68/100\n",
            "1/1 - 0s - loss: 0.1836 - acc: 1.0000\n",
            "Epoch 69/100\n",
            "1/1 - 0s - loss: 0.1808 - acc: 1.0000\n",
            "Epoch 70/100\n",
            "1/1 - 0s - loss: 0.1781 - acc: 1.0000\n",
            "Epoch 71/100\n",
            "1/1 - 0s - loss: 0.1754 - acc: 1.0000\n",
            "Epoch 72/100\n",
            "1/1 - 0s - loss: 0.1728 - acc: 1.0000\n",
            "Epoch 73/100\n",
            "1/1 - 0s - loss: 0.1702 - acc: 1.0000\n",
            "Epoch 74/100\n",
            "1/1 - 0s - loss: 0.1677 - acc: 1.0000\n",
            "Epoch 75/100\n",
            "1/1 - 0s - loss: 0.1653 - acc: 1.0000\n",
            "Epoch 76/100\n",
            "1/1 - 0s - loss: 0.1629 - acc: 1.0000\n",
            "Epoch 77/100\n",
            "1/1 - 0s - loss: 0.1606 - acc: 1.0000\n",
            "Epoch 78/100\n",
            "1/1 - 0s - loss: 0.1583 - acc: 1.0000\n",
            "Epoch 79/100\n",
            "1/1 - 0s - loss: 0.1561 - acc: 1.0000\n",
            "Epoch 80/100\n",
            "1/1 - 0s - loss: 0.1539 - acc: 1.0000\n",
            "Epoch 81/100\n",
            "1/1 - 0s - loss: 0.1518 - acc: 1.0000\n",
            "Epoch 82/100\n",
            "1/1 - 0s - loss: 0.1497 - acc: 1.0000\n",
            "Epoch 83/100\n",
            "1/1 - 0s - loss: 0.1477 - acc: 1.0000\n",
            "Epoch 84/100\n",
            "1/1 - 0s - loss: 0.1457 - acc: 1.0000\n",
            "Epoch 85/100\n",
            "1/1 - 0s - loss: 0.1437 - acc: 1.0000\n",
            "Epoch 86/100\n",
            "1/1 - 0s - loss: 0.1418 - acc: 1.0000\n",
            "Epoch 87/100\n",
            "1/1 - 0s - loss: 0.1399 - acc: 1.0000\n",
            "Epoch 88/100\n",
            "1/1 - 0s - loss: 0.1381 - acc: 1.0000\n",
            "Epoch 89/100\n",
            "1/1 - 0s - loss: 0.1363 - acc: 1.0000\n",
            "Epoch 90/100\n",
            "1/1 - 0s - loss: 0.1345 - acc: 1.0000\n",
            "Epoch 91/100\n",
            "1/1 - 0s - loss: 0.1328 - acc: 1.0000\n",
            "Epoch 92/100\n",
            "1/1 - 0s - loss: 0.1311 - acc: 1.0000\n",
            "Epoch 93/100\n",
            "1/1 - 0s - loss: 0.1294 - acc: 1.0000\n",
            "Epoch 94/100\n",
            "1/1 - 0s - loss: 0.1278 - acc: 1.0000\n",
            "Epoch 95/100\n",
            "1/1 - 0s - loss: 0.1262 - acc: 1.0000\n",
            "Epoch 96/100\n",
            "1/1 - 0s - loss: 0.1247 - acc: 1.0000\n",
            "Epoch 97/100\n",
            "1/1 - 0s - loss: 0.1231 - acc: 1.0000\n",
            "Epoch 98/100\n",
            "1/1 - 0s - loss: 0.1216 - acc: 1.0000\n",
            "Epoch 99/100\n",
            "1/1 - 0s - loss: 0.1201 - acc: 1.0000\n",
            "Epoch 100/100\n",
            "1/1 - 0s - loss: 0.1187 - acc: 1.0000\n"
          ]
        },
        {
          "output_type": "execute_result",
          "data": {
            "text/plain": [
              "<keras.callbacks.History at 0x7ff3e73e8210>"
            ]
          },
          "metadata": {},
          "execution_count": 40
        }
      ]
    }
  ]
}